{
 "cells": [
  {
   "cell_type": "markdown",
   "id": "03325277",
   "metadata": {},
   "source": [
    "Numpy(넘파이)\n",
    "===\n",
    "---"
   ]
  },
  {
   "cell_type": "markdown",
   "id": "f5c6b22e",
   "metadata": {},
   "source": [
    "## 1. \"Numpy\" 에 대하여\n",
    "- 다차원 배열 객체, 다양한 파생 객체(예: 마스크된 배열 및 행렬) 및 수학적, 논리, 모양 조작, 정렬, 선택, I/O를 포함한 배열에 대한 빠른 작업을 위한 일련의 루틴을 제공하는 Python 라이브러리.\n",
    "- NumPy 배열은 많은 수의 데이터에 대한 **고급 수학 및 기타 유형의 연산에 용이**.(Python 내장 시퀸스보다 빠르다.)\n",
    "- NumPy 배열 클래스는 **ndarray**.\n",
    "- Numpy 배열의 모든 element는 같은 데이터 타입이어야 한다.\n",
    "***"
   ]
  },
  {
   "cell_type": "code",
   "execution_count": 2,
   "id": "16f8c47d",
   "metadata": {},
   "outputs": [],
   "source": [
    "import numpy as np  # np로 numpy 임포트"
   ]
  },
  {
   "cell_type": "markdown",
   "id": "8379ab3e",
   "metadata": {},
   "source": [
    "## 2. 배열(Array) 생성\n",
    "#### 1) 파이썬 리스트를 통해 생성"
   ]
  },
  {
   "cell_type": "code",
   "execution_count": 19,
   "id": "e1d566d2",
   "metadata": {},
   "outputs": [],
   "source": [
    "array1 = np.array([1, 2, 3, 4, 5, 6])  # 1차원 배열 생성\n",
    "array2 = np.array([[1, 2, 3, 4], [5, 6, 7, 8], [9, 10, 11, 12]])  # 2차원 배열 생성"
   ]
  },
  {
   "cell_type": "code",
   "execution_count": 20,
   "id": "f79c0f8e",
   "metadata": {},
   "outputs": [
    {
     "name": "stdout",
     "output_type": "stream",
     "text": [
      "1 [1 2 3 4]\n"
     ]
    }
   ],
   "source": [
    "print(array1[0], array2[0])"
   ]
  },
  {
   "cell_type": "markdown",
   "id": "ae660973",
   "metadata": {},
   "source": [
    "#### 2) 동일한 값을 가진 array 생성"
   ]
  },
  {
   "cell_type": "code",
   "execution_count": 24,
   "id": "98f17193",
   "metadata": {
    "scrolled": true
   },
   "outputs": [
    {
     "data": {
      "text/plain": [
       "array([[7, 7, 7, 7],\n",
       "       [7, 7, 7, 7]])"
      ]
     },
     "execution_count": 24,
     "metadata": {},
     "output_type": "execute_result"
    }
   ],
   "source": [
    "array_full_of_7 = np.full((2,4), 7)  # parameter : array_size, element -> 모든 원소가 7인 (2행, 4열)의 배열 생성\n",
    "array_full_of_7"
   ]
  },
  {
   "cell_type": "markdown",
   "id": "9ccd499c",
   "metadata": {},
   "source": [
    "#### 3) 모든 값이 0(1)인 배열 생성"
   ]
  },
  {
   "cell_type": "code",
   "execution_count": 73,
   "id": "c9b1324d",
   "metadata": {
    "scrolled": false
   },
   "outputs": [
    {
     "name": "stdout",
     "output_type": "stream",
     "text": [
      "[0 0 0 0 0 0 0]\n",
      "[0 0 0 0 0 0 0]\n",
      "[[0. 0. 0.]\n",
      " [0. 0. 0.]]\n",
      "[[1. 1. 1.]\n",
      " [1. 1. 1.]\n",
      " [1. 1. 1.]]\n"
     ]
    }
   ],
   "source": [
    "array_of_0_1 = np.full(7, 0)  # 2번 방법 이용\n",
    "array_of_0_2 = np.zeros(7, dtype = int)  # dtype 키워드 -> 데이터 유형 지정\n",
    "array_of_0_3 = np.zeros((2,3))  # 다차원 배열\n",
    "array_of_1 = np.ones((3,3))  # 모든 값이 1인 배열\n",
    "\n",
    "print(array_of_0_1)\n",
    "print(array_of_0_2)\n",
    "print(array_of_0_3)\n",
    "print(array_of_1)"
   ]
  },
  {
   "cell_type": "markdown",
   "id": "8fc84d00",
   "metadata": {},
   "source": [
    "#### 4) 랜덤한 값들로 배열 생성"
   ]
  },
  {
   "cell_type": "code",
   "execution_count": 30,
   "id": "e754405c",
   "metadata": {
    "scrolled": false
   },
   "outputs": [
    {
     "name": "stdout",
     "output_type": "stream",
     "text": [
      "[0.48674348 0.20178174 0.94804904 0.13198997 0.63018431 0.14576127]\n",
      "[0.94657008 0.97676765 0.55063019 0.16800568 0.10911854 0.46207523]\n"
     ]
    }
   ],
   "source": [
    "array_random1 = np.random.random(6)  # numpy 모듈 안에 있는 random 모듈에서, random 함수 사용\n",
    "array_random2 = np.random.random(6)\n",
    "\n",
    "print(array_random1)\n",
    "print(array_random2)"
   ]
  },
  {
   "cell_type": "markdown",
   "id": "f45d20dd",
   "metadata": {},
   "source": [
    "#### 5) 연속된 값들이 담긴 배열 생성"
   ]
  },
  {
   "cell_type": "code",
   "execution_count": 32,
   "id": "1375cf71",
   "metadata": {},
   "outputs": [
    {
     "name": "stdout",
     "output_type": "stream",
     "text": [
      "[0 1 2 3 4 5]\n",
      "[2 3 4 5 6 7]\n",
      "[1 4 7]\n"
     ]
    }
   ],
   "source": [
    "array_p1 = numpy.arange(6)  # arange(m) : 0부터 m - 1까지의 값들이 담긴 배열 생성\n",
    "print(array_p1)\n",
    "\n",
    "array_p2 = numpy.arange(2, 8)  # arange(n, m) : n부터 m - 1까지의 값들이 담긴 배열 생성\n",
    "print(array_p2)\n",
    "\n",
    "array_p3 = numpy.arange(1, 10, 3)  # arange(n, ,m, s) : n부터 m - 1까지의 값들 중 간격이 s인 값들이 담긴 배열 생성\n",
    "print(array_p3)"
   ]
  },
  {
   "cell_type": "markdown",
   "id": "d15743e1",
   "metadata": {},
   "source": [
    "#### 6) 선형 간격을 둔 값들이 담긴 배열 생성"
   ]
  },
  {
   "cell_type": "code",
   "execution_count": 39,
   "id": "9c7c47ed",
   "metadata": {
    "scrolled": false
   },
   "outputs": [
    {
     "name": "stdout",
     "output_type": "stream",
     "text": [
      "[ 0.  2.  4.  6.  8. 10.]\n"
     ]
    }
   ],
   "source": [
    "array_linear_space = np.linspace(0, 10, 6)  # linspace(n, m, s) : n ~ m까지를 선형 간격 s로 나눈 element들을 담은 배열 생성\n",
    "print(array_linear_space)"
   ]
  },
  {
   "cell_type": "markdown",
   "id": "74462528",
   "metadata": {},
   "source": [
    "#### 7) 2D 단위 행렬 생성"
   ]
  },
  {
   "cell_type": "code",
   "execution_count": 53,
   "id": "60b71e8c",
   "metadata": {},
   "outputs": [
    {
     "name": "stdout",
     "output_type": "stream",
     "text": [
      "[[1. 0. 0.]\n",
      " [0. 1. 0.]\n",
      " [0. 0. 1.]]\n",
      "[[0. 1. 0. 0. 0.]\n",
      " [0. 0. 1. 0. 0.]\n",
      " [0. 0. 0. 1. 0.]\n",
      " [0. 0. 0. 0. 1.]]\n"
     ]
    }
   ],
   "source": [
    "array_eye1 = np.eye(3)  # 단위 행렬 생성\n",
    "array_eye2 = np.eye(4, 5, 1)  # eye(N, M, k ,etc..) : N - 행의 개수, M - 열의 개수, k - diagonal이 시작되는 index\n",
    "print(array_eye1)\n",
    "print(array_eye2)"
   ]
  },
  {
   "cell_type": "markdown",
   "id": "29fd0b40",
   "metadata": {},
   "source": [
    "#### 8) 2D 대각 행렬 생성"
   ]
  },
  {
   "cell_type": "code",
   "execution_count": 69,
   "id": "2d6e2506",
   "metadata": {},
   "outputs": [
    {
     "name": "stdout",
     "output_type": "stream",
     "text": [
      "[[1 0 0 0]\n",
      " [0 2 0 0]\n",
      " [0 0 3 0]\n",
      " [0 0 0 4]]\n",
      "[1 5 9]\n"
     ]
    }
   ],
   "source": [
    "array_diag1 = np.diag([1,2,3,4])  # 1차원 배열 -> 2차원 배열\n",
    "array_diag2 = np.diag([[1,2,3],[4,5,6],[7,8,9]])  # 2차원 배열 -> 1차원 배열\n",
    "\n",
    "print(array_diag1)\n",
    "print(array_diag2)"
   ]
  },
  {
   "cell_type": "markdown",
   "id": "7069b598",
   "metadata": {},
   "source": [
    "#### 9) 방데르몽드(Vandermonde) 행렬 생성\n",
    ": 각 행의 초항이 1인 등비수열로 구성된 행렬"
   ]
  },
  {
   "cell_type": "code",
   "execution_count": 76,
   "id": "6323d0e8",
   "metadata": {
    "scrolled": false
   },
   "outputs": [
    {
     "name": "stdout",
     "output_type": "stream",
     "text": [
      "[[  1   1   1   1   1]\n",
      " [ 16   8   4   2   1]\n",
      " [ 81  27   9   3   1]\n",
      " [256  64  16   4   1]]\n"
     ]
    }
   ],
   "source": [
    "array_van = np.vander((1, 2, 3, 4), 5)\n",
    "\n",
    "print(array_van)"
   ]
  },
  {
   "cell_type": "markdown",
   "id": "a1230dc2",
   "metadata": {},
   "source": [
    "---"
   ]
  },
  {
   "cell_type": "markdown",
   "id": "26779fe1",
   "metadata": {},
   "source": [
    "## 3. 기존 배열 변형 / 복제 / 결합\n",
    "#### 1) 기존 배열의 변형"
   ]
  },
  {
   "cell_type": "code",
   "execution_count": 84,
   "id": "48e7242c",
   "metadata": {
    "scrolled": true
   },
   "outputs": [
    {
     "name": "stdout",
     "output_type": "stream",
     "text": [
      "[1 2 3]\n",
      "origin = [2 3 4 4 5 6], part = [2 3 4]\n"
     ]
    }
   ],
   "source": [
    "array_origin = np.array([1, 2, 3, 4, 5, 6])\n",
    "array_part = array_origin[:3]  # 기존의 배열을 복사하는 것이 아니라, 일부분만 가져오는 것이다!\n",
    "print(array_part)\n",
    "\n",
    "array_part += 1  # array_part에 1을 더하고 싶을 뿐인데,\n",
    "print(f'origin = {array_origin}, part = {array_part}')  # array_origin에서 0~2 인덱스에 있는 요소들까지 1이 더해지는 것을 볼 수 있다."
   ]
  },
  {
   "cell_type": "markdown",
   "id": "e1985d7c",
   "metadata": {},
   "source": [
    "#### 2) 기존 배열의 복제"
   ]
  },
  {
   "cell_type": "code",
   "execution_count": 87,
   "id": "9de2271d",
   "metadata": {
    "scrolled": true
   },
   "outputs": [
    {
     "name": "stdout",
     "output_type": "stream",
     "text": [
      "origin = [1 2 3 4 5 6], part = [2 3 4]\n"
     ]
    }
   ],
   "source": [
    "array_origin = np.array([1, 2, 3, 4, 5, 6])\n",
    "array_duplicate = array_origin[:3].copy()  # 기존 배열을 복제한다.\n",
    "\n",
    "array_duplicate += 1\n",
    "print(f'origin = {array_origin}, part = {array_duplicate}')  # 두 배열이 별개의 객체가 되었다.\n",
    "\n",
    "array_flatten = array_origin.flatten"
   ]
  },
  {
   "cell_type": "markdown",
   "id": "64392631",
   "metadata": {},
   "source": [
    "#### 3) flatten 과 ravel의 차이 (두 메소드 모두 1차원 배열로 만들어준다.)"
   ]
  },
  {
   "cell_type": "code",
   "execution_count": 237,
   "id": "6677e442",
   "metadata": {},
   "outputs": [
    {
     "name": "stdout",
     "output_type": "stream",
     "text": [
      "[[1 2 3]\n",
      " [7 8 9]\n",
      " [4 5 6]] [0 2 3 7 8 9 4 5 6]\n",
      "[[0 2 3]\n",
      " [7 8 9]\n",
      " [4 5 6]] [0 2 3 7 8 9 4 5 6]\n"
     ]
    }
   ],
   "source": [
    "array_origin = np.array([[1, 2, 3], [7, 8, 9], [4, 5, 6]])  # 원본 배열\n",
    "\n",
    "array_flatten = array_origin.flatten()  # flatten의 경우, 새 배열을 변경해도 상위 배열은 불변한다. (복사본)\n",
    "array_flatten[0] = 0\n",
    "print(array_origin, array_flatten)\n",
    "\n",
    "array_ravel = array_origin.ravel()  # ravel의 경우, 새 배열을 변경하면 상위 배열도 변한다. (원본의 변형)\n",
    "array_ravel[0] = 0\n",
    "print(array_origin, array_ravel)       "
   ]
  },
  {
   "cell_type": "markdown",
   "id": "a4c9bb69",
   "metadata": {},
   "source": [
    "#### 4) 기존 배열의 결합 (vstack, hstack, block, concatenate)"
   ]
  },
  {
   "cell_type": "code",
   "execution_count": 4,
   "id": "c87add65",
   "metadata": {
    "scrolled": true
   },
   "outputs": [],
   "source": [
    "array1 = np.array([1, 2, 3])  # 배열 선언\n",
    "array2 = np.array([4, 5, 6])\n",
    "array3 = np.array([7, 8, 9])\n",
    "\n",
    "array4 = np.array([[1], [2], [3]])\n",
    "array5 = np.array([[4], [5], [6]])"
   ]
  },
  {
   "cell_type": "code",
   "execution_count": 12,
   "id": "382c5b38",
   "metadata": {},
   "outputs": [
    {
     "name": "stdout",
     "output_type": "stream",
     "text": [
      "[[1 2 3]\n",
      " [4 5 6]\n",
      " [7 8 9]]\n",
      "[[1]\n",
      " [2]\n",
      " [3]\n",
      " [4]\n",
      " [5]\n",
      " [6]]\n"
     ]
    }
   ],
   "source": [
    "array_vstack1 = np.vstack((array1, array2, array3))  # vstack : 배열을 열 방향으로 쌓는다.\n",
    "print(array_vstack1)\n",
    "\n",
    "array_vstack2 = np.vstack((array4, array5))\n",
    "print(array_vstack2)"
   ]
  },
  {
   "cell_type": "code",
   "execution_count": 11,
   "id": "38d50e65",
   "metadata": {},
   "outputs": [
    {
     "name": "stdout",
     "output_type": "stream",
     "text": [
      "[1 2 3 4 5 6 7 8 9]\n",
      "[[1 4]\n",
      " [2 5]\n",
      " [3 6]]\n"
     ]
    }
   ],
   "source": [
    "array_hstack1 = np.hstack((array1, array2, array3))  # vstack : 배열을 행 방향으로 쌓는다.\n",
    "print(array_hstack1)\n",
    "\n",
    "array_hstack2 = np.hstack((array4, array5))\n",
    "print(array_hstack2)"
   ]
  },
  {
   "cell_type": "code",
   "execution_count": 146,
   "id": "f9d3cc69",
   "metadata": {
    "scrolled": true
   },
   "outputs": [
    {
     "name": "stdout",
     "output_type": "stream",
     "text": [
      "[[2. 0. 0. 0. 0.]\n",
      " [0. 2. 0. 0. 0.]\n",
      " [1. 1. 3. 0. 0.]\n",
      " [1. 1. 0. 3. 0.]\n",
      " [1. 1. 0. 0. 3.]]\n"
     ]
    }
   ],
   "source": [
    "A = np.eye(2) * 2  \n",
    "B = np.eye(3) * 3\n",
    "array_block = np.block([\n",
    "    [A,               np.zeros((2, 3))],  # block : 배열을 조립해준다.\n",
    "    [np.ones((3, 2)), B               ]\n",
    "])\n",
    "print(array_block)"
   ]
  },
  {
   "cell_type": "code",
   "execution_count": 152,
   "id": "a5769219",
   "metadata": {
    "scrolled": true
   },
   "outputs": [
    {
     "name": "stdout",
     "output_type": "stream",
     "text": [
      "[[1 2]\n",
      " [3 4]\n",
      " [5 6]]\n"
     ]
    }
   ],
   "source": [
    "array1 = np.array([[1, 2], [3, 4]])\n",
    "array2 = np.array([[5, 6]])\n",
    "\n",
    "array3 = np.concatenate((array1, array2), axis = 0)\n",
    "print(array3)"
   ]
  },
  {
   "cell_type": "markdown",
   "id": "6d966c9f",
   "metadata": {},
   "source": [
    "---"
   ]
  },
  {
   "cell_type": "markdown",
   "id": "e8ead039",
   "metadata": {},
   "source": [
    "## 4. 배열의 정렬\n",
    "#### .sort() 메소드"
   ]
  },
  {
   "cell_type": "code",
   "execution_count": 140,
   "id": "805193f2",
   "metadata": {},
   "outputs": [
    {
     "name": "stdout",
     "output_type": "stream",
     "text": [
      "[1 2 3 4 5 6 7 8] [2 3 4 5 6 7 8 9]\n",
      "[0 1 1 2 2 3 3 4 5 6 7 8]\n",
      "[[0 1 2 3]\n",
      " [1 4 2 3]\n",
      " [7 5 8 6]]\n",
      "[[1 2 3 4]\n",
      " [5 6 7 8]\n",
      " [0 1 2 3]]\n"
     ]
    }
   ],
   "source": [
    "array1 = np.array([2, 1, 5, 3, 7, 4, 6, 8])  # 1차원 배열\n",
    "\n",
    "array_sorted = np.sort(array1)  # 기존 배열의 정렬된 \"복사본\" 배열을 반환\n",
    "array_sorted += 1  # 복사본에 1을 \n",
    "\n",
    "np.ndarray.sort(array1)  # 제자리 정렬 (array1 자체를 정렬한다.)\n",
    "\n",
    "print(array1, array_sorted)  \n",
    "\n",
    "array2 = np.array([[1,4,2,3],[7,5,8,6], [0,1,2,3]])  # 2차원 배열\n",
    "\n",
    "array_F = np.sort(array3, axis = None)  # 정렬 후 flatten\n",
    "array_UD = np.sort(array3, axis = 0)  # 위에서 아래로 정렬\n",
    "array_LR = np.sort(array3, axis = 1)  # 좌에서 우로 정렬 (= np.sort(array))\n",
    "\n",
    "print(array_F)  # axis = None\n",
    "print(array_UD)  # axis = 0\n",
    "print(array_LR)  # axis = 1"
   ]
  },
  {
   "cell_type": "markdown",
   "id": "87c55a66",
   "metadata": {},
   "source": [
    "---"
   ]
  },
  {
   "cell_type": "markdown",
   "id": "b8d67793",
   "metadata": {},
   "source": [
    "## 5. 배열의 모양과 크기\n",
    "#### .ndim, .size, .shape"
   ]
  },
  {
   "cell_type": "code",
   "execution_count": 155,
   "id": "d07c6a73",
   "metadata": {
    "scrolled": true
   },
   "outputs": [
    {
     "name": "stdout",
     "output_type": "stream",
     "text": [
      "Dimension : 3\n",
      "The number of elements : 24\n",
      "Shape : (3, 2, 4)\n"
     ]
    }
   ],
   "source": [
    "array_example = np.array([[[0, 1, 2, 3],\n",
    "                           [4, 5, 6, 7]],\n",
    "\n",
    "                          [[0, 1, 2, 3],\n",
    "                           [4, 5, 6, 7]],\n",
    "\n",
    "                          [[0 ,1 ,2, 3],\n",
    "                           [4, 5, 6, 7]]])\n",
    "\n",
    "print(f'Dimension : {array_example.ndim}')  # 차원\n",
    "print(f'The number of elements : {array_example.size}')  # 총 요소 수\n",
    "print(f'Shape : {array_example.shape}')  # 모양"
   ]
  },
  {
   "cell_type": "markdown",
   "id": "d90290c0",
   "metadata": {},
   "source": [
    "---"
   ]
  },
  {
   "cell_type": "markdown",
   "id": "9c81a3e6",
   "metadata": {},
   "source": [
    "## 6. 배열의 재구성"
   ]
  },
  {
   "cell_type": "code",
   "execution_count": 163,
   "id": "d1ca2dfb",
   "metadata": {},
   "outputs": [
    {
     "name": "stdout",
     "output_type": "stream",
     "text": [
      "[ 1  2  3  4  5  6  7  8  9 10 11 12]\n",
      "[[ 1  2  3  4]\n",
      " [ 5  6  7  8]\n",
      " [ 9 10 11 12]]\n"
     ]
    }
   ],
   "source": [
    "array_example = np.arange(1, 13)\n",
    "array_reshaped = array_example.reshape(3, 4)  # rows / columns (= np.reshape(array_example, newshape = (3, 4)) )\n",
    "print(array_example)\n",
    "print(array_reshaped)"
   ]
  },
  {
   "cell_type": "markdown",
   "id": "d6e165f3",
   "metadata": {},
   "source": [
    "---"
   ]
  },
  {
   "cell_type": "markdown",
   "id": "2b612f17",
   "metadata": {},
   "source": [
    "## 7. 배열 인덱싱(Indexing) 및 슬라이싱(Slicing)"
   ]
  },
  {
   "cell_type": "code",
   "execution_count": 174,
   "id": "eb8024bc",
   "metadata": {
    "scrolled": true
   },
   "outputs": [
    {
     "name": "stdout",
     "output_type": "stream",
     "text": [
      "2 [1 2 3] [4 5 6]\n"
     ]
    }
   ],
   "source": [
    "data = np.array([1, 2, 3, 4, 5, 6])\n",
    "\n",
    "print(data[1], data[:3], data[-3:])  # 인덱싱 (여기서 인덱싱된 부분은 원본 배열의 일부분이다. 복사본 X)"
   ]
  },
  {
   "cell_type": "code",
   "execution_count": 243,
   "id": "2dd351c0",
   "metadata": {
    "scrolled": true
   },
   "outputs": [
    {
     "name": "stdout",
     "output_type": "stream",
     "text": [
      "4\n",
      "4\n",
      "[1 5 9]\n",
      "[1 2 3 4]\n",
      "[[False  True False  True]\n",
      " [False  True False  True]\n",
      " [False  True False  True]]\n",
      "[ 2  4  6  8 10 12]\n"
     ]
    }
   ],
   "source": [
    "a = np.array([[1, 2, 3, 4], \n",
    "              [5, 6, 7, 8], \n",
    "              [9, 10, 11, 12]])\n",
    "\n",
    "print(a[0,3])  # 0행 3열에 있는 요소\n",
    "print(a[0][3])   # 위와 동일\n",
    "\n",
    "print(a[:, 0])  # 모든 행의 0번째 열에 있는 요소\n",
    "\n",
    "print(a[a < 5])   # 조건으로 인덱싱하기\n",
    "\n",
    "divisible_by_two_array = a % 2 == 0  # Boolean 값을 담은 배열이 반환된다.\n",
    "\n",
    "divisible_by_two = a[a % 2 == 0]  # a 배열에서 Boolean 값이 True인 요소만 출력된다.\n",
    "\n",
    "print(divisible_by_two_array)\n",
    "\n",
    "print(divisible_by_two)"
   ]
  },
  {
   "cell_type": "markdown",
   "id": "bd3195b0",
   "metadata": {},
   "source": [
    "---"
   ]
  },
  {
   "cell_type": "markdown",
   "id": "3b35ca2a",
   "metadata": {},
   "source": [
    "## 8. 배열의 기본 연산\n",
    "#### 1) 사칙연산"
   ]
  },
  {
   "cell_type": "code",
   "execution_count": 190,
   "id": "d801d7d4",
   "metadata": {
    "scrolled": true
   },
   "outputs": [
    {
     "name": "stdout",
     "output_type": "stream",
     "text": [
      "[0 0 0 0 0]\n",
      "[ 2  4  6  8 10]\n",
      "[ -1  -4  -9 -16 -25]\n",
      "[ 5 10 15 20 25]\n",
      "[-1. -1. -1. -1. -1.]\n"
     ]
    }
   ],
   "source": [
    "data1 = np.array([1, 2, 3, 4, 5])\n",
    "data2 = np.array([-1, -2, -3, -4, -5])\n",
    "\n",
    "print(data1 + data2)  # 더하기\n",
    "print(data1 - data2)  # 빼기  \n",
    "print(data1 * data2)  # 곱하기\n",
    "print(data1 * 5)  # 스칼라 곱\n",
    "print(data1 / data2)  # 나누기"
   ]
  },
  {
   "cell_type": "markdown",
   "id": "e81b677f",
   "metadata": {},
   "source": [
    "#### 2) 요소들의 합"
   ]
  },
  {
   "cell_type": "code",
   "execution_count": 199,
   "id": "7cc1b22b",
   "metadata": {
    "scrolled": false
   },
   "outputs": [
    {
     "name": "stdout",
     "output_type": "stream",
     "text": [
      "5050\n",
      "[[ 1  2  3  4]\n",
      " [ 5  6  7  8]\n",
      " [ 9 10 11 12]]\n",
      "78\n",
      "[15 18 21 24]\n",
      "[10 26 42]\n"
     ]
    }
   ],
   "source": [
    "data1 = np.arange(1,101)\n",
    "print(data1.sum())  # 1부터 101까지의 합\n",
    "\n",
    "data2 = np.arange(1, 13).reshape(3, 4)\n",
    "print(data2)\n",
    "\n",
    "print(data2.sum(axis = None))  # 요소들의 총합\n",
    "print(data2.sum(axis = 0))  # Up-to-down (열)\n",
    "print(data2.sum(axis = 1))  # Left-to-right (행)"
   ]
  },
  {
   "cell_type": "markdown",
   "id": "1a843f77",
   "metadata": {},
   "source": [
    "#### 3) 최대(max), 최소(min), 평균(mean), 요소들 간의 곱(prod), 표준편차(std)"
   ]
  },
  {
   "cell_type": "code",
   "execution_count": 203,
   "id": "10963c41",
   "metadata": {
    "scrolled": true
   },
   "outputs": [
    {
     "name": "stdout",
     "output_type": "stream",
     "text": [
      "[0.54627315 0.82485143 0.40067661 0.56917101]\n",
      "[0.17296777 0.05093587 0.12697628]\n",
      "[0.37459419 0.34958502 0.33678154 0.55889871]\n",
      "[0.01476228 0.00620385 0.01585143]\n",
      "0.21392120766089617\n"
     ]
    }
   ],
   "source": [
    "data = np.array([[0.45053314, 0.17296777, 0.34376245, 0.5510652],\n",
    "                 [0.54627315, 0.05093587, 0.40067661, 0.55645993],\n",
    "                 [0.12697628, 0.82485143, 0.26590556, 0.56917101]])\n",
    "print(data.max(axis = 0))  # 최대(axis = 0 -> 열)\n",
    "print(data.min(axis = 1))  # 최소(axis = 1 -> 행)\n",
    "print(data.mean(axis = 0))  # 평균(열)\n",
    "print(data.prod(axis = 1))  # 요소들 간의 곱(행)\n",
    "print(data.std(axis = None))  # 모든 요소들의 표준편차"
   ]
  },
  {
   "cell_type": "markdown",
   "id": "22ce6cf8",
   "metadata": {},
   "source": [
    "---"
   ]
  },
  {
   "cell_type": "markdown",
   "id": "882933b2",
   "metadata": {},
   "source": [
    "## 9. 고유 아이템과 개수 구하기"
   ]
  },
  {
   "cell_type": "code",
   "execution_count": 224,
   "id": "e319a145",
   "metadata": {
    "scrolled": true
   },
   "outputs": [
    {
     "name": "stdout",
     "output_type": "stream",
     "text": [
      "[11 12 13 14 15 16 17 18 19 20]\n",
      "[11 12 13 14 15 16 17 18 19 20] [ 0  2  3  4  5  6  7 12 13 14]\n",
      "[3 2 2 2 1 1 1 1 1 1]\n"
     ]
    }
   ],
   "source": [
    "data = np.array([11, 11, 12, 13, 14, 15, 16, 17, 12, 13, 11, 14, 18, 19, 20])\n",
    "\n",
    "unique_values = np.unique(data)  # 고유 아이템 종류 반환\n",
    "print(unique_values)\n",
    "\n",
    "unique_values, indices_list = np.unique(data, return_index = True)  # 고유 아이템 종류와 고유값의 인덱스(처음 나오는 인덱스) 반환\n",
    "print(unique_values, indices_list)\n",
    "\n",
    "unique_values, occurrence_count = np.unique(data, return_counts = True)  # 고유 아이템 종류와 고유값의 빈도 수 반환\n",
    "print(occurrence_count)"
   ]
  },
  {
   "cell_type": "markdown",
   "id": "f220c4c5",
   "metadata": {},
   "source": [
    "---"
   ]
  },
  {
   "cell_type": "markdown",
   "id": "9c13291e",
   "metadata": {},
   "source": [
    "## 10. 행렬의 전치 및 변형\n",
    "#### 1) 행렬의 전치(Transpose)"
   ]
  },
  {
   "cell_type": "code",
   "execution_count": 226,
   "id": "3c2614e9",
   "metadata": {},
   "outputs": [
    {
     "name": "stdout",
     "output_type": "stream",
     "text": [
      "[[0 1 2]\n",
      " [3 4 5]]\n",
      "[[0 3]\n",
      " [1 4]\n",
      " [2 5]]\n"
     ]
    }
   ],
   "source": [
    "array1 = np.arange(6).reshape(2, 3)\n",
    "print(array1)\n",
    "\n",
    "array_transposed = array1.transpose()\n",
    "print(array_transposed)"
   ]
  },
  {
   "cell_type": "markdown",
   "id": "fcfd61cd",
   "metadata": {},
   "source": [
    "#### 2) 배열 뒤집기"
   ]
  },
  {
   "cell_type": "markdown",
   "id": "60a3c844",
   "metadata": {
    "scrolled": false
   },
   "source": [
    "array1 = np.array([1, 3, 2, 4, 5, 6, 8, 7])  # 1차원 행렬\n",
    "array1_rev = np.flip(array1)  # 행렬 뒤집기\n",
    "print(array_rev)\n",
    "\n",
    "array2 = np.array([[1, 2, 3, 4], [5, 6, 7, 8], [9, 10, 11, 12]])  # 2차원 행렬\n",
    "array2_rev_all = np.flip(array2)  # 모든 행과 열의 내용 뒤집기\n",
    "array2_rev_row = np.flip(array2, axis = 0)  # 행의 내용 뒤집기\n",
    "array2_rev_col = np.flip(array2, axis = 1)  # 열의 내용 뒤집기\n",
    "\n",
    "print(f'all : {array2_rev_all}')\n",
    "print(f'row : {array2_rev_row}')\n",
    "print(f'col : {array2_rev_col}')"
   ]
  },
  {
   "cell_type": "markdown",
   "id": "27f6ed8b",
   "metadata": {},
   "source": [
    "---"
   ]
  },
  {
   "cell_type": "markdown",
   "id": "5b3db5f3",
   "metadata": {},
   "source": [
    "## 11. Docstring 접근"
   ]
  },
  {
   "cell_type": "code",
   "execution_count": 241,
   "id": "a99017c6",
   "metadata": {
    "scrolled": false
   },
   "outputs": [
    {
     "name": "stdout",
     "output_type": "stream",
     "text": [
      "Help on built-in function max in module builtins:\n",
      "\n",
      "max(...)\n",
      "    max(iterable, *[, default=obj, key=func]) -> value\n",
      "    max(arg1, arg2, *args, *[, key=func]) -> value\n",
      "    \n",
      "    With a single iterable argument, return its biggest item. The\n",
      "    default keyword-only argument specifies an object to return if\n",
      "    the provided iterable is empty.\n",
      "    With two or more arguments, return the largest argument.\n",
      "\n"
     ]
    }
   ],
   "source": [
    "help(max)"
   ]
  },
  {
   "cell_type": "code",
   "execution_count": 242,
   "id": "e6901e3f",
   "metadata": {},
   "outputs": [],
   "source": [
    "max?"
   ]
  }
 ],
 "metadata": {
  "kernelspec": {
   "display_name": "Python 3 (ipykernel)",
   "language": "python",
   "name": "python3"
  },
  "language_info": {
   "codemirror_mode": {
    "name": "ipython",
    "version": 3
   },
   "file_extension": ".py",
   "mimetype": "text/x-python",
   "name": "python",
   "nbconvert_exporter": "python",
   "pygments_lexer": "ipython3",
   "version": "3.9.7"
  }
 },
 "nbformat": 4,
 "nbformat_minor": 5
}
