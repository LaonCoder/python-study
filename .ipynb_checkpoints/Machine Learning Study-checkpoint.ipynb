{
 "cells": [
  {
   "cell_type": "markdown",
   "id": "b8f61a17",
   "metadata": {},
   "source": [
    "머신러닝(Machine Learning)\n",
    "===\n",
    "- 기계학습(데이터를 통해 기계가 스스로 학습하게 하는 방법)\n",
    "- \"경험\"을 통해 자동으로 개선(학습)하는 컴퓨터 알고리즘 연구이다."
   ]
  },
  {
   "cell_type": "markdown",
   "id": "5a26a00e",
   "metadata": {},
   "source": [
    "---"
   ]
  },
  {
   "cell_type": "code",
   "execution_count": 1,
   "id": "39015cac",
   "metadata": {},
   "outputs": [],
   "source": [
    "import numpy as np\n",
    "import pandas as pd\n",
    "import matplotlib.pyplot as plt"
   ]
  },
  {
   "cell_type": "markdown",
   "id": "c16ce453",
   "metadata": {},
   "source": [
    "## 1. Numpy로 행렬 다루기"
   ]
  },
  {
   "cell_type": "code",
   "execution_count": 15,
   "id": "e4efc4cf",
   "metadata": {},
   "outputs": [
    {
     "name": "stdout",
     "output_type": "stream",
     "text": [
      "(4, 3)\n",
      "2\n"
     ]
    }
   ],
   "source": [
    "A = np.array([\n",
    "    [1, -1, 2],\n",
    "    [3, 2, 2],\n",
    "    [4, 1, 2],\n",
    "    [7, 5, 6]\n",
    "])\n",
    "\n",
    "print(A.shape)  # 4행 3열인 행렬 A\n",
    "print(A[0][2])  # 행렬에서 원소 추출"
   ]
  },
  {
   "cell_type": "code",
   "execution_count": 8,
   "id": "7f3a42c1",
   "metadata": {
    "scrolled": false
   },
   "outputs": [
    {
     "data": {
      "text/plain": [
       "array([[0.53134111, 0.68490847, 0.64325906, 0.72870813, 0.92973671],\n",
       "       [0.82279188, 0.25966504, 0.6516848 , 0.25227316, 0.10907943],\n",
       "       [0.66780735, 0.64829662, 0.44850245, 0.91505406, 0.35489988]])"
      ]
     },
     "execution_count": 8,
     "metadata": {},
     "output_type": "execute_result"
    }
   ],
   "source": [
    "B = np.random.rand(3, 5)\n",
    "B"
   ]
  },
  {
   "cell_type": "markdown",
   "id": "229636ff",
   "metadata": {},
   "source": [
    "#### 1) 행렬의 요소별 곱하기"
   ]
  },
  {
   "cell_type": "code",
   "execution_count": 24,
   "id": "02438741",
   "metadata": {
    "scrolled": true
   },
   "outputs": [
    {
     "data": {
      "text/plain": [
       "array([[ 4, -1,  4],\n",
       "       [21, 10, 12]])"
      ]
     },
     "execution_count": 24,
     "metadata": {},
     "output_type": "execute_result"
    }
   ],
   "source": [
    "A = np.array([\n",
    "    [1, -1, 2],\n",
    "    [3, 2, 2]\n",
    "])\n",
    "\n",
    "B = np.array([\n",
    "    [4, 1, 2],\n",
    "    [7, 5, 6]\n",
    "])\n",
    "\n",
    "A * B  # 행렬의 요소별로 곱한다."
   ]
  },
  {
   "cell_type": "markdown",
   "id": "eeebe55b",
   "metadata": {},
   "source": [
    "#### 2) 행렬의 내적(Dot product)"
   ]
  },
  {
   "cell_type": "code",
   "execution_count": 25,
   "id": "0f69bb30",
   "metadata": {},
   "outputs": [
    {
     "data": {
      "text/plain": [
       "array([[ 7, 14],\n",
       "       [18, 43]])"
      ]
     },
     "execution_count": 25,
     "metadata": {},
     "output_type": "execute_result"
    }
   ],
   "source": [
    "B_transpose = B.T  # 전치 행렬(Transpose)\n",
    "A @ B_transpose  # = np.dot(A, B)"
   ]
  },
  {
   "cell_type": "markdown",
   "id": "ce93b3d8",
   "metadata": {},
   "source": [
    "#### 3) 역행렬(Inverse Matrix)"
   ]
  },
  {
   "cell_type": "code",
   "execution_count": 29,
   "id": "c96f4ca7",
   "metadata": {},
   "outputs": [
    {
     "data": {
      "text/plain": [
       "array([[ 1.00000000e+00, -1.11022302e-16,  1.11022302e-16],\n",
       "       [ 1.11022302e-16,  1.00000000e+00, -1.66533454e-16],\n",
       "       [-2.49800181e-16,  5.55111512e-17,  1.00000000e+00]])"
      ]
     },
     "execution_count": 29,
     "metadata": {},
     "output_type": "execute_result"
    }
   ],
   "source": [
    "C = np.array([\n",
    "    [3, 1, 2],\n",
    "    [-2, 3, 1],\n",
    "    [5, 1, 0]\n",
    "])\n",
    "\n",
    "C_inverse = np.linalg.pinv(C)  # 역행렬을 구한다.\n",
    "C_inverse\n",
    "\n",
    "C @ C_inverse  # 기존 행렬과 역행렬을 내적하면, 단위 행렬이 나온다."
   ]
  },
  {
   "cell_type": "markdown",
   "id": "44dc29eb",
   "metadata": {},
   "source": [
    "---"
   ]
  },
  {
   "cell_type": "markdown",
   "id": "6080cc3a",
   "metadata": {},
   "source": [
    "## 2. 선형 회귀(Linear Regression)\n",
    "- 종속 변수 y와 한 개 이상의 독립 변수 (또는 설명 변수) X와의 선형 상관 관계를 모델링하는 회귀분석 기법\n",
    "- \"지도학습\"에 해당한다.\n",
    "- 목표 변수(Target Variable / Output Variable) : 맞추려고 하는 값\n",
    "- 입력 변수(Input Variable / Feature) : 맞추는데 사용한 값\n",
    "- 가설함수(Hypothesis Function) : 데이터에 가장 잘 맞는 선(최적선)을 찾기 위해 시도해보는 모든 함수\n",
    "    - $h(x) = \\theta_0 + \\theta_1 x$\n",
    "    - $h(x) = \\theta_0x_0 + \\theta_1x_1 + \\theta_2x_2 + \\theta_3x_3 ...\\;(x_0=1)$\n",
    "- 선형회귀 : 가장 적절한 $\\theta$ 값들을 찾아내는 것 (데이터가 가장 잘 맞는 가설함수를 찾는 것)"
   ]
  },
  {
   "cell_type": "markdown",
   "id": "7231abad",
   "metadata": {},
   "source": [
    "#### 1) 평균 제곱 오차(Mean Squared Error)\n",
    "- 가설함수를 평가하는 방법 중 하나이다.\n",
    "- 오차의 제곱을 더하는 이유 : 1) 오차를 양수로 통일하기 위해   2) 더 큰 오차를 부각하기 위해\n",
    "- $\\frac{1}{m}\\displaystyle\\sum_{i=1}^{m} (h_\\theta (x^{(i)}) - y^{(i)}) ^2 $ "
   ]
  },
  {
   "cell_type": "markdown",
   "id": "ef9b69f9",
   "metadata": {},
   "source": [
    "#### 2) 손실 함수(Loss Function)\n",
    "- 가설함수의 성능을 평가하는 함수\n",
    "- 손실함수가 작을수록, 가설 함수가 데이터에 더 잘 맞는다.\n",
    "- $J(\\theta) = \\frac{1}{2m}\\displaystyle\\sum_{i=1}^{m} (h_\\theta (x^{(i)}) - y^{(i)}) ^2 $"
   ]
  },
  {
   "cell_type": "markdown",
   "id": "81efe18d",
   "metadata": {},
   "source": [
    "#### 3) 경사하강법(Gradient descent)\n",
    "- **손실함수의 \"극소점\"을 찾아가는 방법**(최솟값을 보장하지는 않는다.)\n",
    "- **기울기 벡터는 \"가장 가파르게 올라가는 방향\"을 알려준다.** 라는 성질을 이용하여,</br>\n",
    "함수의 기울기(gradient)에 따라, x의 값을 어디로 옮겼을 때 함수가 극솟값을 갖는지 알아보는 방법이다.</br></br>\n",
    "\n",
    "- \"1) 기울기가 양수일 때, 양의 방향으로 이동하면 함숫값이 커지고, 음의 방향으로 이동하면 함숫값이 작아진다.</br>\n",
    " $\\;$2) 기울기가 음수일 때, 양의 방향으로 이동하면 함숫값이 작아지고, 음의 방향으로 이동하면 함숫값이 커진다.\"</br></br>\n",
    " \n",
    "- 경사 하강법 일반화 )</br></br>\n",
    "$\\,$ $\\theta_0 \\leftarrow \\theta_0 - \\alpha \\frac{\\partial}{\\partial \\theta_0} J{(\\theta_0,\\, \\theta_1)} \\;, \\quad \\theta_1 \\leftarrow \\theta_1 - \\alpha \\frac{\\partial}{\\partial \\theta_1} J{(\\theta_0,\\, \\theta_1)} \\;$  $(\\alpha>0)$ </br></br>\n",
    "※ $\\alpha$는 **학습률**로, 경사를 타고 내려갈 때, 얼마나 많이 움직일지 그 정도를 나타낸다.</br>\n",
    "$\\quad$- 학습률이 너무 작으면 천천히 수렴하고, 너무 크면 매 반복마다 비용함수가 증가하며 수렴하지 않을 수 있다.</br>\n",
    "$\\quad$- 학습률은 0.001부터 3배씩 늘려보면서 적절한 값을 찾아야 한다. )</br></br>\n",
    "이를 풀어서 표현하면,</br></br>\n",
    "$\\theta_0 \\leftarrow \\theta_0 - \\alpha \\frac{1}{m}\\displaystyle\\sum_{i=1}^{m} (h_\\theta (x^{(i)}) - y^{(i)}) \\;, \\quad \\theta_1 \\leftarrow \\theta_1 - \\alpha \\frac{1}{m}\\displaystyle\\sum_{i=1}^{m} (h_\\theta (x^{(i)}) - y^{(i)}) \\, \\cdot \\, x^{(i)}$ 이 된다. "
   ]
  },
  {
   "cell_type": "markdown",
   "id": "d4da9c4d",
   "metadata": {},
   "source": [
    "- 가설함수 $h(x) = \\theta_0 + \\theta_1 x$ 에서 입력 변수 $x$를 벡터로 나타내면,</br></br>\n",
    "\" $x =  \\begin{pmatrix}\n",
    "  x^{(1)} \\\\\n",
    "  x^{(2)} \\\\\n",
    "  \\vdots  \\\\\n",
    "  x^{(n)} \n",
    " \\end{pmatrix}$ \" 꼴로 나타낼 수 있다. 이를 기존의 가설함수에 대입하면, </br>\n",
    " \" $h_{\\theta}(x) = \\theta_0 + \\theta_1 \\begin{pmatrix}\n",
    "  x^{(1)} \\\\\n",
    "  x^{(2)} \\\\\n",
    "  \\vdots  \\\\\n",
    "  x^{(n)} \n",
    " \\end{pmatrix}$ =  $\\begin{pmatrix}\n",
    "  h_{\\theta}(x^{(1)}) \\\\\n",
    "  h_{\\theta}(x^{(2)}) \\\\\n",
    "  \\vdots  \\\\\n",
    "  h_{\\theta}(x^{(n)})\n",
    " \\end{pmatrix}$ \" 이 된다.</br></br>목표 변수 $y$도 벡터로 생각했을 때, </br></br>\n",
    " $error = h_{\\theta}(x) - y = \\begin{pmatrix}\n",
    "  h_{\\theta}(x^{(1)}) - y^{(1)} \\\\\n",
    "  h_{\\theta}(x^{(2)}) - y^{(2)} \\\\\n",
    "  \\vdots  \\\\\n",
    "  h_{\\theta}(x^{(n)}) - y^{(n)}\n",
    " \\end{pmatrix}$ 의 꼴로 나타낼 수 있다. ($error$는 오차이다.)</br></br>\n",
    " 벡터 $error$의 모든 원소의 평균을 \"$\\mu_{error}$\"라고 할 때, $\\theta_0$를 업데이트하는 공식을 다음과 같이 나타낼 수 있다.</br></br>\n",
    " $$\\theta_0 \\leftarrow \\theta_0 - \\alpha \\, \\cdot \\, \\mu_{error}$$ </br></br>\n",
    " $\\theta_0$를 업데이트하는 공식을 구하기 전에, $error \\bullet x = \\begin{pmatrix}\n",
    "  (h_{\\theta}(x^{(1)}) - y^{(1)}) \\cdot x^{(1)} \\\\\n",
    "  (h_{\\theta}(x^{(2)}) - y^{(2)}) \\cdot x^{(2)} \\\\\n",
    "  \\vdots  \\\\\n",
    "  (h_{\\theta}(x^{(n)}) - y^{(n)}) \\cdot x^{(n)}\n",
    " \\end{pmatrix}$ 꼴로 정의하자. 이 수식을 이용하면,</br></br>\n",
    "  $$\\theta_0 \\leftarrow \\theta_0 - \\alpha \\, \\cdot \\, \\mu_{error \\bullet x}$$</br>\n",
    "  로 $\\theta_0$를 업데이트하는 공식을 표현할 수 있다.\n",
    "  \n",
    " "
   ]
  },
  {
   "cell_type": "markdown",
   "id": "d8e51472",
   "metadata": {},
   "source": [
    "#### 4) 코드 작성"
   ]
  },
  {
   "cell_type": "code",
   "execution_count": 56,
   "id": "525c5c19",
   "metadata": {},
   "outputs": [
    {
     "data": {
      "text/plain": [
       "array([-1.2, -0.2,  1. ,  1.2,  2.2,  3.6,  3.7,  4.8,  5.8,  6.4,  7.4,\n",
       "        8.5, 10.4, 10.8])"
      ]
     },
     "execution_count": 56,
     "metadata": {},
     "output_type": "execute_result"
    }
   ],
   "source": [
    "def prediction(theta_0, theta_1, x):\n",
    "    \"\"\"주어진 학습 데이터 벡터 x에 대한 예측값을 리턴하는 함수\"\"\"\n",
    "    return theta_0 + theta_1 * x\n",
    "\n",
    "# 입력 변수(집 크기) 초기화 (모든 집 평수 데이터를 1/10 크기로 줄임)\n",
    "house_size = np.array([0.9, 1.4, 2, 2.1, 2.6, 3.3, 3.35, 3.9, 4.4, 4.7, 5.2, 5.75, 6.7, 6.9])\n",
    "\n",
    "theta_0 = -3  # theta 값들 초기화 (아무 값이나 시작한다.)\n",
    "theta_1 = 2\n",
    "\n",
    "prediction(theta_0, theta_1, house_size)"
   ]
  },
  {
   "cell_type": "code",
   "execution_count": 21,
   "id": "f3c7a614",
   "metadata": {},
   "outputs": [
    {
     "data": {
      "text/plain": [
       "array([-1.5 , -0.95,  0.55,  0.1 ,  0.75,  2.7 ,  1.9 ,  3.9 ,  4.3 ,\n",
       "        4.2 ,  5.65,  6.2 ,  7.91,  8.2 ])"
      ]
     },
     "execution_count": 21,
     "metadata": {},
     "output_type": "execute_result"
    }
   ],
   "source": [
    "def prediction_difference(theta_0, theta_1, x, y):\n",
    "    \"\"\"모든 예측값들과 목표 변수들의 오차(error)를 벡터로 리턴해주는 함수\"\"\"\n",
    "    return prediction(theta_0, theta_1, x) - y\n",
    "\n",
    "# 목표 변수(집 가격) 초기화 (모든 집 값 데이터를 1/10 크기로 줄임)\n",
    "house_price = np.array([0.3, 0.75, 0.45, 1.1, 1.45, 0.9, 1.8, 0.9, 1.5, 2.2, 1.75, 2.3, 2.49, 2.6])\n",
    "\n",
    "prediction_difference(theta_0, theta_1, house_size, house_price)  # error 벡터를 얻을 수 있다."
   ]
  },
  {
   "cell_type": "code",
   "execution_count": 51,
   "id": "f8be833f",
   "metadata": {},
   "outputs": [
    {
     "data": {
      "text/plain": [
       "(0.020833746512486703, 0.3755753912006189)"
      ]
     },
     "execution_count": 51,
     "metadata": {},
     "output_type": "execute_result"
    }
   ],
   "source": [
    "def gradient_descent(theta_0, theta_1, x, y, iterations, alpha):\n",
    "    \"\"\"주어진 theta_0, theta_1 변수들을 경사 하강를 하면서 업데이트 해주는 함수\"\"\"\n",
    "    for i in range(iterations):\n",
    "        error = prediction_difference(theta_0, theta_1, x, y)  # 오차(error)를 구한다.\n",
    "\n",
    "        theta_0 = theta_0 - alpha * error.mean()  # theta_0 업데이트\n",
    "        theta_1 = theta_1 - alpha * (error * x).mean()  # theta_1 업데이트\n",
    "\n",
    "    return theta_0, theta_1\n",
    "\n",
    "# 학습률 0.1로 200번 경사 하강\n",
    "theta_0, theta_1 = gradient_descent(theta_0, theta_1, house_size, house_price, 200, 0.1)\n",
    "\n",
    "theta_0, theta_1"
   ]
  },
  {
   "cell_type": "markdown",
   "id": "0f0e124a",
   "metadata": {},
   "source": [
    "#### ※ 경사 하강법 구현 시각화 )"
   ]
  },
  {
   "cell_type": "code",
   "execution_count": 67,
   "id": "b2d28416",
   "metadata": {
    "scrolled": true
   },
   "outputs": [
    {
     "data": {
      "image/png": "[encoded data removed]",
      "text/plain": [
       "<Figure size 432x288 with 1 Axes>"
      ]
     },
     "metadata": {
      "needs_background": "light"
     },
     "output_type": "display_data"
    },
    {
     "data": {
      "image/png": "[encoded data removed]",
      "text/plain": [
       "<Figure size 432x288 with 1 Axes>"
      ]
     },
     "metadata": {
      "needs_background": "light"
     },
     "output_type": "display_data"
    },
    {
     "data": {
      "image/png": "[encoded data removed]",
      "text/plain": [
       "<Figure size 432x288 with 1 Axes>"
      ]
     },
     "metadata": {
      "needs_background": "light"
     },
     "output_type": "display_data"
    },
    {
     "data": {
      "image/png": "[encoded data removed]",
      "text/plain": [
       "<Figure size 432x288 with 1 Axes>"
      ]
     },
     "metadata": {
      "needs_background": "light"
     },
     "output_type": "display_data"
    },
    {
     "data": {
      "image/png": "[encoded data removed]",
      "text/plain": [
       "<Figure size 432x288 with 1 Axes>"
      ]
     },
     "metadata": {
      "needs_background": "light"
     },
     "output_type": "display_data"
    },
    {
     "data": {
      "image/png": "[encoded data removed]",
      "text/plain": [
       "<Figure size 432x288 with 1 Axes>"
      ]
     },
     "metadata": {
      "needs_background": "light"
     },
     "output_type": "display_data"
    },
    {
     "data": {
      "image/png": "[encoded data removed]",
      "text/plain": [
       "<Figure size 432x288 with 1 Axes>"
      ]
     },
     "metadata": {
      "needs_background": "light"
     },
     "output_type": "display_data"
    },
    {
     "data": {
      "image/png": "[encoded data removed]",
      "text/plain": [
       "<Figure size 432x288 with 1 Axes>"
      ]
     },
     "metadata": {
      "needs_background": "light"
     },
     "output_type": "display_data"
    },
    {
     "data": {
      "image/png": "[encoded data removed]",
      "text/plain": [
       "<Figure size 432x288 with 1 Axes>"
      ]
     },
     "metadata": {
      "needs_background": "light"
     },
     "output_type": "display_data"
    },
    {
     "data": {
      "image/png": "[encoded data removed]",
      "text/plain": [
       "<Figure size 432x288 with 1 Axes>"
      ]
     },
     "metadata": {
      "needs_background": "light"
     },
     "output_type": "display_data"
    },
    {
     "data": {
      "image/png": "[encoded data removed]",
      "text/plain": [
       "<Figure size 432x288 with 1 Axes>"
      ]
     },
     "metadata": {
      "needs_background": "light"
     },
     "output_type": "display_data"
    },
    {
     "data": {
      "image/png": "[encoded data removed]",
      "text/plain": [
       "<Figure size 432x288 with 1 Axes>"
      ]
     },
     "metadata": {
      "needs_background": "light"
     },
     "output_type": "display_data"
    },
    {
     "data": {
      "image/png": "[encoded data removed]",
      "text/plain": [
       "<Figure size 432x288 with 1 Axes>"
      ]
     },
     "metadata": {
      "needs_background": "light"
     },
     "output_type": "display_data"
    },
    {
     "data": {
      "image/png": "[encoded data removed]",
      "text/plain": [
       "<Figure size 432x288 with 1 Axes>"
      ]
     },
     "metadata": {
      "needs_background": "light"
     },
     "output_type": "display_data"
    },
    {
     "data": {
      "image/png": "[encoded data removed]",
      "text/plain": [
       "<Figure size 432x288 with 1 Axes>"
      ]
     },
     "metadata": {
      "needs_background": "light"
     },
     "output_type": "display_data"
    },
    {
     "data": {
      "image/png": "[encoded data removed]",
      "text/plain": [
       "<Figure size 432x288 with 1 Axes>"
      ]
     },
     "metadata": {
      "needs_background": "light"
     },
     "output_type": "display_data"
    },
    {
     "data": {
      "image/png": "[encoded data removed]",
      "text/plain": [
       "<Figure size 432x288 with 1 Axes>"
      ]
     },
     "metadata": {
      "needs_background": "light"
     },
     "output_type": "display_data"
    },
    {
     "data": {
      "image/png": "[encoded data removed]",
      "text/plain": [
       "<Figure size 432x288 with 1 Axes>"
      ]
     },
     "metadata": {
      "needs_background": "light"
     },
     "output_type": "display_data"
    },
    {
     "data": {
      "image/png": "[encoded data removed]",
      "text/plain": [
       "<Figure size 432x288 with 1 Axes>"
      ]
     },
     "metadata": {
      "needs_background": "light"
     },
     "output_type": "display_data"
    },
    {
     "data": {
      "image/png": "[encoded data removed]",
      "text/plain": [
       "<Figure size 432x288 with 1 Axes>"
      ]
     },
     "metadata": {
      "needs_background": "light"
     },
     "output_type": "display_data"
    },
    {
     "data": {
      "text/plain": [
       "[<matplotlib.lines.Line2D at 0x1d0d4b64fd0>]"
      ]
     },
     "execution_count": 67,
     "metadata": {},
     "output_type": "execute_result"
    },
    {
     "data": {
      "image/png": "[encoded data removed]",
      "text/plain": [
       "<Figure size 432x288 with 1 Axes>"
      ]
     },
     "metadata": {
      "needs_background": "light"
     },
     "output_type": "display_data"
    }
   ],
   "source": [
    "def gradient_descent(theta_0, theta_1, x, y, iterations, alpha):\n",
    "    \"\"\"주어진 theta_0, theta_1 변수들을 경사 하강를 하면서 업데이트 해주는 함수\"\"\"\n",
    "    m = len(x)\n",
    "    cost_list = []\n",
    "    \n",
    "    for i in range(iterations):\n",
    "        error = prediction_difference(theta_0, theta_1, x, y)  # 오차(error)를 구한다.\n",
    "        cost = error @ error / (2 * m)  # (오차 제곱의 평균) / 2 -> 손실 함숫값\n",
    "        cost_list.append(cost)\n",
    "\n",
    "        theta_0 = theta_0 - alpha * error.mean()  # theta_0 업데이트\n",
    "        theta_1 = theta_1 - alpha * (error * x).mean()  # theta_1 업데이트\n",
    "        \n",
    "        if i % 10 == 0:  # 10을 주기로 가설함수(plot)를 그린다.\n",
    "            plt.scatter(x, y)\n",
    "            plt.plot(x, prediction(theta_0, theta_1, x), color = 'red')\n",
    "            plt.show()\n",
    "\n",
    "    return theta_0, theta_1, cost_list\n",
    "\n",
    "theta_0 = -3  # theta 값들 초기화 (아무 값이나 시작한다.)\n",
    "theta_1 = 2\n",
    "\n",
    "# 학습률 0.1로 200번 경사 하강\n",
    "theta_0, theta_1, cost_list = gradient_descent(theta_0, theta_1, house_size, house_price, 200, 0.1)\n",
    "\n",
    "plt.plot(cost_list)  # 손실 함수를 그린다."
   ]
  },
  {
   "cell_type": "markdown",
   "id": "f9a42d56",
   "metadata": {},
   "source": [
    "#### 5) 모델 평가\n",
    "- **Training Set(학습 데이터)을 이용하여 모델을 학습**시키고, **Test Set(테스트 데이터)을 통해 모델을 평가**한다.\n",
    "- 이때, 모델의 성능은 **평균 제곱근 오차(Root Mean Square Error)**로 평가한다."
   ]
  },
  {
   "cell_type": "code",
   "execution_count": 2,
   "id": "6f5b2190",
   "metadata": {
    "scrolled": false
   },
   "outputs": [],
   "source": [
    "# scikit-learn (sklearn)\n",
    "from sklearn.datasets import load_boston\n",
    "from sklearn.model_selection import train_test_split\n",
    "from sklearn.linear_model import LinearRegression\n",
    "from sklearn.metrics import mean_squared_error"
   ]
  },
  {
   "cell_type": "code",
   "execution_count": 93,
   "id": "04b43c40",
   "metadata": {
    "scrolled": true
   },
   "outputs": [
    {
     "name": "stdout",
     "output_type": "stream",
     "text": [
      ".. _boston_dataset:\n",
      "\n",
      "Boston house prices dataset\n",
      "---------------------------\n",
      "\n",
      "**Data Set Characteristics:**  \n",
      "\n",
      "    :Number of Instances: 506 \n",
      "\n",
      "    :Number of Attributes: 13 numeric/categorical predictive. Median Value (attribute 14) is usually the target.\n",
      "\n",
      "    :Attribute Information (in order):\n",
      "        - CRIM     per capita crime rate by town\n",
      "        - ZN       proportion of residential land zoned for lots over 25,000 sq.ft.\n",
      "        - INDUS    proportion of non-retail business acres per town\n",
      "        - CHAS     Charles River dummy variable (= 1 if tract bounds river; 0 otherwise)\n",
      "        - NOX      nitric oxides concentration (parts per 10 million)\n",
      "        - RM       average number of rooms per dwelling\n",
      "        - AGE      proportion of owner-occupied units built prior to 1940\n",
      "        - DIS      weighted distances to five Boston employment centres\n",
      "        - RAD      index of accessibility to radial highways\n",
      "        - TAX      full-value property-tax rate per $10,000\n",
      "        - PTRATIO  pupil-teacher ratio by town\n",
      "        - B        1000(Bk - 0.63)^2 where Bk is the proportion of black people by town\n",
      "        - LSTAT    % lower status of the population\n",
      "        - MEDV     Median value of owner-occupied homes in $1000's\n",
      "\n",
      "    :Missing Attribute Values: None\n",
      "\n",
      "    :Creator: Harrison, D. and Rubinfeld, D.L.\n",
      "\n",
      "This is a copy of UCI ML housing dataset.\n",
      "https://archive.ics.uci.edu/ml/machine-learning-databases/housing/\n",
      "\n",
      "\n",
      "This dataset was taken from the StatLib library which is maintained at Carnegie Mellon University.\n",
      "\n",
      "The Boston house-price data of Harrison, D. and Rubinfeld, D.L. 'Hedonic\n",
      "prices and the demand for clean air', J. Environ. Economics & Management,\n",
      "vol.5, 81-102, 1978.   Used in Belsley, Kuh & Welsch, 'Regression diagnostics\n",
      "...', Wiley, 1980.   N.B. Various transformations are used in the table on\n",
      "pages 244-261 of the latter.\n",
      "\n",
      "The Boston house-price data has been used in many machine learning papers that address regression\n",
      "problems.   \n",
      "     \n",
      ".. topic:: References\n",
      "\n",
      "   - Belsley, Kuh & Welsch, 'Regression diagnostics: Identifying Influential Data and Sources of Collinearity', Wiley, 1980. 244-261.\n",
      "   - Quinlan,R. (1993). Combining Instance-Based and Model-Based Learning. In Proceedings on the Tenth International Conference of Machine Learning, 236-243, University of Massachusetts, Amherst. Morgan Kaufmann.\n",
      "\n"
     ]
    }
   ],
   "source": [
    "boston_dataset = load_boston()\n",
    "print(boston_dataset.DESCR)  # desription"
   ]
  },
  {
   "cell_type": "code",
   "execution_count": 75,
   "id": "7cbd1eee",
   "metadata": {
    "scrolled": true
   },
   "outputs": [
    {
     "data": {
      "text/plain": [
       "array(['CRIM', 'ZN', 'INDUS', 'CHAS', 'NOX', 'RM', 'AGE', 'DIS', 'RAD',\n",
       "       'TAX', 'PTRATIO', 'B', 'LSTAT'], dtype='<U7')"
      ]
     },
     "execution_count": 75,
     "metadata": {},
     "output_type": "execute_result"
    }
   ],
   "source": [
    "boston_dataset.feature_names  # dataset의 속성 이름을 array로 반환"
   ]
  },
  {
   "cell_type": "code",
   "execution_count": 76,
   "id": "99878334",
   "metadata": {
    "scrolled": true
   },
   "outputs": [
    {
     "data": {
      "text/plain": [
       "array([[6.3200e-03, 1.8000e+01, 2.3100e+00, ..., 1.5300e+01, 3.9690e+02,\n",
       "        4.9800e+00],\n",
       "       [2.7310e-02, 0.0000e+00, 7.0700e+00, ..., 1.7800e+01, 3.9690e+02,\n",
       "        9.1400e+00],\n",
       "       [2.7290e-02, 0.0000e+00, 7.0700e+00, ..., 1.7800e+01, 3.9283e+02,\n",
       "        4.0300e+00],\n",
       "       ...,\n",
       "       [6.0760e-02, 0.0000e+00, 1.1930e+01, ..., 2.1000e+01, 3.9690e+02,\n",
       "        5.6400e+00],\n",
       "       [1.0959e-01, 0.0000e+00, 1.1930e+01, ..., 2.1000e+01, 3.9345e+02,\n",
       "        6.4800e+00],\n",
       "       [4.7410e-02, 0.0000e+00, 1.1930e+01, ..., 2.1000e+01, 3.9690e+02,\n",
       "        7.8800e+00]])"
      ]
     },
     "execution_count": 76,
     "metadata": {},
     "output_type": "execute_result"
    }
   ],
   "source": [
    "boston_dataset.data  # dataset의 입력변수를 matrix로 반환"
   ]
  },
  {
   "cell_type": "code",
   "execution_count": 79,
   "id": "a00da165",
   "metadata": {
    "scrolled": true
   },
   "outputs": [
    {
     "data": {
      "text/plain": [
       "(506, 13)"
      ]
     },
     "execution_count": 79,
     "metadata": {},
     "output_type": "execute_result"
    }
   ],
   "source": [
    "boston_dataset.data.shape  # 506개의 데이터, 13개의 속성"
   ]
  },
  {
   "cell_type": "code",
   "execution_count": 80,
   "id": "6c391ce8",
   "metadata": {
    "scrolled": true
   },
   "outputs": [
    {
     "data": {
      "text/plain": [
       "array([24. , 21.6, 34.7, 33.4, 36.2, 28.7, 22.9, 27.1, 16.5, 18.9, 15. ,\n",
       "       18.9, 21.7, 20.4, 18.2, 19.9, 23.1, 17.5, 20.2, 18.2, 13.6, 19.6,\n",
       "       15.2, 14.5, 15.6, 13.9, 16.6, 14.8, 18.4, 21. , 12.7, 14.5, 13.2,\n",
       "       13.1, 13.5, 18.9, 20. , 21. , 24.7, 30.8, 34.9, 26.6, 25.3, 24.7,\n",
       "       21.2, 19.3, 20. , 16.6, 14.4, 19.4, 19.7, 20.5, 25. , 23.4, 18.9,\n",
       "       35.4, 24.7, 31.6, 23.3, 19.6, 18.7, 16. , 22.2, 25. , 33. , 23.5,\n",
       "       19.4, 22. , 17.4, 20.9, 24.2, 21.7, 22.8, 23.4, 24.1, 21.4, 20. ,\n",
       "       20.8, 21.2, 20.3, 28. , 23.9, 24.8, 22.9, 23.9, 26.6, 22.5, 22.2,\n",
       "       23.6, 28.7, 22.6, 22. , 22.9, 25. , 20.6, 28.4, 21.4, 38.7, 43.8,\n",
       "       33.2, 27.5, 26.5, 18.6, 19.3, 20.1, 19.5, 19.5, 20.4, 19.8, 19.4,\n",
       "       21.7, 22.8, 18.8, 18.7, 18.5, 18.3, 21.2, 19.2, 20.4, 19.3, 22. ,\n",
       "       20.3, 20.5, 17.3, 18.8, 21.4, 15.7, 16.2, 18. , 14.3, 19.2, 19.6,\n",
       "       23. , 18.4, 15.6, 18.1, 17.4, 17.1, 13.3, 17.8, 14. , 14.4, 13.4,\n",
       "       15.6, 11.8, 13.8, 15.6, 14.6, 17.8, 15.4, 21.5, 19.6, 15.3, 19.4,\n",
       "       17. , 15.6, 13.1, 41.3, 24.3, 23.3, 27. , 50. , 50. , 50. , 22.7,\n",
       "       25. , 50. , 23.8, 23.8, 22.3, 17.4, 19.1, 23.1, 23.6, 22.6, 29.4,\n",
       "       23.2, 24.6, 29.9, 37.2, 39.8, 36.2, 37.9, 32.5, 26.4, 29.6, 50. ,\n",
       "       32. , 29.8, 34.9, 37. , 30.5, 36.4, 31.1, 29.1, 50. , 33.3, 30.3,\n",
       "       34.6, 34.9, 32.9, 24.1, 42.3, 48.5, 50. , 22.6, 24.4, 22.5, 24.4,\n",
       "       20. , 21.7, 19.3, 22.4, 28.1, 23.7, 25. , 23.3, 28.7, 21.5, 23. ,\n",
       "       26.7, 21.7, 27.5, 30.1, 44.8, 50. , 37.6, 31.6, 46.7, 31.5, 24.3,\n",
       "       31.7, 41.7, 48.3, 29. , 24. , 25.1, 31.5, 23.7, 23.3, 22. , 20.1,\n",
       "       22.2, 23.7, 17.6, 18.5, 24.3, 20.5, 24.5, 26.2, 24.4, 24.8, 29.6,\n",
       "       42.8, 21.9, 20.9, 44. , 50. , 36. , 30.1, 33.8, 43.1, 48.8, 31. ,\n",
       "       36.5, 22.8, 30.7, 50. , 43.5, 20.7, 21.1, 25.2, 24.4, 35.2, 32.4,\n",
       "       32. , 33.2, 33.1, 29.1, 35.1, 45.4, 35.4, 46. , 50. , 32.2, 22. ,\n",
       "       20.1, 23.2, 22.3, 24.8, 28.5, 37.3, 27.9, 23.9, 21.7, 28.6, 27.1,\n",
       "       20.3, 22.5, 29. , 24.8, 22. , 26.4, 33.1, 36.1, 28.4, 33.4, 28.2,\n",
       "       22.8, 20.3, 16.1, 22.1, 19.4, 21.6, 23.8, 16.2, 17.8, 19.8, 23.1,\n",
       "       21. , 23.8, 23.1, 20.4, 18.5, 25. , 24.6, 23. , 22.2, 19.3, 22.6,\n",
       "       19.8, 17.1, 19.4, 22.2, 20.7, 21.1, 19.5, 18.5, 20.6, 19. , 18.7,\n",
       "       32.7, 16.5, 23.9, 31.2, 17.5, 17.2, 23.1, 24.5, 26.6, 22.9, 24.1,\n",
       "       18.6, 30.1, 18.2, 20.6, 17.8, 21.7, 22.7, 22.6, 25. , 19.9, 20.8,\n",
       "       16.8, 21.9, 27.5, 21.9, 23.1, 50. , 50. , 50. , 50. , 50. , 13.8,\n",
       "       13.8, 15. , 13.9, 13.3, 13.1, 10.2, 10.4, 10.9, 11.3, 12.3,  8.8,\n",
       "        7.2, 10.5,  7.4, 10.2, 11.5, 15.1, 23.2,  9.7, 13.8, 12.7, 13.1,\n",
       "       12.5,  8.5,  5. ,  6.3,  5.6,  7.2, 12.1,  8.3,  8.5,  5. , 11.9,\n",
       "       27.9, 17.2, 27.5, 15. , 17.2, 17.9, 16.3,  7. ,  7.2,  7.5, 10.4,\n",
       "        8.8,  8.4, 16.7, 14.2, 20.8, 13.4, 11.7,  8.3, 10.2, 10.9, 11. ,\n",
       "        9.5, 14.5, 14.1, 16.1, 14.3, 11.7, 13.4,  9.6,  8.7,  8.4, 12.8,\n",
       "       10.5, 17.1, 18.4, 15.4, 10.8, 11.8, 14.9, 12.6, 14.1, 13. , 13.4,\n",
       "       15.2, 16.1, 17.8, 14.9, 14.1, 12.7, 13.5, 14.9, 20. , 16.4, 17.7,\n",
       "       19.5, 20.2, 21.4, 19.9, 19. , 19.1, 19.1, 20.1, 19.9, 19.6, 23.2,\n",
       "       29.8, 13.8, 13.3, 16.7, 12. , 14.6, 21.4, 23. , 23.7, 25. , 21.8,\n",
       "       20.6, 21.2, 19.1, 20.6, 15.2,  7. ,  8.1, 13.6, 20.1, 21.8, 24.5,\n",
       "       23.1, 19.7, 18.3, 21.2, 17.5, 16.8, 22.4, 20.6, 23.9, 22. , 11.9])"
      ]
     },
     "execution_count": 80,
     "metadata": {},
     "output_type": "execute_result"
    }
   ],
   "source": [
    "boston_dataset.target  # 목표 변수 (506개)"
   ]
  },
  {
   "cell_type": "code",
   "execution_count": 103,
   "id": "6b3b1a13",
   "metadata": {
    "scrolled": true
   },
   "outputs": [
    {
     "data": {
      "text/html": [
       "<div>\n",
       "<style scoped>\n",
       "    .dataframe tbody tr th:only-of-type {\n",
       "        vertical-align: middle;\n",
       "    }\n",
       "\n",
       "    .dataframe tbody tr th {\n",
       "        vertical-align: top;\n",
       "    }\n",
       "\n",
       "    .dataframe thead th {\n",
       "        text-align: right;\n",
       "    }\n",
       "</style>\n",
       "<table border=\"1\" class=\"dataframe\">\n",
       "  <thead>\n",
       "    <tr style=\"text-align: right;\">\n",
       "      <th></th>\n",
       "      <th>CRIM</th>\n",
       "      <th>ZN</th>\n",
       "      <th>INDUS</th>\n",
       "      <th>CHAS</th>\n",
       "      <th>NOX</th>\n",
       "      <th>RM</th>\n",
       "      <th>AGE</th>\n",
       "      <th>DIS</th>\n",
       "      <th>RAD</th>\n",
       "      <th>TAX</th>\n",
       "      <th>PTRATIO</th>\n",
       "      <th>B</th>\n",
       "      <th>LSTAT</th>\n",
       "    </tr>\n",
       "  </thead>\n",
       "  <tbody>\n",
       "    <tr>\n",
       "      <th>0</th>\n",
       "      <td>0.00632</td>\n",
       "      <td>18.0</td>\n",
       "      <td>2.31</td>\n",
       "      <td>0.0</td>\n",
       "      <td>0.538</td>\n",
       "      <td>6.575</td>\n",
       "      <td>65.2</td>\n",
       "      <td>4.0900</td>\n",
       "      <td>1.0</td>\n",
       "      <td>296.0</td>\n",
       "      <td>15.3</td>\n",
       "      <td>396.90</td>\n",
       "      <td>4.98</td>\n",
       "    </tr>\n",
       "    <tr>\n",
       "      <th>1</th>\n",
       "      <td>0.02731</td>\n",
       "      <td>0.0</td>\n",
       "      <td>7.07</td>\n",
       "      <td>0.0</td>\n",
       "      <td>0.469</td>\n",
       "      <td>6.421</td>\n",
       "      <td>78.9</td>\n",
       "      <td>4.9671</td>\n",
       "      <td>2.0</td>\n",
       "      <td>242.0</td>\n",
       "      <td>17.8</td>\n",
       "      <td>396.90</td>\n",
       "      <td>9.14</td>\n",
       "    </tr>\n",
       "    <tr>\n",
       "      <th>2</th>\n",
       "      <td>0.02729</td>\n",
       "      <td>0.0</td>\n",
       "      <td>7.07</td>\n",
       "      <td>0.0</td>\n",
       "      <td>0.469</td>\n",
       "      <td>7.185</td>\n",
       "      <td>61.1</td>\n",
       "      <td>4.9671</td>\n",
       "      <td>2.0</td>\n",
       "      <td>242.0</td>\n",
       "      <td>17.8</td>\n",
       "      <td>392.83</td>\n",
       "      <td>4.03</td>\n",
       "    </tr>\n",
       "    <tr>\n",
       "      <th>3</th>\n",
       "      <td>0.03237</td>\n",
       "      <td>0.0</td>\n",
       "      <td>2.18</td>\n",
       "      <td>0.0</td>\n",
       "      <td>0.458</td>\n",
       "      <td>6.998</td>\n",
       "      <td>45.8</td>\n",
       "      <td>6.0622</td>\n",
       "      <td>3.0</td>\n",
       "      <td>222.0</td>\n",
       "      <td>18.7</td>\n",
       "      <td>394.63</td>\n",
       "      <td>2.94</td>\n",
       "    </tr>\n",
       "    <tr>\n",
       "      <th>4</th>\n",
       "      <td>0.06905</td>\n",
       "      <td>0.0</td>\n",
       "      <td>2.18</td>\n",
       "      <td>0.0</td>\n",
       "      <td>0.458</td>\n",
       "      <td>7.147</td>\n",
       "      <td>54.2</td>\n",
       "      <td>6.0622</td>\n",
       "      <td>3.0</td>\n",
       "      <td>222.0</td>\n",
       "      <td>18.7</td>\n",
       "      <td>396.90</td>\n",
       "      <td>5.33</td>\n",
       "    </tr>\n",
       "    <tr>\n",
       "      <th>...</th>\n",
       "      <td>...</td>\n",
       "      <td>...</td>\n",
       "      <td>...</td>\n",
       "      <td>...</td>\n",
       "      <td>...</td>\n",
       "      <td>...</td>\n",
       "      <td>...</td>\n",
       "      <td>...</td>\n",
       "      <td>...</td>\n",
       "      <td>...</td>\n",
       "      <td>...</td>\n",
       "      <td>...</td>\n",
       "      <td>...</td>\n",
       "    </tr>\n",
       "    <tr>\n",
       "      <th>501</th>\n",
       "      <td>0.06263</td>\n",
       "      <td>0.0</td>\n",
       "      <td>11.93</td>\n",
       "      <td>0.0</td>\n",
       "      <td>0.573</td>\n",
       "      <td>6.593</td>\n",
       "      <td>69.1</td>\n",
       "      <td>2.4786</td>\n",
       "      <td>1.0</td>\n",
       "      <td>273.0</td>\n",
       "      <td>21.0</td>\n",
       "      <td>391.99</td>\n",
       "      <td>9.67</td>\n",
       "    </tr>\n",
       "    <tr>\n",
       "      <th>502</th>\n",
       "      <td>0.04527</td>\n",
       "      <td>0.0</td>\n",
       "      <td>11.93</td>\n",
       "      <td>0.0</td>\n",
       "      <td>0.573</td>\n",
       "      <td>6.120</td>\n",
       "      <td>76.7</td>\n",
       "      <td>2.2875</td>\n",
       "      <td>1.0</td>\n",
       "      <td>273.0</td>\n",
       "      <td>21.0</td>\n",
       "      <td>396.90</td>\n",
       "      <td>9.08</td>\n",
       "    </tr>\n",
       "    <tr>\n",
       "      <th>503</th>\n",
       "      <td>0.06076</td>\n",
       "      <td>0.0</td>\n",
       "      <td>11.93</td>\n",
       "      <td>0.0</td>\n",
       "      <td>0.573</td>\n",
       "      <td>6.976</td>\n",
       "      <td>91.0</td>\n",
       "      <td>2.1675</td>\n",
       "      <td>1.0</td>\n",
       "      <td>273.0</td>\n",
       "      <td>21.0</td>\n",
       "      <td>396.90</td>\n",
       "      <td>5.64</td>\n",
       "    </tr>\n",
       "    <tr>\n",
       "      <th>504</th>\n",
       "      <td>0.10959</td>\n",
       "      <td>0.0</td>\n",
       "      <td>11.93</td>\n",
       "      <td>0.0</td>\n",
       "      <td>0.573</td>\n",
       "      <td>6.794</td>\n",
       "      <td>89.3</td>\n",
       "      <td>2.3889</td>\n",
       "      <td>1.0</td>\n",
       "      <td>273.0</td>\n",
       "      <td>21.0</td>\n",
       "      <td>393.45</td>\n",
       "      <td>6.48</td>\n",
       "    </tr>\n",
       "    <tr>\n",
       "      <th>505</th>\n",
       "      <td>0.04741</td>\n",
       "      <td>0.0</td>\n",
       "      <td>11.93</td>\n",
       "      <td>0.0</td>\n",
       "      <td>0.573</td>\n",
       "      <td>6.030</td>\n",
       "      <td>80.8</td>\n",
       "      <td>2.5050</td>\n",
       "      <td>1.0</td>\n",
       "      <td>273.0</td>\n",
       "      <td>21.0</td>\n",
       "      <td>396.90</td>\n",
       "      <td>7.88</td>\n",
       "    </tr>\n",
       "  </tbody>\n",
       "</table>\n",
       "<p>506 rows × 13 columns</p>\n",
       "</div>"
      ],
      "text/plain": [
       "        CRIM    ZN  INDUS  CHAS    NOX     RM   AGE     DIS  RAD    TAX  \\\n",
       "0    0.00632  18.0   2.31   0.0  0.538  6.575  65.2  4.0900  1.0  296.0   \n",
       "1    0.02731   0.0   7.07   0.0  0.469  6.421  78.9  4.9671  2.0  242.0   \n",
       "2    0.02729   0.0   7.07   0.0  0.469  7.185  61.1  4.9671  2.0  242.0   \n",
       "3    0.03237   0.0   2.18   0.0  0.458  6.998  45.8  6.0622  3.0  222.0   \n",
       "4    0.06905   0.0   2.18   0.0  0.458  7.147  54.2  6.0622  3.0  222.0   \n",
       "..       ...   ...    ...   ...    ...    ...   ...     ...  ...    ...   \n",
       "501  0.06263   0.0  11.93   0.0  0.573  6.593  69.1  2.4786  1.0  273.0   \n",
       "502  0.04527   0.0  11.93   0.0  0.573  6.120  76.7  2.2875  1.0  273.0   \n",
       "503  0.06076   0.0  11.93   0.0  0.573  6.976  91.0  2.1675  1.0  273.0   \n",
       "504  0.10959   0.0  11.93   0.0  0.573  6.794  89.3  2.3889  1.0  273.0   \n",
       "505  0.04741   0.0  11.93   0.0  0.573  6.030  80.8  2.5050  1.0  273.0   \n",
       "\n",
       "     PTRATIO       B  LSTAT  \n",
       "0       15.3  396.90   4.98  \n",
       "1       17.8  396.90   9.14  \n",
       "2       17.8  392.83   4.03  \n",
       "3       18.7  394.63   2.94  \n",
       "4       18.7  396.90   5.33  \n",
       "..       ...     ...    ...  \n",
       "501     21.0  391.99   9.67  \n",
       "502     21.0  396.90   9.08  \n",
       "503     21.0  396.90   5.64  \n",
       "504     21.0  393.45   6.48  \n",
       "505     21.0  396.90   7.88  \n",
       "\n",
       "[506 rows x 13 columns]"
      ]
     },
     "execution_count": 103,
     "metadata": {},
     "output_type": "execute_result"
    }
   ],
   "source": [
    "x = pd.DataFrame(boston_dataset.data, columns = boston_dataset.feature_names)\n",
    "x"
   ]
  },
  {
   "cell_type": "code",
   "execution_count": 110,
   "id": "cfc92855",
   "metadata": {
    "scrolled": false
   },
   "outputs": [
    {
     "data": {
      "text/html": [
       "<div>\n",
       "<style scoped>\n",
       "    .dataframe tbody tr th:only-of-type {\n",
       "        vertical-align: middle;\n",
       "    }\n",
       "\n",
       "    .dataframe tbody tr th {\n",
       "        vertical-align: top;\n",
       "    }\n",
       "\n",
       "    .dataframe thead th {\n",
       "        text-align: right;\n",
       "    }\n",
       "</style>\n",
       "<table border=\"1\" class=\"dataframe\">\n",
       "  <thead>\n",
       "    <tr style=\"text-align: right;\">\n",
       "      <th></th>\n",
       "      <th>AGE</th>\n",
       "    </tr>\n",
       "  </thead>\n",
       "  <tbody>\n",
       "    <tr>\n",
       "      <th>0</th>\n",
       "      <td>65.2</td>\n",
       "    </tr>\n",
       "    <tr>\n",
       "      <th>1</th>\n",
       "      <td>78.9</td>\n",
       "    </tr>\n",
       "    <tr>\n",
       "      <th>2</th>\n",
       "      <td>61.1</td>\n",
       "    </tr>\n",
       "    <tr>\n",
       "      <th>3</th>\n",
       "      <td>45.8</td>\n",
       "    </tr>\n",
       "    <tr>\n",
       "      <th>4</th>\n",
       "      <td>54.2</td>\n",
       "    </tr>\n",
       "    <tr>\n",
       "      <th>...</th>\n",
       "      <td>...</td>\n",
       "    </tr>\n",
       "    <tr>\n",
       "      <th>501</th>\n",
       "      <td>69.1</td>\n",
       "    </tr>\n",
       "    <tr>\n",
       "      <th>502</th>\n",
       "      <td>76.7</td>\n",
       "    </tr>\n",
       "    <tr>\n",
       "      <th>503</th>\n",
       "      <td>91.0</td>\n",
       "    </tr>\n",
       "    <tr>\n",
       "      <th>504</th>\n",
       "      <td>89.3</td>\n",
       "    </tr>\n",
       "    <tr>\n",
       "      <th>505</th>\n",
       "      <td>80.8</td>\n",
       "    </tr>\n",
       "  </tbody>\n",
       "</table>\n",
       "<p>506 rows × 1 columns</p>\n",
       "</div>"
      ],
      "text/plain": [
       "      AGE\n",
       "0    65.2\n",
       "1    78.9\n",
       "2    61.1\n",
       "3    45.8\n",
       "4    54.2\n",
       "..    ...\n",
       "501  69.1\n",
       "502  76.7\n",
       "503  91.0\n",
       "504  89.3\n",
       "505  80.8\n",
       "\n",
       "[506 rows x 1 columns]"
      ]
     },
     "execution_count": 110,
     "metadata": {},
     "output_type": "execute_result"
    }
   ],
   "source": [
    "x = x[['AGE']]  # 입력 변수\n",
    "x"
   ]
  },
  {
   "cell_type": "code",
   "execution_count": 111,
   "id": "d853a090",
   "metadata": {
    "scrolled": false
   },
   "outputs": [
    {
     "data": {
      "text/html": [
       "<div>\n",
       "<style scoped>\n",
       "    .dataframe tbody tr th:only-of-type {\n",
       "        vertical-align: middle;\n",
       "    }\n",
       "\n",
       "    .dataframe tbody tr th {\n",
       "        vertical-align: top;\n",
       "    }\n",
       "\n",
       "    .dataframe thead th {\n",
       "        text-align: right;\n",
       "    }\n",
       "</style>\n",
       "<table border=\"1\" class=\"dataframe\">\n",
       "  <thead>\n",
       "    <tr style=\"text-align: right;\">\n",
       "      <th></th>\n",
       "      <th>MEDV</th>\n",
       "    </tr>\n",
       "  </thead>\n",
       "  <tbody>\n",
       "    <tr>\n",
       "      <th>0</th>\n",
       "      <td>24.0</td>\n",
       "    </tr>\n",
       "    <tr>\n",
       "      <th>1</th>\n",
       "      <td>21.6</td>\n",
       "    </tr>\n",
       "    <tr>\n",
       "      <th>2</th>\n",
       "      <td>34.7</td>\n",
       "    </tr>\n",
       "    <tr>\n",
       "      <th>3</th>\n",
       "      <td>33.4</td>\n",
       "    </tr>\n",
       "    <tr>\n",
       "      <th>4</th>\n",
       "      <td>36.2</td>\n",
       "    </tr>\n",
       "    <tr>\n",
       "      <th>...</th>\n",
       "      <td>...</td>\n",
       "    </tr>\n",
       "    <tr>\n",
       "      <th>501</th>\n",
       "      <td>22.4</td>\n",
       "    </tr>\n",
       "    <tr>\n",
       "      <th>502</th>\n",
       "      <td>20.6</td>\n",
       "    </tr>\n",
       "    <tr>\n",
       "      <th>503</th>\n",
       "      <td>23.9</td>\n",
       "    </tr>\n",
       "    <tr>\n",
       "      <th>504</th>\n",
       "      <td>22.0</td>\n",
       "    </tr>\n",
       "    <tr>\n",
       "      <th>505</th>\n",
       "      <td>11.9</td>\n",
       "    </tr>\n",
       "  </tbody>\n",
       "</table>\n",
       "<p>506 rows × 1 columns</p>\n",
       "</div>"
      ],
      "text/plain": [
       "     MEDV\n",
       "0    24.0\n",
       "1    21.6\n",
       "2    34.7\n",
       "3    33.4\n",
       "4    36.2\n",
       "..    ...\n",
       "501  22.4\n",
       "502  20.6\n",
       "503  23.9\n",
       "504  22.0\n",
       "505  11.9\n",
       "\n",
       "[506 rows x 1 columns]"
      ]
     },
     "execution_count": 111,
     "metadata": {},
     "output_type": "execute_result"
    }
   ],
   "source": [
    "y = pd.DataFrame(boston_dataset.target, columns = ['MEDV'])  # 목표 변수\n",
    "y"
   ]
  },
  {
   "cell_type": "code",
   "execution_count": 128,
   "id": "f47b3da9",
   "metadata": {},
   "outputs": [],
   "source": [
    "x_train, x_test, y_train, y_test = train_test_split(x, y, test_size = 0.2, random_state = 5)"
   ]
  },
  {
   "cell_type": "code",
   "execution_count": 129,
   "id": "fe538eec",
   "metadata": {
    "scrolled": true
   },
   "outputs": [
    {
     "name": "stdout",
     "output_type": "stream",
     "text": [
      "(404, 1)\n",
      "(102, 1)\n",
      "(404, 1)\n",
      "(102, 1)\n"
     ]
    }
   ],
   "source": [
    "print(x_train.shape)\n",
    "print(x_test.shape)\n",
    "print(y_train.shape)\n",
    "print(y_test.shape)"
   ]
  },
  {
   "cell_type": "code",
   "execution_count": 113,
   "id": "2eb6558f",
   "metadata": {
    "scrolled": true
   },
   "outputs": [],
   "source": [
    "model = LinearRegression()"
   ]
  },
  {
   "cell_type": "code",
   "execution_count": 114,
   "id": "51a46ad9",
   "metadata": {},
   "outputs": [
    {
     "data": {
      "text/plain": [
       "LinearRegression()"
      ]
     },
     "execution_count": 114,
     "metadata": {},
     "output_type": "execute_result"
    }
   ],
   "source": [
    "model.fit(x_train, y_train)"
   ]
  },
  {
   "cell_type": "code",
   "execution_count": 119,
   "id": "7547bb7e",
   "metadata": {},
   "outputs": [
    {
     "data": {
      "text/plain": [
       "array([[-0.12402883]])"
      ]
     },
     "execution_count": 119,
     "metadata": {},
     "output_type": "execute_result"
    }
   ],
   "source": [
    "model.coef_  # theta_1의 값을 얻는다."
   ]
  },
  {
   "cell_type": "code",
   "execution_count": 121,
   "id": "37febbe3",
   "metadata": {
    "scrolled": true
   },
   "outputs": [
    {
     "data": {
      "text/plain": [
       "array([31.04617413])"
      ]
     },
     "execution_count": 121,
     "metadata": {},
     "output_type": "execute_result"
    }
   ],
   "source": [
    "model.intercept_  # theta_0의 값을 얻는다.  따라서 f(x) = 31.04617413x -0.12402883"
   ]
  },
  {
   "cell_type": "code",
   "execution_count": 125,
   "id": "4985ab9b",
   "metadata": {
    "scrolled": true
   },
   "outputs": [
    {
     "data": {
      "text/plain": [
       "array([[20.31768041],\n",
       "       [28.14389953],\n",
       "       [22.84786852],\n",
       "       [18.64329122],\n",
       "       [24.62148078],\n",
       "       [19.99520545],\n",
       "       [19.75955068],\n",
       "       [22.79825699],\n",
       "       [20.92542167],\n",
       "       [21.74401194],\n",
       "       [23.29437231],\n",
       "       [25.41526529],\n",
       "       [21.53316293],\n",
       "       [25.94858925],\n",
       "       [23.76568186],\n",
       "       [24.55946636],\n",
       "       [18.64329122],\n",
       "       [18.64329122],\n",
       "       [22.00447248],\n",
       "       [18.64329122],\n",
       "       [18.89134887],\n",
       "       [18.90375176],\n",
       "       [21.33471681],\n",
       "       [22.71143681],\n",
       "       [28.46637448],\n",
       "       [19.06498923],\n",
       "       [24.31140871],\n",
       "       [22.05408402],\n",
       "       [26.32067574],\n",
       "       [26.59353916],\n",
       "       [19.0153777 ],\n",
       "       [18.85414022],\n",
       "       [19.30064401],\n",
       "       [18.7301114 ],\n",
       "       [28.76404367],\n",
       "       [18.92855752],\n",
       "       [21.5579687 ],\n",
       "       [19.21382383],\n",
       "       [19.69753626],\n",
       "       [29.08651863],\n",
       "       [19.56110455],\n",
       "       [18.64329122],\n",
       "       [21.02464473],\n",
       "       [20.14404005],\n",
       "       [24.72070384],\n",
       "       [25.16720763],\n",
       "       [18.64329122],\n",
       "       [19.5238959 ],\n",
       "       [18.97816905],\n",
       "       [19.43707572],\n",
       "       [20.47891789],\n",
       "       [25.62611429],\n",
       "       [25.46487682],\n",
       "       [19.02778059],\n",
       "       [18.82933446],\n",
       "       [26.61834493],\n",
       "       [26.46951033],\n",
       "       [20.31768041],\n",
       "       [27.18887754],\n",
       "       [25.37805664],\n",
       "       [21.16107645],\n",
       "       [25.19201339],\n",
       "       [19.13940653],\n",
       "       [18.96576617],\n",
       "       [20.70216978],\n",
       "       [19.13940653],\n",
       "       [19.33785266],\n",
       "       [30.23998674],\n",
       "       [28.87566962],\n",
       "       [24.44784042],\n",
       "       [19.43707572],\n",
       "       [24.49745195],\n",
       "       [23.35638672],\n",
       "       [18.64329122],\n",
       "       [18.64329122],\n",
       "       [26.5687334 ],\n",
       "       [19.31304689],\n",
       "       [19.27583824],\n",
       "       [19.32544978],\n",
       "       [19.22622671],\n",
       "       [19.79675933],\n",
       "       [19.39986707],\n",
       "       [19.72234203],\n",
       "       [19.26343536],\n",
       "       [27.18887754],\n",
       "       [18.85414022],\n",
       "       [21.93005519],\n",
       "       [19.0153777 ],\n",
       "       [23.85250204],\n",
       "       [28.75164079],\n",
       "       [24.39822889],\n",
       "       [19.98280257],\n",
       "       [20.13163716],\n",
       "       [18.64329122],\n",
       "       [28.91287827],\n",
       "       [28.42916583],\n",
       "       [18.84173734],\n",
       "       [26.76717952],\n",
       "       [24.37342312],\n",
       "       [19.38746419],\n",
       "       [23.02150888],\n",
       "       [24.95635862]])"
      ]
     },
     "execution_count": 125,
     "metadata": {},
     "output_type": "execute_result"
    }
   ],
   "source": [
    "y_test_prediction = model.predict(x_test)\n",
    "y_test_prediction  # 모델을 통한 예측값"
   ]
  },
  {
   "cell_type": "code",
   "execution_count": 127,
   "id": "47edd58b",
   "metadata": {},
   "outputs": [
    {
     "data": {
      "text/plain": [
       "8.236881612652455"
      ]
     },
     "execution_count": 127,
     "metadata": {},
     "output_type": "execute_result"
    }
   ],
   "source": [
    "mean_squared_error(y_test, y_test_prediction) ** 0.5  # RMSE 를 이용한 성능 평가"
   ]
  },
  {
   "cell_type": "markdown",
   "id": "a5f7e0b6",
   "metadata": {},
   "source": [
    "---"
   ]
  },
  {
   "cell_type": "markdown",
   "id": "46877747",
   "metadata": {},
   "source": [
    "## 3. 다중 선형 회귀(Multiple Linear Regression)\n",
    "- 시각적인 표현은 힘들지만, 개념적으로는 단순 선형 회귀와 동일\n",
    "- 여러 개의 독립(입력) 변수 $x$(features)들을 가지고 종속변수 $y$를 예측하기 위한 회귀 모형을 만드는 것이 목적"
   ]
  },
  {
   "cell_type": "markdown",
   "id": "94044e8f",
   "metadata": {},
   "source": [
    "- 가설 함수는 다음과 같이 나타낸다.</br></br>\n",
    "$\\quad h_{\\theta}(x) = \\theta_0 x_0 + \\theta_1 x_1 + \\theta_2 x_2 + \\theta_3 x_3 + \\theta_4 x_4 \\; ... \\theta_n x_n \\quad (단, x_0 = 1)$</br></br>\n",
    "이는 벡터를 사용하여 다음과 같이 표현할 수 있다.</br></br> $\\theta = \\begin{pmatrix}\\theta_0 \\\\ \\theta_1 \\\\ \\theta_3 \\\\ \\vdots \\\\ \\theta_n \\end{pmatrix}\\;$ ,  $\\quad x = \\begin{pmatrix}1 \\\\ x_1 \\\\ x_2 \\\\ \\vdots \\\\ x_n \\end{pmatrix}$ $\\qquad \\Rightarrow \\qquad h_{\\theta}(x) = \\theta^T x$</br></br>\n",
    "다중 선형 회귀 모델에서도, 동일한 손실함수를 사용한다. (손실함수가 작을수록 가설함수가 데이터에 잘 맞는다.)</br></br>\n",
    "$$J(\\theta) = \\frac{1}{2m}\\displaystyle\\sum_{i=1}^{m} (h_\\theta (x^{(i)}) - y^{(i)}) ^2 $$</br></br>\n",
    "다중 선형 회귀의 경사 하강법도 단순 선형 회귀와 똑같은데, 단지 $\\theta$값들이 많을 뿐이다.</br></br>\n",
    "$$\\theta_0 \\leftarrow \\theta_0 - \\alpha \\frac{1}{m}\\displaystyle\\sum_{i=1}^{m} (h_\\theta (x^{(i)}) - y^{(i)}) \\, \\cdot \\, x_0^{(i)} \\;$$</br>\n",
    "$$\\theta_1 \\leftarrow \\theta_1 - \\alpha \\frac{1}{m}\\displaystyle\\sum_{i=1}^{m} (h_\\theta (x^{(i)}) - y^{(i)}) \\, \\cdot \\, x_1^{(i)} \\;$$</br>\n",
    "$$\\theta_2 \\leftarrow \\theta_2 - \\alpha \\frac{1}{m}\\displaystyle\\sum_{i=1}^{m} (h_\\theta (x^{(i)}) - y^{(i)}) \\, \\cdot \\, x_2^{(i)} \\;$$\n",
    "$$\\vdots$$\n",
    "$$\\theta_n \\leftarrow \\theta_n - \\alpha \\frac{1}{m}\\displaystyle\\sum_{i=1}^{m} (h_\\theta (x^{(i)}) - y^{(i)}) \\, \\cdot \\, x_n^{(i)} \\;$$</br></br>\n",
    "다중 선형 회귀에서는 속성(features, 입력 변수)이 여러 개이므로, 데이터를 다음과 같이 표현한다.</br>\n",
    "( ※ 위 첨자 : 몇 번째 데이터인지 / 아래 첨자 : 몇 번째 속성인지 )</br></br>\n",
    "$$X_{m,n} = \\begin{pmatrix} x_0^{(1)} & x_1^{(1)} & \\cdots & x_n^{(1)} \\\\ x_0^{(2)} & x_1^{(2)} & \\cdots & x_n^{(2)} \\\\ \\vdots \\\\  x_0^{(m)} & x_1^{(m)} & \\cdots & x_n^{(m)}\\end{pmatrix}$$</br></br>\n",
    "이처럼 입력 변수 데이터를 행렬로 묶어서 표현한 걸 설계행렬(Design Matrix)라고 한다.</br></br>\n",
    "모든 데이터에 대한 예측 값은 $\\theta$ 벡터와 함께 두 행렬의 곱으로 나타낼 수 있다.</br></br>\n",
    "$$X \\cdot \\theta = \\begin{pmatrix} x_0^{(1)} & x_1^{(1)} & \\cdots & x_n^{(1)} \\\\ x_0^{(2)} & x_1^{(2)} & \\cdots & x_n^{(2)} \\\\ \\vdots \\\\  x_0^{(m)} & x_1^{(m)} & \\cdots & x_n^{(m)}\\end{pmatrix} \\, \\times \\, \\begin{pmatrix}\\theta_0 \\\\ \\theta_1 \\\\ \\theta_3 \\\\ \\vdots \\\\ \\theta_n \\end{pmatrix} \\; =\n",
    "\\; \\begin{pmatrix} \\theta_0 x_0^{(1)} & \\theta_1 x_1^{(1)} & \\cdots & \\theta_n x_n^{(1)} \\\\ \\theta_0 x_0^{(2)} & \\theta_1 x_1^{(2)} & \\cdots & \\theta_n x_n^{(2)} \\\\ \\vdots \\\\ \\theta_0 x_0^{(m)} & \\theta_1 x_1^{(m)} & \\cdots & \\theta_n x_n^{(m)}\\end{pmatrix} \\; =  \\;\n",
    "\\begin{pmatrix} h_\\theta (x^{(1)}) \\\\ h_\\theta (x^{(2)}) \\\\ \\vdots \\\\ h_\\theta (x^{(m)}) \\end{pmatrix}\n",
    "$$</br></br>\n",
    "각 데이터의 목표 변수는 값이 하나이므로 단순 선형 회귀와 마찬가지로 $y = \\begin{pmatrix} y^{(1)} \\\\ y^{(2)} \\\\ \\vdots \\\\ y^{(n)} \\end{pmatrix}$ 이므로,</br></br>\n",
    "\n",
    "$$error \\; = \\; X \\theta - y \\; = \\; \\begin{pmatrix} h_\\theta (x^{(1)}) \\\\ h_\\theta (x^{(2)}) \\\\ \\vdots \\\\ h_\\theta (x^{(m)}) \\end{pmatrix} \\; - \\; \\begin{pmatrix} y^{(1)} \\\\ y^{(2)} \\\\ \\vdots \\\\ y^{(m)} \\end{pmatrix} \\; = \\; \\begin{pmatrix} h_\\theta (x^{(1)}) - y^{(1)} \\\\ h_\\theta (x^{(2)}) - y^{(2)} \\\\ \\vdots \\\\ h_\\theta (x^{(m)}) - y^{(m)} \\end{pmatrix} $$</br></br>\n",
    "모든 예측값들과 목표 변수의 차이를 간단한 행렬 연산으로 구할 수 있다.</br></br>\n",
    "경사 하강법 공식도 마찬가지로, 다음과 같이 간단한 행렬 연산으로 나타낼 수 있다.</br></br>\n",
    "$$\\theta \\; \\leftarrow \\; \\theta - \\; \\alpha \\frac{1}{m} (X^T \\cdot error)$$</br></br>\n",
    "$$(\\quad X^T \\cdot error \\; = \\; \\begin{pmatrix} x_0^{(1)} & x_0^{(2)} & \\cdots & x_0^{(m)} \\\\ x_1^{(1)} & x_1^{(2)} & \\cdots & x_1^{(m)} \\\\ \\vdots \\\\  x_n^{(1)} & x_n^{(2)} & \\cdots & x_n^{(m)}\\end{pmatrix} \\; \\times \\; \n",
    "\\begin{pmatrix} h_\\theta (x^{(1)}) - y^{(1)} \\\\ h_\\theta (x^{(2)}) - y^{(2)} \\\\ \\vdots \\\\ h_\\theta (x^{(m)}) - y^{(m)} \\end{pmatrix} \\; = \\; \n",
    "\\begin{pmatrix} \\displaystyle\\sum_{i=1}^m{(h_{\\theta}(x^{(i)}) - y^{(i)})} \\cdot x_0^{(i)} \\\\ \\displaystyle\\sum_{i=1}^m {(h_{\\theta}(x^{(i)}) - y^{(i)})} \\cdot x_2^{(i)} \\\\ \\vdots \\\\ \\displaystyle\\sum_{i=1}^m {(h_{\\theta}(x^{(i)}) - y^{(i)})} \\cdot x_n^{(i)} \\end{pmatrix} \n",
    "\\quad ) $$</br></br>"
   ]
  },
  {
   "cell_type": "markdown",
   "id": "4233175d",
   "metadata": {},
   "source": [
    "#### 1) 코드 작성"
   ]
  },
  {
   "cell_type": "code",
   "execution_count": 140,
   "id": "ade67951",
   "metadata": {
    "scrolled": true
   },
   "outputs": [
    {
     "data": {
      "text/plain": [
       "array([0.11484521, 1.21120425, 0.18270523, 0.30060782])"
      ]
     },
     "execution_count": 140,
     "metadata": {},
     "output_type": "execute_result"
    }
   ],
   "source": [
    "import numpy as np\n",
    "\n",
    "def prediction(X, theta):\n",
    "    \"\"\"다중 선형 회귀 가정 함수. 모든 데이터에 대한 예측 값을 numpy 배열로 리턴한다\"\"\"\n",
    "    return X @ theta\n",
    "\n",
    "def gradient_descent(X, theta, y, iterations, alpha):\n",
    "    \"\"\"다중 선형 회귀 경사 하강법을 구현한 함수\"\"\"\n",
    "    m = len(X)  # 입력 변수 데이터 개수 저장\n",
    "    \n",
    "    for i in range(iterations):\n",
    "        error = prediction(X, theta) - y  # error(오차)를 구한다.\n",
    "        theta = theta - alpha * (1 / m) * (X.T @ error)  # theta를 업데이트 해준다.\n",
    "    \n",
    "    return theta\n",
    "\n",
    "# 입력 변수\n",
    "house_size = np.array([1.0, 1.5, 1.8, 5, 2.0, 2.5, 3.0, 3.5, 4.0, 5.0, 6.0, 7.0, 8.0, 8.5, 9.0, 10.0])  # 집 크기\n",
    "distance_from_station = np.array([5, 4.6, 4.2, 3.9, 3.9, 3.6, 3.5, 3.4, 2.9, 2.8, 2.7, 2.3, 2.0, 1.8, 1.5, 1.0])  # 지하철역으로부터의 거리 (km)\n",
    "number_of_rooms = np.array([1, 1, 1, 1, 2, 2, 2, 2, 3, 3, 3, 3, 4, 4, 4, 4])  # 방 수\n",
    "\n",
    "# 설계 행렬 X 정의\n",
    "X = np.array([\n",
    "    np.ones(16),\n",
    "    house_size,\n",
    "    distance_from_station,\n",
    "    number_of_rooms\n",
    "]).T\n",
    "\n",
    "# 목표 변수\n",
    "house_price = np.array([3, 3.2, 3.6 , 8, 3.4, 4.5, 5, 5.8, 6, 6.5, 9, 9, 10, 12, 13, 15])  # 집 가격\n",
    "\n",
    "# 입력 변수 y 정의\n",
    "y = house_price\n",
    "\n",
    "theta = np.array([0, 0, 0, 0])  # 파라미터 theta 초기화\n",
    "\n",
    "# 학습률 0.01로 100번 경사 하강\n",
    "theta = gradient_descent(X, theta, y, 100, 0.01)\n",
    "\n",
    "theta"
   ]
  },
  {
   "cell_type": "markdown",
   "id": "d3b9f550",
   "metadata": {},
   "source": [
    "#### 2) 정규 방정식\n",
    "- 경사 하강법 외에 비용함수를 최소화하는 분석적 방법으로, 행렬 연산을 이용한다.</br></br>\n",
    "- 손실 함수가 $J(\\theta) = \\frac{1}{2m}\\displaystyle\\sum_{i=1}^{m} (h_\\theta (x^{(i)}) - y^{(i)}) ^2 $ 일 때, 정규방정식은 다음과 같다.</br></br>\n",
    "$$\\nabla J(\\theta) = 0$$</br></br>\n",
    "위 정규방정식을 풀면 최적의 $\\theta$값들을 구할 수 있다.</br>\n",
    "하지만 이 정규방정식을 매번 풀기에는 귀찮으므로, 다음 식을 통해 $\\theta$값을 구한다.\n",
    "\n",
    "$$\\theta = (X^T X)^{-1} \\cdot X^T y$$"
   ]
  },
  {
   "cell_type": "code",
   "execution_count": 139,
   "id": "1b48f94d",
   "metadata": {},
   "outputs": [
    {
     "data": {
      "text/plain": [
       "array([ 5.24706322,  1.30727421, -0.68881811, -0.8709494 ])"
      ]
     },
     "execution_count": 139,
     "metadata": {},
     "output_type": "execute_result"
    }
   ],
   "source": [
    "def normal_equation(X, y):\n",
    "    \"\"\"설계 행렬 X와 목표 변수 벡터 y를 받아 정규 방정식으로 최적의 theta를 구하는 함수\"\"\"\n",
    "    return (np.linalg.pinv(X.T@X))@X.T@y\n",
    "\n",
    "# 입력 변수\n",
    "house_size = np.array([1.0, 1.5, 1.8, 5, 2.0, 2.5, 3.0, 3.5, 4.0, 5.0, 6.0, 7.0, 8.0, 8.5, 9.0, 10.0])  # 집 크기\n",
    "distance_from_station = np.array([5, 4.6, 4.2, 3.9, 3.9, 3.6, 3.5, 3.4, 2.9, 2.8, 2.7, 2.3, 2.0, 1.8, 1.5, 1.0])  # 지하철역으로부터의 거리 (km)\n",
    "number_of_rooms = np.array([1, 1, 1, 1, 2, 2, 2, 2, 3, 3, 3, 3, 4, 4, 4, 4])  # 방 수\n",
    "\n",
    "# 목표 변수\n",
    "house_price = np.array([3, 3.2, 3.6 , 8, 3.4, 4.5, 5, 5.8, 6, 6.5, 9, 9, 10, 12, 13, 15])  # 집 가격\n",
    "\n",
    "# 입력 변수 파라미터 X 정의\n",
    "X = np.array([\n",
    "    np.ones(16),\n",
    "    house_size,\n",
    "    distance_from_station,\n",
    "    number_of_rooms\n",
    "]).T\n",
    "\n",
    "# 입력 변수 y 정의\n",
    "y = house_price\n",
    "\n",
    "# 정규 방적식으로 theta 계산\n",
    "theta = normal_equation(X, y)\n",
    "theta"
   ]
  },
  {
   "cell_type": "markdown",
   "id": "0931d59a",
   "metadata": {},
   "source": [
    "#### 3) 경사 하강법과 정규 방정식의 장단점\n",
    "\n",
    "- 1) **경사 하강법**\n",
    "    - 장점 : 입력 변수의 개수 $n$이 커도 효율적으로 연산을 할 수 있다.\n",
    "    - 단점 : 적합한 학습율 $\\alpha$를 찾거나 정해야 한다. 반복문을 사용해야 한다, \n",
    "</br></br>\n",
    "- 2) **정규 방정식**\n",
    "    - 장점 : 한 단계로 계산을 끝낼 수 있다. 학습율 $\\alpha$를 정할 필요가 없다.\n",
    "    - 단점 : 입력 변수의 개수 $n$이 커지면 커질수록 월등히 비효율적이다. (행렬 연산을 하는 비용이 경사 하강법을 하는 것보다 크다)"
   ]
  },
  {
   "cell_type": "markdown",
   "id": "602981f2",
   "metadata": {},
   "source": [
    "#### 4) Convex 함수\n",
    "- convex(아래로 볼록) 함수에선, 어떤 지점에서 경사 하강을 시작해도 항상 손실함수의 최소 지점을 찾을 수 있고, 정규 방정식을 이용해서 최소점을 구할 수 있다.\n",
    "- 선형 회귀 손실 함수로 사용하는 MSE는 항상 convex 함수이다. </br>\n",
    "따라서, 선형 회귀를 할 때, 경사 하강법을 하거나 정규 방정식을 하거나 항상 최적의 $\\theta$ 값들을 구할 수 있다."
   ]
  },
  {
   "cell_type": "markdown",
   "id": "8874e5f1",
   "metadata": {},
   "source": [
    "#### 5) 사이킷런(kikit-learn)을 활용한 다중 선형 회귀 모델 코드 작성"
   ]
  },
  {
   "cell_type": "code",
   "execution_count": 147,
   "id": "3ff76654",
   "metadata": {},
   "outputs": [],
   "source": [
    "import pandas as pd\n",
    "\n",
    "from sklearn.datasets import load_boston\n",
    "from sklearn.model_selection import train_test_split\n",
    "from sklearn.linear_model import LinearRegression\n",
    "from sklearn.metrics import mean_squared_error"
   ]
  },
  {
   "cell_type": "code",
   "execution_count": 142,
   "id": "d50eb1cf",
   "metadata": {},
   "outputs": [],
   "source": [
    "boston_dataset = load_boston()"
   ]
  },
  {
   "cell_type": "code",
   "execution_count": 145,
   "id": "8a858ba6",
   "metadata": {
    "scrolled": false
   },
   "outputs": [
    {
     "data": {
      "text/html": [
       "<div>\n",
       "<style scoped>\n",
       "    .dataframe tbody tr th:only-of-type {\n",
       "        vertical-align: middle;\n",
       "    }\n",
       "\n",
       "    .dataframe tbody tr th {\n",
       "        vertical-align: top;\n",
       "    }\n",
       "\n",
       "    .dataframe thead th {\n",
       "        text-align: right;\n",
       "    }\n",
       "</style>\n",
       "<table border=\"1\" class=\"dataframe\">\n",
       "  <thead>\n",
       "    <tr style=\"text-align: right;\">\n",
       "      <th></th>\n",
       "      <th>CRIM</th>\n",
       "      <th>ZN</th>\n",
       "      <th>INDUS</th>\n",
       "      <th>CHAS</th>\n",
       "      <th>NOX</th>\n",
       "      <th>RM</th>\n",
       "      <th>AGE</th>\n",
       "      <th>DIS</th>\n",
       "      <th>RAD</th>\n",
       "      <th>TAX</th>\n",
       "      <th>PTRATIO</th>\n",
       "      <th>B</th>\n",
       "      <th>LSTAT</th>\n",
       "    </tr>\n",
       "  </thead>\n",
       "  <tbody>\n",
       "    <tr>\n",
       "      <th>0</th>\n",
       "      <td>0.00632</td>\n",
       "      <td>18.0</td>\n",
       "      <td>2.31</td>\n",
       "      <td>0.0</td>\n",
       "      <td>0.538</td>\n",
       "      <td>6.575</td>\n",
       "      <td>65.2</td>\n",
       "      <td>4.0900</td>\n",
       "      <td>1.0</td>\n",
       "      <td>296.0</td>\n",
       "      <td>15.3</td>\n",
       "      <td>396.90</td>\n",
       "      <td>4.98</td>\n",
       "    </tr>\n",
       "    <tr>\n",
       "      <th>1</th>\n",
       "      <td>0.02731</td>\n",
       "      <td>0.0</td>\n",
       "      <td>7.07</td>\n",
       "      <td>0.0</td>\n",
       "      <td>0.469</td>\n",
       "      <td>6.421</td>\n",
       "      <td>78.9</td>\n",
       "      <td>4.9671</td>\n",
       "      <td>2.0</td>\n",
       "      <td>242.0</td>\n",
       "      <td>17.8</td>\n",
       "      <td>396.90</td>\n",
       "      <td>9.14</td>\n",
       "    </tr>\n",
       "    <tr>\n",
       "      <th>2</th>\n",
       "      <td>0.02729</td>\n",
       "      <td>0.0</td>\n",
       "      <td>7.07</td>\n",
       "      <td>0.0</td>\n",
       "      <td>0.469</td>\n",
       "      <td>7.185</td>\n",
       "      <td>61.1</td>\n",
       "      <td>4.9671</td>\n",
       "      <td>2.0</td>\n",
       "      <td>242.0</td>\n",
       "      <td>17.8</td>\n",
       "      <td>392.83</td>\n",
       "      <td>4.03</td>\n",
       "    </tr>\n",
       "    <tr>\n",
       "      <th>3</th>\n",
       "      <td>0.03237</td>\n",
       "      <td>0.0</td>\n",
       "      <td>2.18</td>\n",
       "      <td>0.0</td>\n",
       "      <td>0.458</td>\n",
       "      <td>6.998</td>\n",
       "      <td>45.8</td>\n",
       "      <td>6.0622</td>\n",
       "      <td>3.0</td>\n",
       "      <td>222.0</td>\n",
       "      <td>18.7</td>\n",
       "      <td>394.63</td>\n",
       "      <td>2.94</td>\n",
       "    </tr>\n",
       "    <tr>\n",
       "      <th>4</th>\n",
       "      <td>0.06905</td>\n",
       "      <td>0.0</td>\n",
       "      <td>2.18</td>\n",
       "      <td>0.0</td>\n",
       "      <td>0.458</td>\n",
       "      <td>7.147</td>\n",
       "      <td>54.2</td>\n",
       "      <td>6.0622</td>\n",
       "      <td>3.0</td>\n",
       "      <td>222.0</td>\n",
       "      <td>18.7</td>\n",
       "      <td>396.90</td>\n",
       "      <td>5.33</td>\n",
       "    </tr>\n",
       "    <tr>\n",
       "      <th>...</th>\n",
       "      <td>...</td>\n",
       "      <td>...</td>\n",
       "      <td>...</td>\n",
       "      <td>...</td>\n",
       "      <td>...</td>\n",
       "      <td>...</td>\n",
       "      <td>...</td>\n",
       "      <td>...</td>\n",
       "      <td>...</td>\n",
       "      <td>...</td>\n",
       "      <td>...</td>\n",
       "      <td>...</td>\n",
       "      <td>...</td>\n",
       "    </tr>\n",
       "    <tr>\n",
       "      <th>501</th>\n",
       "      <td>0.06263</td>\n",
       "      <td>0.0</td>\n",
       "      <td>11.93</td>\n",
       "      <td>0.0</td>\n",
       "      <td>0.573</td>\n",
       "      <td>6.593</td>\n",
       "      <td>69.1</td>\n",
       "      <td>2.4786</td>\n",
       "      <td>1.0</td>\n",
       "      <td>273.0</td>\n",
       "      <td>21.0</td>\n",
       "      <td>391.99</td>\n",
       "      <td>9.67</td>\n",
       "    </tr>\n",
       "    <tr>\n",
       "      <th>502</th>\n",
       "      <td>0.04527</td>\n",
       "      <td>0.0</td>\n",
       "      <td>11.93</td>\n",
       "      <td>0.0</td>\n",
       "      <td>0.573</td>\n",
       "      <td>6.120</td>\n",
       "      <td>76.7</td>\n",
       "      <td>2.2875</td>\n",
       "      <td>1.0</td>\n",
       "      <td>273.0</td>\n",
       "      <td>21.0</td>\n",
       "      <td>396.90</td>\n",
       "      <td>9.08</td>\n",
       "    </tr>\n",
       "    <tr>\n",
       "      <th>503</th>\n",
       "      <td>0.06076</td>\n",
       "      <td>0.0</td>\n",
       "      <td>11.93</td>\n",
       "      <td>0.0</td>\n",
       "      <td>0.573</td>\n",
       "      <td>6.976</td>\n",
       "      <td>91.0</td>\n",
       "      <td>2.1675</td>\n",
       "      <td>1.0</td>\n",
       "      <td>273.0</td>\n",
       "      <td>21.0</td>\n",
       "      <td>396.90</td>\n",
       "      <td>5.64</td>\n",
       "    </tr>\n",
       "    <tr>\n",
       "      <th>504</th>\n",
       "      <td>0.10959</td>\n",
       "      <td>0.0</td>\n",
       "      <td>11.93</td>\n",
       "      <td>0.0</td>\n",
       "      <td>0.573</td>\n",
       "      <td>6.794</td>\n",
       "      <td>89.3</td>\n",
       "      <td>2.3889</td>\n",
       "      <td>1.0</td>\n",
       "      <td>273.0</td>\n",
       "      <td>21.0</td>\n",
       "      <td>393.45</td>\n",
       "      <td>6.48</td>\n",
       "    </tr>\n",
       "    <tr>\n",
       "      <th>505</th>\n",
       "      <td>0.04741</td>\n",
       "      <td>0.0</td>\n",
       "      <td>11.93</td>\n",
       "      <td>0.0</td>\n",
       "      <td>0.573</td>\n",
       "      <td>6.030</td>\n",
       "      <td>80.8</td>\n",
       "      <td>2.5050</td>\n",
       "      <td>1.0</td>\n",
       "      <td>273.0</td>\n",
       "      <td>21.0</td>\n",
       "      <td>396.90</td>\n",
       "      <td>7.88</td>\n",
       "    </tr>\n",
       "  </tbody>\n",
       "</table>\n",
       "<p>506 rows × 13 columns</p>\n",
       "</div>"
      ],
      "text/plain": [
       "        CRIM    ZN  INDUS  CHAS    NOX     RM   AGE     DIS  RAD    TAX  \\\n",
       "0    0.00632  18.0   2.31   0.0  0.538  6.575  65.2  4.0900  1.0  296.0   \n",
       "1    0.02731   0.0   7.07   0.0  0.469  6.421  78.9  4.9671  2.0  242.0   \n",
       "2    0.02729   0.0   7.07   0.0  0.469  7.185  61.1  4.9671  2.0  242.0   \n",
       "3    0.03237   0.0   2.18   0.0  0.458  6.998  45.8  6.0622  3.0  222.0   \n",
       "4    0.06905   0.0   2.18   0.0  0.458  7.147  54.2  6.0622  3.0  222.0   \n",
       "..       ...   ...    ...   ...    ...    ...   ...     ...  ...    ...   \n",
       "501  0.06263   0.0  11.93   0.0  0.573  6.593  69.1  2.4786  1.0  273.0   \n",
       "502  0.04527   0.0  11.93   0.0  0.573  6.120  76.7  2.2875  1.0  273.0   \n",
       "503  0.06076   0.0  11.93   0.0  0.573  6.976  91.0  2.1675  1.0  273.0   \n",
       "504  0.10959   0.0  11.93   0.0  0.573  6.794  89.3  2.3889  1.0  273.0   \n",
       "505  0.04741   0.0  11.93   0.0  0.573  6.030  80.8  2.5050  1.0  273.0   \n",
       "\n",
       "     PTRATIO       B  LSTAT  \n",
       "0       15.3  396.90   4.98  \n",
       "1       17.8  396.90   9.14  \n",
       "2       17.8  392.83   4.03  \n",
       "3       18.7  394.63   2.94  \n",
       "4       18.7  396.90   5.33  \n",
       "..       ...     ...    ...  \n",
       "501     21.0  391.99   9.67  \n",
       "502     21.0  396.90   9.08  \n",
       "503     21.0  396.90   5.64  \n",
       "504     21.0  393.45   6.48  \n",
       "505     21.0  396.90   7.88  \n",
       "\n",
       "[506 rows x 13 columns]"
      ]
     },
     "execution_count": 145,
     "metadata": {},
     "output_type": "execute_result"
    }
   ],
   "source": [
    "X = pd.DataFrame(boston_dataset.data, columns = boston_dataset.feature_names)  # 입력 변수\n",
    "X"
   ]
  },
  {
   "cell_type": "code",
   "execution_count": 146,
   "id": "3f5f1bfc",
   "metadata": {},
   "outputs": [],
   "source": [
    "y = pd.DataFrame(boston_dataset.target, columns = ['MEDV'])"
   ]
  },
  {
   "cell_type": "code",
   "execution_count": 150,
   "id": "10551e9c",
   "metadata": {},
   "outputs": [
    {
     "data": {
      "text/plain": [
       "LinearRegression()"
      ]
     },
     "execution_count": 150,
     "metadata": {},
     "output_type": "execute_result"
    }
   ],
   "source": [
    "X_train, X_test, y_train, y_test = train_test_split(X, y, test_size = 0.2, random_state = 5)  # 트레이닝 셋, 테스트 셋 나누기\n",
    "\n",
    "model = LinearRegression()  # (다중) 선형 회귀 모델\n",
    "model.fit(X_train, y_train)  # 트레이닝 셋으로 모델 학습 시키기"
   ]
  },
  {
   "cell_type": "code",
   "execution_count": 151,
   "id": "187f4be2",
   "metadata": {
    "scrolled": true
   },
   "outputs": [
    {
     "data": {
      "text/plain": [
       "array([[-1.30799852e-01,  4.94030235e-02,  1.09535045e-03,\n",
       "         2.70536624e+00, -1.59570504e+01,  3.41397332e+00,\n",
       "         1.11887670e-03, -1.49308124e+00,  3.64422378e-01,\n",
       "        -1.31718155e-02, -9.52369666e-01,  1.17492092e-02,\n",
       "        -5.94076089e-01]])"
      ]
     },
     "execution_count": 151,
     "metadata": {},
     "output_type": "execute_result"
    }
   ],
   "source": [
    "model.coef_  # theta_1, theta_2, theta_3, ... , theta_n"
   ]
  },
  {
   "cell_type": "code",
   "execution_count": 153,
   "id": "9797c0c3",
   "metadata": {
    "scrolled": true
   },
   "outputs": [
    {
     "data": {
      "text/plain": [
       "array([37.91248701])"
      ]
     },
     "execution_count": 153,
     "metadata": {},
     "output_type": "execute_result"
    }
   ],
   "source": [
    "model.intercept_  # theta_0"
   ]
  },
  {
   "cell_type": "code",
   "execution_count": 155,
   "id": "f5166c0c",
   "metadata": {
    "scrolled": true
   },
   "outputs": [
    {
     "data": {
      "text/plain": [
       "array([[37.56311787],\n",
       "       [32.14445143],\n",
       "       [27.06573629],\n",
       "       [ 5.67080633],\n",
       "       [35.09982577],\n",
       "       [ 5.85803701],\n",
       "       [27.53708506],\n",
       "       [31.81019188],\n",
       "       [26.35634771],\n",
       "       [22.77208748],\n",
       "       [31.91183048],\n",
       "       [21.50224061],\n",
       "       [23.70119983],\n",
       "       [33.3622504 ],\n",
       "       [28.51633591],\n",
       "       [14.39456899],\n",
       "       [ 0.19284025],\n",
       "       [18.66247155],\n",
       "       [13.71004139],\n",
       "       [14.13408635],\n",
       "       [ 2.03263952],\n",
       "       [19.7280831 ],\n",
       "       [38.18657429],\n",
       "       [24.19760058],\n",
       "       [31.30247973],\n",
       "       [11.14144544],\n",
       "       [25.03636951],\n",
       "       [23.27970871],\n",
       "       [22.49420127],\n",
       "       [20.52972594],\n",
       "       [15.16513744],\n",
       "       [ 6.92553586],\n",
       "       [18.3557733 ],\n",
       "       [22.37179804],\n",
       "       [28.91287973],\n",
       "       [19.02980786],\n",
       "       [30.19357214],\n",
       "       [ 8.74384915],\n",
       "       [40.86691522],\n",
       "       [34.53763591],\n",
       "       [20.70224878],\n",
       "       [ 2.59618963],\n",
       "       [29.99590282],\n",
       "       [12.15704798],\n",
       "       [27.10186397],\n",
       "       [30.8052437 ],\n",
       "       [-6.24169079],\n",
       "       [19.84885777],\n",
       "       [20.92973441],\n",
       "       [12.43523958],\n",
       "       [20.4949947 ],\n",
       "       [19.19231742],\n",
       "       [23.69073157],\n",
       "       [12.67998473],\n",
       "       [17.14252424],\n",
       "       [25.04649176],\n",
       "       [34.77758126],\n",
       "       [15.23294903],\n",
       "       [28.22306193],\n",
       "       [21.08745388],\n",
       "       [20.39506129],\n",
       "       [25.79476888],\n",
       "       [14.72463673],\n",
       "       [33.18635032],\n",
       "       [23.17771307],\n",
       "       [13.11057248],\n",
       "       [19.23154617],\n",
       "       [24.61162961],\n",
       "       [21.50327036],\n",
       "       [22.00419172],\n",
       "       [20.5900874 ],\n",
       "       [27.19709085],\n",
       "       [16.86361523],\n",
       "       [18.92610238],\n",
       "       [20.62344917],\n",
       "       [25.73255665],\n",
       "       [22.03855586],\n",
       "       [14.51899949],\n",
       "       [34.3918044 ],\n",
       "       [18.5369776 ],\n",
       "       [23.38945015],\n",
       "       [41.36132839],\n",
       "       [23.27134886],\n",
       "       [15.62340913],\n",
       "       [25.69729854],\n",
       "       [17.16406313],\n",
       "       [18.5066679 ],\n",
       "       [10.04976469],\n",
       "       [18.99779955],\n",
       "       [17.02528993],\n",
       "       [35.707325  ],\n",
       "       [17.50855206],\n",
       "       [22.16184894],\n",
       "       [19.26215663],\n",
       "       [24.16777784],\n",
       "       [27.80472748],\n",
       "       [12.42828948],\n",
       "       [21.91295599],\n",
       "       [22.39477399],\n",
       "       [13.19335364],\n",
       "       [23.96991103],\n",
       "       [21.19914699]])"
      ]
     },
     "execution_count": 155,
     "metadata": {},
     "output_type": "execute_result"
    }
   ],
   "source": [
    "y_test_prediction = model.predict(X_test)  # 테스트 셋으로 예측값을 출력\n",
    "y_test_prediction"
   ]
  },
  {
   "cell_type": "code",
   "execution_count": 157,
   "id": "1a2c2609",
   "metadata": {
    "scrolled": true
   },
   "outputs": [
    {
     "data": {
      "text/plain": [
       "4.568292042303193"
      ]
     },
     "execution_count": 157,
     "metadata": {},
     "output_type": "execute_result"
    }
   ],
   "source": [
    "evaluation = mean_squared_error(y_test, y_test_prediction) ** 0.5  # RMSE 를 통한 모델 성능 평가\n",
    "evaluation"
   ]
  },
  {
   "cell_type": "markdown",
   "id": "08fdc33a",
   "metadata": {},
   "source": [
    "#### 6) Feature Scaling(피쳐 스케일링)\n",
    "- 서로 다른 변수들은 범위가 달라서 비용함수의 그래프에서 파라미터를 임의 값으로 했을 때 극소점하고 멀리 떨어져 있을 확률이 높다.</br>\n",
    "변수의 범위가 많이 차이가 날 경우, 경사 하강법에 시간이 오래 걸린다.</br>\n",
    "따라서, **학습 속도를 높이기 위해서는 변수의 범위가 동일하도록 스케일링 해주어야 한다.**</br></br>\n",
    "- **Mean normalization** : feature 내 평균값을 뺀 다음, feature의 범위로 나눠준다.</br></br>\n",
    "$$x^{\\prime} = \\frac{x - average(x)}{max(x) - min(x)}$$</br></br>"
   ]
  },
  {
   "cell_type": "markdown",
   "id": "2f554fed",
   "metadata": {},
   "source": [
    "---"
   ]
  },
  {
   "cell_type": "markdown",
   "id": "d2392413",
   "metadata": {},
   "source": [
    "## 4. 다항 회귀(Polynomial Regression)\n",
    "- 항이 여러 개(제곱근, 2차항, 3차항 등)인 가설 함수로 결과를 예측하는 회귀 분석 방법\n",
    "- 함수의 형태가 **비선형**이다. ex) $h_{\\theta}(x) = \\theta_0 + \\theta_1 x + \\theta_2 x^2 + \\theta x^3$ </br></br>\n",
    "- 새 feature에 대해 그래프를 그렸을 때, 데이터를 잘 표현하는 비선형 함수를 찾아야 한다.</br>\n",
    "- 다음과 같이, 새로운 데이터 프레임을 만들어 다항 회귀를 구한다."
   ]
  },
  {
   "cell_type": "markdown",
   "id": "1916eaa6",
   "metadata": {},
   "source": [
    "#### 1) 속성이 1개 인 경우 \n",
    " $h_{\\theta}(x) = \\theta_0 + \\theta_1 x + \\theta_2 x^2 + \\theta x^3$\n",
    " \n",
    "|집 크기(평)|집 크기^2  |집 크기^3  |집 가격(억)|\n",
    "|:---------:|:---------:|:---------:|:---------:|\n",
    "|10         |100        |1000       |          1|\n",
    "|20         |400        |8000       |          3|\n",
    "|30         |900        |27000      |          5|\n",
    "|15         |225        |3375       |        1.5|\n",
    "|...        |        ...|        ...|        ...|"
   ]
  },
  {
   "cell_type": "markdown",
   "id": "9032c415",
   "metadata": {},
   "source": [
    "#### 2) 속성이 여러 개 인 경우 \n",
    " $h_{\\theta}(x) = \\theta_0 + \\theta_1 x_1 + \\theta_2 x_2 + \\theta_3 x_3 + \\theta_4 x_1 x_2 + \\theta_5 x_1 x_3 + \\theta_6 x_2 x_3 + \\theta_7 x_1^2 + \\theta_8 x_2^2 + \\theta_9 x_3^2$ </br>\n",
    " \n",
    "|$x_1$|$x_2$|$x_3$|$x_1 x_2$|$x_2 x_3$|$x_3 x_1$|$x_1^2$|$x_2^2$|$x_3^2$|$y$|\n",
    "|:---:|:---:|:---:|:-------:|:-------:|:-------:|:-----:|:-----:|:-----:|:-:|\n",
    "|10   |1    |1    |10   |1    |10   |100  |1    |1    |1    |\n",
    "|20   |2    |0.5  |40   |1    |10   |400  |4    |0.25 |3    |\n",
    "|30   |3    |0.3  |90   |1.5  |9    |900  |9    |0.09 |5    |\n",
    "|...  |...  |...  |...  |...  |...  |...  |...  |...  |...  |"
   ]
  },
  {
   "cell_type": "markdown",
   "id": "c1e6bab3",
   "metadata": {},
   "source": [
    "#### 3) 코드 작성"
   ]
  },
  {
   "cell_type": "code",
   "execution_count": 58,
   "id": "468ad778",
   "metadata": {},
   "outputs": [
    {
     "data": {
      "text/plain": [
       "57.877049027249136"
      ]
     },
     "execution_count": 58,
     "metadata": {},
     "output_type": "execute_result"
    }
   ],
   "source": [
    "from sklearn import datasets\n",
    "from sklearn.preprocessing import PolynomialFeatures  # 전처리 -> 다항 변환기\n",
    "from sklearn.model_selection import train_test_split\n",
    "from sklearn.linear_model import LinearRegression\n",
    "from sklearn.metrics import mean_squared_error\n",
    "\n",
    "import pandas as pd  \n",
    "\n",
    "diabetes_dataset = datasets.load_diabetes()\n",
    "\n",
    "polynomial_transformer = PolynomialFeatures(2)  # 2차항 다항 회귀\n",
    "polynomial_data = polynomial_transformer.fit_transform(diabetes_dataset.data)\n",
    "\n",
    "polynomial_feature_names = polynomial_transformer.get_feature_names(diabetes_dataset.feature_names)\n",
    "\n",
    "# 입력 변수\n",
    "X = pd.DataFrame(polynomial_data, columns = polynomial_feature_names)\n",
    "\n",
    "# 목표 변수\n",
    "y = pd.DataFrame(diabetes_dataset.target, columns=['diabetes'])\n",
    "\n",
    "X_train, X_test, y_train, y_test = train_test_split(X, y, test_size = 0.2, random_state = 5)\n",
    "\n",
    "model = LinearRegression()\n",
    "model.fit(X_train, y_train)\n",
    "\n",
    "y_test_predict = model.predict(X_test)\n",
    "\n",
    "mse = mean_squared_error(y_test, y_test_predict)\n",
    "mse ** 0.5"
   ]
  },
  {
   "cell_type": "markdown",
   "id": "44da0137",
   "metadata": {},
   "source": [
    "---"
   ]
  },
  {
   "cell_type": "markdown",
   "id": "0fa657db",
   "metadata": {},
   "source": [
    "## 5. 로지스틱 회귀(Logistic Regression)\n",
    "- 종속 변수와 독립 변수간의 관계를 구체적인 함수로 나타내어 향후 예측 모델에 사용한다는 점에서, 일반적인 회귀 분석과 동일하다.\n",
    "- 하지만 선형 회귀 분석과는 다르게, **\"종속 변수\"가 \"범주형 데이터\"**이며,</br>\n",
    "입력 데이터가 주어졌을 때 해당 데이터의 결과가 특정 분류로 나뉘기 때문에 일종의 **\"분류\" 기법**으로 볼 수 있다.</br></br>\n",
    "- 로지스틱 회귀는 데이터에 가장 잘 맞는 \"시그모이드 함수\"를 찾는다."
   ]
  },
  {
   "cell_type": "markdown",
   "id": "77ccd2b2",
   "metadata": {},
   "source": [
    "#### 1) 시그모이드 함수(Sigmoid Function) \n",
    "$$\\frac{1}{1+e^{-x}}$$\n"
   ]
  },
  {
   "cell_type": "code",
   "execution_count": 76,
   "id": "9fff2795",
   "metadata": {
    "scrolled": true
   },
   "outputs": [
    {
     "data": {
      "image/png": "[encoded data removed]",
      "text/plain": [
       "<Figure size 432x288 with 1 Axes>"
      ]
     },
     "metadata": {
      "needs_background": "light"
     },
     "output_type": "display_data"
    }
   ],
   "source": [
    "import numpy as np\n",
    "import matplotlib.pyplot as plt\n",
    " \n",
    "x = np.arange(-10, 11, 0.1)\n",
    "plt.plot(x, 1 / (1 +np.exp(-x)))\n",
    "plt.show()"
   ]
  },
  {
   "cell_type": "markdown",
   "id": "9d48a63c",
   "metadata": {},
   "source": [
    "#### 2) 로지스틱 회귀 가설 함수\n",
    "- 선형 회귀 가설함수 : $$g_{\\theta}(x) = \\theta ^T x$$</br></br>\n",
    "- 로지스틱 회귀 가설함수 : $$h_{\\theta}(x) = \\frac{1}{1+e^{-g_{\\theta}(x)}}$$</br></br>\n",
    "- 아웃풋의 범위가 무한대인 일차 함수 $g$ 를 시그모이드 함수 $h$ 에 합성하면, **0 ~ 1 사이의 어떤 수로 아웃풋이 떨어진다.**</br>\n",
    "통과할 확률 0.5를 기준으로 나눌 때, 아웃풋이 0.5를 넘으면 통과, 넘지 않으면 탈락이라고 볼 수 있다.</br>\n",
    "이때 0.5처럼 분류를 구별하는 경계선을 **\"Decision Boundary\"** 라고 한다."
   ]
  },
  {
   "cell_type": "markdown",
   "id": "1b5e5da0",
   "metadata": {},
   "source": [
    "#### 3) 로그 손실(log-loss / cross entropy)\n",
    "- 손실의 정도를 로그 함수로 결정한다.\n",
    "$$logloss(h_{\\theta}(x), y) = \\begin{cases} \\; -log(h_{\\theta}(x)) & (y=1) \\\\ -log(1 - h_{\\theta}(x)) & (y=0) \\end{cases}$$</br></br>\n",
    "위 식을 다르게 표현하면, $$logloss(h_{\\theta}(x), y) = -ylog(h_{\\theta}(x) - (1-y)log(1-h_{\\theta}(x))$$</br></br>"
   ]
  },
  {
   "cell_type": "code",
   "execution_count": 102,
   "id": "ba645650",
   "metadata": {},
   "outputs": [
    {
     "data": {
      "image/png": "[encoded data removed]",
      "text/plain": [
       "<Figure size 432x288 with 2 Axes>"
      ]
     },
     "metadata": {
      "needs_background": "light"
     },
     "output_type": "display_data"
    }
   ],
   "source": [
    "import numpy as np\n",
    "import matplotlib.pyplot as plt\n",
    " \n",
    "x = np.arange(0.01, 1.0, 0.01)\n",
    "plt.subplot(1,2,2)\n",
    "plt.xlabel('y = 1')\n",
    "plt.plot(x, -np.log(1-x))\n",
    "\n",
    "plt.subplot(1,2,1)\n",
    "plt.xlabel('y = 0')\n",
    "plt.plot(x, -np.log(x))\n",
    "plt.show()"
   ]
  },
  {
   "cell_type": "markdown",
   "id": "819b952b",
   "metadata": {},
   "source": [
    "$\\quad$ \n",
    "- **로지스틱 회귀 손실 함수** (손실 함수의 인풋은 $\\theta$ 이다.)\n",
    "$$J(\\theta) = \\frac{1}{m} \\displaystyle\\sum_{i=1}^{10} [logloss(h_{\\theta}(x^{(i)}), y^{(i)})]$$</br>\n",
    "$\\quad$ \n",
    "- 모든 학습 데이터의 로그 손실을 계산한 후, 평균을 낸다. $\\quad \\Rightarrow \\quad$ 가설 함수 평가"
   ]
  },
  {
   "cell_type": "markdown",
   "id": "92651054",
   "metadata": {},
   "source": [
    "#### 4) 로지스틱 회귀 경사 하강법\n",
    "- 경사하강법을 하는 방법은 선형 회귀와 거의 똑같다. ($\\theta$ 값들을 조율하면서 손실을 계속 줄여나간다.)</br></br>\n",
    "$$\\theta_0 \\leftarrow \\theta_0 - \\alpha \\frac{\\partial}{\\partial \\theta_0} J(\\theta)$$</br>\n",
    "$$\\theta_1 \\leftarrow \\theta_1 - \\alpha \\frac{\\partial}{\\partial \\theta_1} J(\\theta)$$</br>\n",
    "$$\\theta_2 \\leftarrow \\theta_2 - \\alpha \\frac{\\partial}{\\partial \\theta_2} J(\\theta)$$</br>\n",
    "$$\\vdots$$\n",
    "$$\\theta_n \\leftarrow \\theta_n - \\alpha \\frac{\\partial}{\\partial \\theta_n} J(\\theta)$$</br>\n",
    "\n",
    "- 선형 회귀와의 차이점은 손실함수 $J$가 다르다는 것인데, 편미분을 한 결과는 선형 회귀에서랑 똑같이 나온다.</br></br>\n",
    "$$\\theta_0 \\leftarrow \\theta_0 - \\alpha \\frac{1}{m}\\displaystyle\\sum_{i=1}^{m} (h_\\theta (x^{(i)}) - y^{(i)}) \\, \\cdot \\, x_0^{(i)} \\;$$</br>\n",
    "$$\\theta_1 \\leftarrow \\theta_1 - \\alpha \\frac{1}{m}\\displaystyle\\sum_{i=1}^{m} (h_\\theta (x^{(i)}) - y^{(i)}) \\, \\cdot \\, x_1^{(i)} \\;$$</br>\n",
    "$$\\theta_2 \\leftarrow \\theta_2 - \\alpha \\frac{1}{m}\\displaystyle\\sum_{i=1}^{m} (h_\\theta (x^{(i)}) - y^{(i)}) \\, \\cdot \\, x_2^{(i)} \\;$$\n",
    "$$\\vdots$$\n",
    "$$\\theta_n \\leftarrow \\theta_n - \\alpha \\frac{1}{m}\\displaystyle\\sum_{i=1}^{m} (h_\\theta (x^{(i)}) - y^{(i)}) \\, \\cdot \\, x_n^{(i)} \\;$$</br></br>"
   ]
  },
  {
   "cell_type": "markdown",
   "id": "6b195006",
   "metadata": {},
   "source": [
    "#### 5) 로지스틱 회귀 구현\n",
    "- 로지스틱 회귀의 구현은 다음과 같이 나타낼 수 있다.</br></br>\n",
    "$$X \\cdot \\theta = \\begin{pmatrix} x_0^{(1)} & x_1^{(1)} & \\cdots & x_n^{(1)} \\\\ x_0^{(2)} & x_1^{(2)} & \\cdots & x_n^{(2)} \\\\ \\vdots \\\\  x_0^{(m)} & x_1^{(m)} & \\cdots & x_n^{(m)}\\end{pmatrix} \\, \\times \\, \\begin{pmatrix}\\theta_0 \\\\ \\theta_1 \\\\ \\theta_3 \\\\ \\vdots \\\\ \\theta_n \\end{pmatrix} \\; =\n",
    "\\; \\begin{pmatrix} \\theta_0 x_0^{(1)} & \\theta_1 x_1^{(1)} & \\cdots & \\theta_n x_n^{(1)} \\\\ \\theta_0 x_0^{(2)} & \\theta_1 x_1^{(2)} & \\cdots & \\theta_n x_n^{(2)} \\\\ \\vdots \\\\ \\theta_0 x_0^{(m)} & \\theta_1 x_1^{(m)} & \\cdots & \\theta_n x_n^{(m)}\\end{pmatrix} \\; =  \\;\n",
    "\\begin{pmatrix} g_\\theta (x^{(1)}) \\\\ g_\\theta (x^{(2)}) \\\\ \\vdots \\\\ g_\\theta (x^{(m)}) \\end{pmatrix}\n",
    "$$</br></br>\n",
    "위에서 계산한 모든 결과 값을 시그모이드 함수에 넣어주면,</br></br>\n",
    "$$h_{\\theta}(x) = \\frac{1}{1+e^{-g_{\\theta}(x)}}$$</br></br>\n",
    "$$sigmoid(X \\cdot \\theta) = \\begin{pmatrix} h_\\theta (x^{(1)}) \\\\ h_\\theta (x^{(2)}) \\\\ \\vdots \\\\ h_\\theta (x^{(m)}) \\end{pmatrix}$$ </br></br>\n",
    "예측 오차를 구하면,</br>\n",
    "$$error \\; = \\; sigmoid(X \\cdot \\theta) - y \\; = \\; \\begin{pmatrix} h_\\theta (x^{(1)}) - y^{(1)} \\\\ h_\\theta (x^{(2)}) - y^{(2)} \\\\ \\vdots \\\\ h_\\theta (x^{(m)}) - y^{(m)} \\end{pmatrix}$$</br></br>\n",
    "경사 하강법은 다중 선형 회귀를 할 때와 똑같이 표현할 수 있다.</br></br>\n",
    "$$\\theta \\; \\leftarrow \\; \\theta - \\; \\alpha \\frac{1}{m} (X^T \\cdot error)$$"
   ]
  },
  {
   "cell_type": "markdown",
   "id": "007a9462",
   "metadata": {},
   "source": [
    "#### 6) 코드 작성"
   ]
  },
  {
   "cell_type": "code",
   "execution_count": 106,
   "id": "68d8b1cb",
   "metadata": {
    "scrolled": true
   },
   "outputs": [
    {
     "data": {
      "text/plain": [
       "array([-1.35280508,  1.61640725, -1.83666046, -0.60286277])"
      ]
     },
     "execution_count": 106,
     "metadata": {},
     "output_type": "execute_result"
    }
   ],
   "source": [
    "import numpy as np\n",
    "\n",
    "def sigmoid(x):\n",
    "    \"\"\"시그모이드 함수\"\"\"\n",
    "    return 1 / (1 + np.exp(-x))\n",
    "\n",
    "def prediction(X, theta):\n",
    "    \"\"\"로지스틱 회귀 가정함수\"\"\"\n",
    "    return sigmoid(X @ theta)\n",
    "\n",
    "def gradient_descent(X, theta, y, iterations, alpha):\n",
    "    \"\"\"로지스틱 회귀 경사 하강 알고리즘\"\"\"\n",
    "    m = len(X)\n",
    "    \n",
    "    for i in range(iterations):\n",
    "        error = prediction(X, theta) - y\n",
    "        theta = theta - alpha * (1 / m) * (X.T @ error)\n",
    "    \n",
    "    return theta\n",
    "\n",
    "# 입력 변수\n",
    "hours_studied = np.array([0.2, 0.3, 0.7, 1, 1.3, 1.8, 2, 2.1, 2.2, 3, 4, 4.2, 4, 4.7, 5.0, 5.9])  # 공부 시간 (단위: 100시간)\n",
    "gpa_rank = np.array([0.9, 0.95, 0.8, 0.82, 0.7, 0.6, 0.55, 0.67, 0.4, 0.3, 0.2, 0.2, 0.15, 0.18, 0.15, 0.05]) # 학년 내신 (백분률)\n",
    "number_of_tries = np.array([1, 2, 2, 2, 4, 2, 2, 2, 3, 3, 3, 3, 2, 4, 1, 2])  # 시험 응시 횟수\n",
    "\n",
    "# 설계 행렬 X 정의\n",
    "X = np.array([\n",
    "    np.ones(16),\n",
    "    hours_studied,\n",
    "    gpa_rank,\n",
    "    number_of_tries\n",
    "]).T\n",
    "\n",
    "# 목표 변수\n",
    "passed = np.array([0, 0, 0, 0, 0, 0, 0, 0, 1, 1, 1, 1, 1, 1, 1, 1])  # 시험 통과 여부 (0: 탈락, 1:통과)\n",
    "\n",
    "# 입력 변수 y 정의\n",
    "y = passed\n",
    "\n",
    "theta = [0, 0, 0, 0]  # 파라미터 초기값 설정\n",
    "theta = gradient_descent(X, theta, y, 300, 0.1)  # 경사 하강법을 사용해서 최적의 파라미터를 찾는다\n",
    "theta"
   ]
  },
  {
   "cell_type": "markdown",
   "id": "2113bfac",
   "metadata": {},
   "source": [
    "#### 7) 코드 작성"
   ]
  },
  {
   "cell_type": "code",
   "execution_count": 120,
   "id": "d26a0c66",
   "metadata": {},
   "outputs": [],
   "source": [
    "from sklearn.datasets import load_iris\n",
    "from sklearn.model_selection import train_test_split\n",
    "from sklearn.linear_model import LogisticRegression\n",
    "\n",
    "import pandas as pd"
   ]
  },
  {
   "cell_type": "code",
   "execution_count": 115,
   "id": "efcd50b0",
   "metadata": {},
   "outputs": [
    {
     "name": "stdout",
     "output_type": "stream",
     "text": [
      ".. _iris_dataset:\n",
      "\n",
      "Iris plants dataset\n",
      "--------------------\n",
      "\n",
      "**Data Set Characteristics:**\n",
      "\n",
      "    :Number of Instances: 150 (50 in each of three classes)\n",
      "    :Number of Attributes: 4 numeric, predictive attributes and the class\n",
      "    :Attribute Information:\n",
      "        - sepal length in cm\n",
      "        - sepal width in cm\n",
      "        - petal length in cm\n",
      "        - petal width in cm\n",
      "        - class:\n",
      "                - Iris-Setosa\n",
      "                - Iris-Versicolour\n",
      "                - Iris-Virginica\n",
      "                \n",
      "    :Summary Statistics:\n",
      "\n",
      "    ============== ==== ==== ======= ===== ====================\n",
      "                    Min  Max   Mean    SD   Class Correlation\n",
      "    ============== ==== ==== ======= ===== ====================\n",
      "    sepal length:   4.3  7.9   5.84   0.83    0.7826\n",
      "    sepal width:    2.0  4.4   3.05   0.43   -0.4194\n",
      "    petal length:   1.0  6.9   3.76   1.76    0.9490  (high!)\n",
      "    petal width:    0.1  2.5   1.20   0.76    0.9565  (high!)\n",
      "    ============== ==== ==== ======= ===== ====================\n",
      "\n",
      "    :Missing Attribute Values: None\n",
      "    :Class Distribution: 33.3% for each of 3 classes.\n",
      "    :Creator: R.A. Fisher\n",
      "    :Donor: Michael Marshall (MARSHALL%PLU@io.arc.nasa.gov)\n",
      "    :Date: July, 1988\n",
      "\n",
      "The famous Iris database, first used by Sir R.A. Fisher. The dataset is taken\n",
      "from Fisher's paper. Note that it's the same as in R, but not as in the UCI\n",
      "Machine Learning Repository, which has two wrong data points.\n",
      "\n",
      "This is perhaps the best known database to be found in the\n",
      "pattern recognition literature.  Fisher's paper is a classic in the field and\n",
      "is referenced frequently to this day.  (See Duda & Hart, for example.)  The\n",
      "data set contains 3 classes of 50 instances each, where each class refers to a\n",
      "type of iris plant.  One class is linearly separable from the other 2; the\n",
      "latter are NOT linearly separable from each other.\n",
      "\n",
      ".. topic:: References\n",
      "\n",
      "   - Fisher, R.A. \"The use of multiple measurements in taxonomic problems\"\n",
      "     Annual Eugenics, 7, Part II, 179-188 (1936); also in \"Contributions to\n",
      "     Mathematical Statistics\" (John Wiley, NY, 1950).\n",
      "   - Duda, R.O., & Hart, P.E. (1973) Pattern Classification and Scene Analysis.\n",
      "     (Q327.D83) John Wiley & Sons.  ISBN 0-471-22361-1.  See page 218.\n",
      "   - Dasarathy, B.V. (1980) \"Nosing Around the Neighborhood: A New System\n",
      "     Structure and Classification Rule for Recognition in Partially Exposed\n",
      "     Environments\".  IEEE Transactions on Pattern Analysis and Machine\n",
      "     Intelligence, Vol. PAMI-2, No. 1, 67-71.\n",
      "   - Gates, G.W. (1972) \"The Reduced Nearest Neighbor Rule\".  IEEE Transactions\n",
      "     on Information Theory, May 1972, 431-433.\n",
      "   - See also: 1988 MLC Proceedings, 54-64.  Cheeseman et al\"s AUTOCLASS II\n",
      "     conceptual clustering system finds 3 classes in the data.\n",
      "   - Many, many more ...\n"
     ]
    }
   ],
   "source": [
    "iris_data =load_iris()\n",
    "print(iris_data.DESCR)"
   ]
  },
  {
   "cell_type": "code",
   "execution_count": 112,
   "id": "87bdf7af",
   "metadata": {
    "scrolled": false
   },
   "outputs": [
    {
     "data": {
      "text/html": [
       "<div>\n",
       "<style scoped>\n",
       "    .dataframe tbody tr th:only-of-type {\n",
       "        vertical-align: middle;\n",
       "    }\n",
       "\n",
       "    .dataframe tbody tr th {\n",
       "        vertical-align: top;\n",
       "    }\n",
       "\n",
       "    .dataframe thead th {\n",
       "        text-align: right;\n",
       "    }\n",
       "</style>\n",
       "<table border=\"1\" class=\"dataframe\">\n",
       "  <thead>\n",
       "    <tr style=\"text-align: right;\">\n",
       "      <th></th>\n",
       "      <th>sepal length (cm)</th>\n",
       "      <th>sepal width (cm)</th>\n",
       "      <th>petal length (cm)</th>\n",
       "      <th>petal width (cm)</th>\n",
       "    </tr>\n",
       "  </thead>\n",
       "  <tbody>\n",
       "    <tr>\n",
       "      <th>0</th>\n",
       "      <td>5.1</td>\n",
       "      <td>3.5</td>\n",
       "      <td>1.4</td>\n",
       "      <td>0.2</td>\n",
       "    </tr>\n",
       "    <tr>\n",
       "      <th>1</th>\n",
       "      <td>4.9</td>\n",
       "      <td>3.0</td>\n",
       "      <td>1.4</td>\n",
       "      <td>0.2</td>\n",
       "    </tr>\n",
       "    <tr>\n",
       "      <th>2</th>\n",
       "      <td>4.7</td>\n",
       "      <td>3.2</td>\n",
       "      <td>1.3</td>\n",
       "      <td>0.2</td>\n",
       "    </tr>\n",
       "    <tr>\n",
       "      <th>3</th>\n",
       "      <td>4.6</td>\n",
       "      <td>3.1</td>\n",
       "      <td>1.5</td>\n",
       "      <td>0.2</td>\n",
       "    </tr>\n",
       "    <tr>\n",
       "      <th>4</th>\n",
       "      <td>5.0</td>\n",
       "      <td>3.6</td>\n",
       "      <td>1.4</td>\n",
       "      <td>0.2</td>\n",
       "    </tr>\n",
       "    <tr>\n",
       "      <th>...</th>\n",
       "      <td>...</td>\n",
       "      <td>...</td>\n",
       "      <td>...</td>\n",
       "      <td>...</td>\n",
       "    </tr>\n",
       "    <tr>\n",
       "      <th>145</th>\n",
       "      <td>6.7</td>\n",
       "      <td>3.0</td>\n",
       "      <td>5.2</td>\n",
       "      <td>2.3</td>\n",
       "    </tr>\n",
       "    <tr>\n",
       "      <th>146</th>\n",
       "      <td>6.3</td>\n",
       "      <td>2.5</td>\n",
       "      <td>5.0</td>\n",
       "      <td>1.9</td>\n",
       "    </tr>\n",
       "    <tr>\n",
       "      <th>147</th>\n",
       "      <td>6.5</td>\n",
       "      <td>3.0</td>\n",
       "      <td>5.2</td>\n",
       "      <td>2.0</td>\n",
       "    </tr>\n",
       "    <tr>\n",
       "      <th>148</th>\n",
       "      <td>6.2</td>\n",
       "      <td>3.4</td>\n",
       "      <td>5.4</td>\n",
       "      <td>2.3</td>\n",
       "    </tr>\n",
       "    <tr>\n",
       "      <th>149</th>\n",
       "      <td>5.9</td>\n",
       "      <td>3.0</td>\n",
       "      <td>5.1</td>\n",
       "      <td>1.8</td>\n",
       "    </tr>\n",
       "  </tbody>\n",
       "</table>\n",
       "<p>150 rows × 4 columns</p>\n",
       "</div>"
      ],
      "text/plain": [
       "     sepal length (cm)  sepal width (cm)  petal length (cm)  petal width (cm)\n",
       "0                  5.1               3.5                1.4               0.2\n",
       "1                  4.9               3.0                1.4               0.2\n",
       "2                  4.7               3.2                1.3               0.2\n",
       "3                  4.6               3.1                1.5               0.2\n",
       "4                  5.0               3.6                1.4               0.2\n",
       "..                 ...               ...                ...               ...\n",
       "145                6.7               3.0                5.2               2.3\n",
       "146                6.3               2.5                5.0               1.9\n",
       "147                6.5               3.0                5.2               2.0\n",
       "148                6.2               3.4                5.4               2.3\n",
       "149                5.9               3.0                5.1               1.8\n",
       "\n",
       "[150 rows x 4 columns]"
      ]
     },
     "execution_count": 112,
     "metadata": {},
     "output_type": "execute_result"
    }
   ],
   "source": [
    "X = pd.DataFrame(iris_data.data, columns = iris_data.feature_names)\n",
    "X"
   ]
  },
  {
   "cell_type": "code",
   "execution_count": 117,
   "id": "c51a855c",
   "metadata": {
    "scrolled": false
   },
   "outputs": [
    {
     "data": {
      "text/html": [
       "<div>\n",
       "<style scoped>\n",
       "    .dataframe tbody tr th:only-of-type {\n",
       "        vertical-align: middle;\n",
       "    }\n",
       "\n",
       "    .dataframe tbody tr th {\n",
       "        vertical-align: top;\n",
       "    }\n",
       "\n",
       "    .dataframe thead th {\n",
       "        text-align: right;\n",
       "    }\n",
       "</style>\n",
       "<table border=\"1\" class=\"dataframe\">\n",
       "  <thead>\n",
       "    <tr style=\"text-align: right;\">\n",
       "      <th></th>\n",
       "      <th>class</th>\n",
       "    </tr>\n",
       "  </thead>\n",
       "  <tbody>\n",
       "    <tr>\n",
       "      <th>0</th>\n",
       "      <td>0</td>\n",
       "    </tr>\n",
       "    <tr>\n",
       "      <th>1</th>\n",
       "      <td>0</td>\n",
       "    </tr>\n",
       "    <tr>\n",
       "      <th>2</th>\n",
       "      <td>0</td>\n",
       "    </tr>\n",
       "    <tr>\n",
       "      <th>3</th>\n",
       "      <td>0</td>\n",
       "    </tr>\n",
       "    <tr>\n",
       "      <th>4</th>\n",
       "      <td>0</td>\n",
       "    </tr>\n",
       "    <tr>\n",
       "      <th>...</th>\n",
       "      <td>...</td>\n",
       "    </tr>\n",
       "    <tr>\n",
       "      <th>145</th>\n",
       "      <td>2</td>\n",
       "    </tr>\n",
       "    <tr>\n",
       "      <th>146</th>\n",
       "      <td>2</td>\n",
       "    </tr>\n",
       "    <tr>\n",
       "      <th>147</th>\n",
       "      <td>2</td>\n",
       "    </tr>\n",
       "    <tr>\n",
       "      <th>148</th>\n",
       "      <td>2</td>\n",
       "    </tr>\n",
       "    <tr>\n",
       "      <th>149</th>\n",
       "      <td>2</td>\n",
       "    </tr>\n",
       "  </tbody>\n",
       "</table>\n",
       "<p>150 rows × 1 columns</p>\n",
       "</div>"
      ],
      "text/plain": [
       "     class\n",
       "0        0\n",
       "1        0\n",
       "2        0\n",
       "3        0\n",
       "4        0\n",
       "..     ...\n",
       "145      2\n",
       "146      2\n",
       "147      2\n",
       "148      2\n",
       "149      2\n",
       "\n",
       "[150 rows x 1 columns]"
      ]
     },
     "execution_count": 117,
     "metadata": {},
     "output_type": "execute_result"
    }
   ],
   "source": [
    "y = pd.DataFrame(iris_data.target, columns = ['class'])\n",
    "y"
   ]
  },
  {
   "cell_type": "code",
   "execution_count": 121,
   "id": "a0c1b158",
   "metadata": {},
   "outputs": [],
   "source": [
    "X_train, X_test, y_train, y_test = train_test_split(X, y, test_size = 0.2, random_state = 5)"
   ]
  },
  {
   "cell_type": "code",
   "execution_count": 126,
   "id": "006760fe",
   "metadata": {},
   "outputs": [],
   "source": [
    "y_train = y_train.values.ravel()  # 로지스틱 회귀일 경우 작성"
   ]
  },
  {
   "cell_type": "code",
   "execution_count": 125,
   "id": "ecc404a5",
   "metadata": {},
   "outputs": [],
   "source": [
    "model = LogisticRegression(solver='saga', max_iter = 2000)  # optional parameter 설정"
   ]
  },
  {
   "cell_type": "code",
   "execution_count": 127,
   "id": "1ffaf2fd",
   "metadata": {
    "scrolled": true
   },
   "outputs": [
    {
     "data": {
      "text/plain": [
       "LogisticRegression(max_iter=2000, solver='saga')"
      ]
     },
     "execution_count": 127,
     "metadata": {},
     "output_type": "execute_result"
    }
   ],
   "source": [
    "model.fit(X_train, y_train)"
   ]
  },
  {
   "cell_type": "code",
   "execution_count": 128,
   "id": "c0096241",
   "metadata": {},
   "outputs": [
    {
     "data": {
      "text/plain": [
       "array([1, 2, 2, 0, 2, 1, 0, 2, 0, 1, 1, 2, 2, 2, 0, 0, 2, 2, 0, 0, 1, 2,\n",
       "       0, 1, 1, 2, 1, 1, 1, 2])"
      ]
     },
     "execution_count": 128,
     "metadata": {},
     "output_type": "execute_result"
    }
   ],
   "source": [
    "model.predict(X_test)"
   ]
  },
  {
   "cell_type": "code",
   "execution_count": 130,
   "id": "c21dbeca",
   "metadata": {
    "scrolled": true
   },
   "outputs": [
    {
     "data": {
      "text/plain": [
       "0.9666666666666667"
      ]
     },
     "execution_count": 130,
     "metadata": {},
     "output_type": "execute_result"
    }
   ],
   "source": [
    "model.score(X_test, y_test)  # 얼마나 맞췄는지 비율로 알려준다."
   ]
  },
  {
   "cell_type": "markdown",
   "id": "aa4bec5b",
   "metadata": {},
   "source": [
    "---"
   ]
  },
  {
   "cell_type": "markdown",
   "id": "a2d467d7",
   "metadata": {},
   "source": [
    "## 6. 데이터 전처리(Preprocessing)"
   ]
  },
  {
   "cell_type": "markdown",
   "id": "7a951db6",
   "metadata": {},
   "source": [
    "#### 1) Feature scaling(피쳐 스케일링)"
   ]
  },
  {
   "cell_type": "markdown",
   "id": "146ad7b3",
   "metadata": {},
   "source": [
    "$\\quad$(1) **Min-Max Normalization**</br></br>\n",
    "$\\qquad$: 최솟값, 최댓값을 이용해서 변수의 크기를 0과 1 사이로 조정</br>\n",
    "$$x_{new} = \\frac{x_{old} - x_{min}}{x_{max}-x_{min}}$$</br></br>\n",
    "$\\quad$(2) 사이킷런(scikit-learn)으로 Normalization 코드 작성"
   ]
  },
  {
   "cell_type": "code",
   "execution_count": 139,
   "id": "a110b043",
   "metadata": {},
   "outputs": [],
   "source": [
    "import pandas as pd\n",
    "import numpy as np\n",
    "\n",
    "from sklearn import preprocessing"
   ]
  },
  {
   "cell_type": "code",
   "execution_count": 142,
   "id": "9e93d048",
   "metadata": {
    "scrolled": false
   },
   "outputs": [
    {
     "data": {
      "text/html": [
       "<div>\n",
       "<style scoped>\n",
       "    .dataframe tbody tr th:only-of-type {\n",
       "        vertical-align: middle;\n",
       "    }\n",
       "\n",
       "    .dataframe tbody tr th {\n",
       "        vertical-align: top;\n",
       "    }\n",
       "\n",
       "    .dataframe thead th {\n",
       "        text-align: right;\n",
       "    }\n",
       "</style>\n",
       "<table border=\"1\" class=\"dataframe\">\n",
       "  <thead>\n",
       "    <tr style=\"text-align: right;\">\n",
       "      <th></th>\n",
       "      <th>Height</th>\n",
       "      <th>Weight</th>\n",
       "    </tr>\n",
       "    <tr>\n",
       "      <th>Number</th>\n",
       "      <th></th>\n",
       "      <th></th>\n",
       "    </tr>\n",
       "  </thead>\n",
       "  <tbody>\n",
       "    <tr>\n",
       "      <th>1</th>\n",
       "      <td>176.0</td>\n",
       "      <td>85.2</td>\n",
       "    </tr>\n",
       "    <tr>\n",
       "      <th>2</th>\n",
       "      <td>175.3</td>\n",
       "      <td>67.7</td>\n",
       "    </tr>\n",
       "    <tr>\n",
       "      <th>3</th>\n",
       "      <td>168.6</td>\n",
       "      <td>75.2</td>\n",
       "    </tr>\n",
       "    <tr>\n",
       "      <th>4</th>\n",
       "      <td>168.1</td>\n",
       "      <td>67.1</td>\n",
       "    </tr>\n",
       "    <tr>\n",
       "      <th>5</th>\n",
       "      <td>175.3</td>\n",
       "      <td>63.0</td>\n",
       "    </tr>\n",
       "    <tr>\n",
       "      <th>...</th>\n",
       "      <td>...</td>\n",
       "      <td>...</td>\n",
       "    </tr>\n",
       "    <tr>\n",
       "      <th>996</th>\n",
       "      <td>171.8</td>\n",
       "      <td>68.2</td>\n",
       "    </tr>\n",
       "    <tr>\n",
       "      <th>997</th>\n",
       "      <td>171.5</td>\n",
       "      <td>75.6</td>\n",
       "    </tr>\n",
       "    <tr>\n",
       "      <th>998</th>\n",
       "      <td>177.9</td>\n",
       "      <td>66.5</td>\n",
       "    </tr>\n",
       "    <tr>\n",
       "      <th>999</th>\n",
       "      <td>174.4</td>\n",
       "      <td>72.0</td>\n",
       "    </tr>\n",
       "    <tr>\n",
       "      <th>1000</th>\n",
       "      <td>173.5</td>\n",
       "      <td>77.4</td>\n",
       "    </tr>\n",
       "  </tbody>\n",
       "</table>\n",
       "<p>1000 rows × 2 columns</p>\n",
       "</div>"
      ],
      "text/plain": [
       "        Height  Weight\n",
       "Number                \n",
       "1        176.0    85.2\n",
       "2        175.3    67.7\n",
       "3        168.6    75.2\n",
       "4        168.1    67.1\n",
       "5        175.3    63.0\n",
       "...        ...     ...\n",
       "996      171.8    68.2\n",
       "997      171.5    75.6\n",
       "998      177.9    66.5\n",
       "999      174.4    72.0\n",
       "1000     173.5    77.4\n",
       "\n",
       "[1000 rows x 2 columns]"
      ]
     },
     "execution_count": 142,
     "metadata": {},
     "output_type": "execute_result"
    }
   ],
   "source": [
    "df = pd.read_csv(\"./CSV_files/body.csv\", index_col = 0)\n",
    "df"
   ]
  },
  {
   "cell_type": "code",
   "execution_count": 146,
   "id": "4a2dd53e",
   "metadata": {
    "scrolled": true
   },
   "outputs": [
    {
     "data": {
      "text/plain": [
       "array([[0.55813953, 0.79045643],\n",
       "       [0.54005168, 0.42738589],\n",
       "       [0.36692506, 0.58298755],\n",
       "       ...,\n",
       "       [0.60723514, 0.40248963],\n",
       "       [0.51679587, 0.51659751],\n",
       "       [0.49354005, 0.62863071]])"
      ]
     },
     "execution_count": 146,
     "metadata": {},
     "output_type": "execute_result"
    }
   ],
   "source": [
    "scaler = preprocessing.MinMaxScaler()\n",
    "normalized_data = scaler.fit_transform(df) # Min-Max normalization 실행\n",
    "normalized_data"
   ]
  },
  {
   "cell_type": "code",
   "execution_count": 152,
   "id": "361798bf",
   "metadata": {
    "scrolled": true
   },
   "outputs": [
    {
     "data": {
      "text/html": [
       "<div>\n",
       "<style scoped>\n",
       "    .dataframe tbody tr th:only-of-type {\n",
       "        vertical-align: middle;\n",
       "    }\n",
       "\n",
       "    .dataframe tbody tr th {\n",
       "        vertical-align: top;\n",
       "    }\n",
       "\n",
       "    .dataframe thead th {\n",
       "        text-align: right;\n",
       "    }\n",
       "</style>\n",
       "<table border=\"1\" class=\"dataframe\">\n",
       "  <thead>\n",
       "    <tr style=\"text-align: right;\">\n",
       "      <th></th>\n",
       "      <th>Height</th>\n",
       "      <th>Weight</th>\n",
       "    </tr>\n",
       "  </thead>\n",
       "  <tbody>\n",
       "    <tr>\n",
       "      <th>count</th>\n",
       "      <td>1000.000000</td>\n",
       "      <td>1000.000000</td>\n",
       "    </tr>\n",
       "    <tr>\n",
       "      <th>mean</th>\n",
       "      <td>0.491018</td>\n",
       "      <td>0.516400</td>\n",
       "    </tr>\n",
       "    <tr>\n",
       "      <th>std</th>\n",
       "      <td>0.155120</td>\n",
       "      <td>0.198397</td>\n",
       "    </tr>\n",
       "    <tr>\n",
       "      <th>min</th>\n",
       "      <td>0.000000</td>\n",
       "      <td>0.000000</td>\n",
       "    </tr>\n",
       "    <tr>\n",
       "      <th>25%</th>\n",
       "      <td>0.387597</td>\n",
       "      <td>0.350622</td>\n",
       "    </tr>\n",
       "    <tr>\n",
       "      <th>50%</th>\n",
       "      <td>0.496124</td>\n",
       "      <td>0.509336</td>\n",
       "    </tr>\n",
       "    <tr>\n",
       "      <th>75%</th>\n",
       "      <td>0.591731</td>\n",
       "      <td>0.683091</td>\n",
       "    </tr>\n",
       "    <tr>\n",
       "      <th>max</th>\n",
       "      <td>1.000000</td>\n",
       "      <td>1.000000</td>\n",
       "    </tr>\n",
       "  </tbody>\n",
       "</table>\n",
       "</div>"
      ],
      "text/plain": [
       "            Height       Weight\n",
       "count  1000.000000  1000.000000\n",
       "mean      0.491018     0.516400\n",
       "std       0.155120     0.198397\n",
       "min       0.000000     0.000000\n",
       "25%       0.387597     0.350622\n",
       "50%       0.496124     0.509336\n",
       "75%       0.591731     0.683091\n",
       "max       1.000000     1.000000"
      ]
     },
     "execution_count": 152,
     "metadata": {},
     "output_type": "execute_result"
    }
   ],
   "source": [
    "normalized_df = pd.DataFrame(normalized_data, columns = ['Height', 'Weight'])\n",
    "normalized_df.describe()"
   ]
  },
  {
   "cell_type": "markdown",
   "id": "e1b7be68",
   "metadata": {},
   "source": [
    "$\\quad$(3) **Standardization**</br></br>\n",
    "$\\qquad$: 표준편차를 이용해서 표준화</br></br>\n",
    "$\\qquad$평균 : $\\overline{x} = \\frac{x_1 + x_2 + \\cdots + x_n}{n} \\qquad$표준편차 : $\\sigma = \\sqrt{\\frac{(x_1 - \\overline{x})^2 + (x_2 - \\overline{x})^2 + \\cdots + (x_n - \\overline{x})^2}{n}}$</br></br>\n",
    "$\\qquad$표준화된 데이터 :</br></br>\n",
    "$$x_{new} = \\frac{x_{old} - \\overline{x}}{\\sigma}$$</br></br>\n",
    "$\\quad$(4) 사이킷런(scikit-learn)으로 Standardization 코드 작성"
   ]
  },
  {
   "cell_type": "code",
   "execution_count": 163,
   "id": "d6d6628c",
   "metadata": {
    "scrolled": true
   },
   "outputs": [],
   "source": [
    "from sklearn import preprocessing\n",
    "import pandas as pd\n",
    "import numpy as np\n",
    "\n",
    "pd.set_option('display.float_format', lambda x : '%.5f' % x)  # 소수점 5번째 자리까지만 출력되도록 설정\n",
    "\n",
    "df = pd.read_csv(\"./CSV_files/body.csv\", index_col = 0)\n",
    "\n",
    "scaler = preprocessing.StandardScaler()\n",
    "standardized_data = scaler.fit_transform(df)  # Stardardization 실행\n",
    "\n",
    "standardized_df = pd.DataFrame(standardized_data, columns = ['height', 'weight'])"
   ]
  },
  {
   "cell_type": "code",
   "execution_count": 164,
   "id": "f2524a5f",
   "metadata": {
    "scrolled": true
   },
   "outputs": [
    {
     "data": {
      "text/html": [
       "<div>\n",
       "<style scoped>\n",
       "    .dataframe tbody tr th:only-of-type {\n",
       "        vertical-align: middle;\n",
       "    }\n",
       "\n",
       "    .dataframe tbody tr th {\n",
       "        vertical-align: top;\n",
       "    }\n",
       "\n",
       "    .dataframe thead th {\n",
       "        text-align: right;\n",
       "    }\n",
       "</style>\n",
       "<table border=\"1\" class=\"dataframe\">\n",
       "  <thead>\n",
       "    <tr style=\"text-align: right;\">\n",
       "      <th></th>\n",
       "      <th>height</th>\n",
       "      <th>weight</th>\n",
       "    </tr>\n",
       "  </thead>\n",
       "  <tbody>\n",
       "    <tr>\n",
       "      <th>count</th>\n",
       "      <td>1000.00000</td>\n",
       "      <td>1000.00000</td>\n",
       "    </tr>\n",
       "    <tr>\n",
       "      <th>mean</th>\n",
       "      <td>-0.00000</td>\n",
       "      <td>0.00000</td>\n",
       "    </tr>\n",
       "    <tr>\n",
       "      <th>std</th>\n",
       "      <td>1.00050</td>\n",
       "      <td>1.00050</td>\n",
       "    </tr>\n",
       "    <tr>\n",
       "      <th>min</th>\n",
       "      <td>-3.16699</td>\n",
       "      <td>-2.60417</td>\n",
       "    </tr>\n",
       "    <tr>\n",
       "      <th>25%</th>\n",
       "      <td>-0.66705</td>\n",
       "      <td>-0.83601</td>\n",
       "    </tr>\n",
       "    <tr>\n",
       "      <th>50%</th>\n",
       "      <td>0.03293</td>\n",
       "      <td>-0.03562</td>\n",
       "    </tr>\n",
       "    <tr>\n",
       "      <th>75%</th>\n",
       "      <td>0.64958</td>\n",
       "      <td>0.84061</td>\n",
       "    </tr>\n",
       "    <tr>\n",
       "      <th>max</th>\n",
       "      <td>3.28285</td>\n",
       "      <td>2.43876</td>\n",
       "    </tr>\n",
       "  </tbody>\n",
       "</table>\n",
       "</div>"
      ],
      "text/plain": [
       "          height     weight\n",
       "count 1000.00000 1000.00000\n",
       "mean    -0.00000    0.00000\n",
       "std      1.00050    1.00050\n",
       "min     -3.16699   -2.60417\n",
       "25%     -0.66705   -0.83601\n",
       "50%      0.03293   -0.03562\n",
       "75%      0.64958    0.84061\n",
       "max      3.28285    2.43876"
      ]
     },
     "execution_count": 164,
     "metadata": {},
     "output_type": "execute_result"
    }
   ],
   "source": [
    "standardized_df.describe()"
   ]
  },
  {
   "cell_type": "markdown",
   "id": "f206a077",
   "metadata": {},
   "source": [
    "$\\quad$(5) **One-hot Encoding**(원 핫 인코딩)</br></br>\n",
    "$\\qquad$: 범주형(Categorical) 데이터(혈액형, 성별 등)를 수치형 데이터로 변환</br></br>\n",
    "\n",
    "|혈액형|나이|                    |A형|B형|AB형|O형|나이|\n",
    "|:----:|:--:|                    |:-:|:-:|:--:|:-:|:-:|\n",
    "|A     |9   |                    |1  |0  |0   |0  |9  |\n",
    "|AB    |40  |                    |0  |1  |0   |0  |40 |\n",
    "|B     |35  |    $\\Rightarrow$   |0  |0  |1   |0  |35 |\n",
    "|O     |20  |                    |0  |0  |0   |1  |20 |\n",
    "|A     |70  |                    |1  |0  |0   |0  |70 |</br></br>\n",
    "\n",
    "$\\quad$(6) 판다스(pandas)로 One-hot Encoding 코드 작성"
   ]
  },
  {
   "cell_type": "code",
   "execution_count": 173,
   "id": "64b14616",
   "metadata": {
    "scrolled": true
   },
   "outputs": [
    {
     "data": {
      "text/html": [
       "<div>\n",
       "<style scoped>\n",
       "    .dataframe tbody tr th:only-of-type {\n",
       "        vertical-align: middle;\n",
       "    }\n",
       "\n",
       "    .dataframe tbody tr th {\n",
       "        vertical-align: top;\n",
       "    }\n",
       "\n",
       "    .dataframe thead th {\n",
       "        text-align: right;\n",
       "    }\n",
       "</style>\n",
       "<table border=\"1\" class=\"dataframe\">\n",
       "  <thead>\n",
       "    <tr style=\"text-align: right;\">\n",
       "      <th></th>\n",
       "      <th>Survived</th>\n",
       "      <th>Pclass</th>\n",
       "      <th>Name</th>\n",
       "      <th>Sex</th>\n",
       "      <th>Age</th>\n",
       "      <th>SibSp</th>\n",
       "      <th>Parch</th>\n",
       "      <th>Ticket</th>\n",
       "      <th>Fare</th>\n",
       "      <th>Cabin</th>\n",
       "      <th>Embarked</th>\n",
       "    </tr>\n",
       "  </thead>\n",
       "  <tbody>\n",
       "    <tr>\n",
       "      <th>0</th>\n",
       "      <td>0</td>\n",
       "      <td>3</td>\n",
       "      <td>Braund, Mr. Owen Harris</td>\n",
       "      <td>male</td>\n",
       "      <td>22.00000</td>\n",
       "      <td>1</td>\n",
       "      <td>0</td>\n",
       "      <td>A/5 21171</td>\n",
       "      <td>7.25000</td>\n",
       "      <td>NaN</td>\n",
       "      <td>S</td>\n",
       "    </tr>\n",
       "    <tr>\n",
       "      <th>1</th>\n",
       "      <td>1</td>\n",
       "      <td>1</td>\n",
       "      <td>Cumings, Mrs. John Bradley (Florence Briggs Th...</td>\n",
       "      <td>female</td>\n",
       "      <td>38.00000</td>\n",
       "      <td>1</td>\n",
       "      <td>0</td>\n",
       "      <td>PC 17599</td>\n",
       "      <td>71.28330</td>\n",
       "      <td>C85</td>\n",
       "      <td>C</td>\n",
       "    </tr>\n",
       "    <tr>\n",
       "      <th>2</th>\n",
       "      <td>1</td>\n",
       "      <td>3</td>\n",
       "      <td>Heikkinen, Miss. Laina</td>\n",
       "      <td>female</td>\n",
       "      <td>26.00000</td>\n",
       "      <td>0</td>\n",
       "      <td>0</td>\n",
       "      <td>STON/O2. 3101282</td>\n",
       "      <td>7.92500</td>\n",
       "      <td>NaN</td>\n",
       "      <td>S</td>\n",
       "    </tr>\n",
       "    <tr>\n",
       "      <th>3</th>\n",
       "      <td>1</td>\n",
       "      <td>1</td>\n",
       "      <td>Futrelle, Mrs. Jacques Heath (Lily May Peel)</td>\n",
       "      <td>female</td>\n",
       "      <td>35.00000</td>\n",
       "      <td>1</td>\n",
       "      <td>0</td>\n",
       "      <td>113803</td>\n",
       "      <td>53.10000</td>\n",
       "      <td>C123</td>\n",
       "      <td>S</td>\n",
       "    </tr>\n",
       "    <tr>\n",
       "      <th>4</th>\n",
       "      <td>0</td>\n",
       "      <td>3</td>\n",
       "      <td>Allen, Mr. William Henry</td>\n",
       "      <td>male</td>\n",
       "      <td>35.00000</td>\n",
       "      <td>0</td>\n",
       "      <td>0</td>\n",
       "      <td>373450</td>\n",
       "      <td>8.05000</td>\n",
       "      <td>NaN</td>\n",
       "      <td>S</td>\n",
       "    </tr>\n",
       "  </tbody>\n",
       "</table>\n",
       "</div>"
      ],
      "text/plain": [
       "   Survived  Pclass                                               Name  \\\n",
       "0         0       3                            Braund, Mr. Owen Harris   \n",
       "1         1       1  Cumings, Mrs. John Bradley (Florence Briggs Th...   \n",
       "2         1       3                             Heikkinen, Miss. Laina   \n",
       "3         1       1       Futrelle, Mrs. Jacques Heath (Lily May Peel)   \n",
       "4         0       3                           Allen, Mr. William Henry   \n",
       "\n",
       "      Sex      Age  SibSp  Parch            Ticket     Fare Cabin Embarked  \n",
       "0    male 22.00000      1      0         A/5 21171  7.25000   NaN        S  \n",
       "1  female 38.00000      1      0          PC 17599 71.28330   C85        C  \n",
       "2  female 26.00000      0      0  STON/O2. 3101282  7.92500   NaN        S  \n",
       "3  female 35.00000      1      0            113803 53.10000  C123        S  \n",
       "4    male 35.00000      0      0            373450  8.05000   NaN        S  "
      ]
     },
     "execution_count": 173,
     "metadata": {},
     "output_type": "execute_result"
    }
   ],
   "source": [
    "import pandas as pd\n",
    "\n",
    "TITANIC_FILE = \"./CSV_files/titanic.csv\"\n",
    "\n",
    "df = pd.read_csv(TITANIC_FILE, index_col = 0)\n",
    "\n",
    "df.head()"
   ]
  },
  {
   "cell_type": "code",
   "execution_count": 175,
   "id": "12df019b",
   "metadata": {
    "scrolled": true
   },
   "outputs": [
    {
     "data": {
      "text/html": [
       "<div>\n",
       "<style scoped>\n",
       "    .dataframe tbody tr th:only-of-type {\n",
       "        vertical-align: middle;\n",
       "    }\n",
       "\n",
       "    .dataframe tbody tr th {\n",
       "        vertical-align: top;\n",
       "    }\n",
       "\n",
       "    .dataframe thead th {\n",
       "        text-align: right;\n",
       "    }\n",
       "</style>\n",
       "<table border=\"1\" class=\"dataframe\">\n",
       "  <thead>\n",
       "    <tr style=\"text-align: right;\">\n",
       "      <th></th>\n",
       "      <th>Sex</th>\n",
       "      <th>Embarked</th>\n",
       "    </tr>\n",
       "  </thead>\n",
       "  <tbody>\n",
       "    <tr>\n",
       "      <th>0</th>\n",
       "      <td>male</td>\n",
       "      <td>S</td>\n",
       "    </tr>\n",
       "    <tr>\n",
       "      <th>1</th>\n",
       "      <td>female</td>\n",
       "      <td>C</td>\n",
       "    </tr>\n",
       "    <tr>\n",
       "      <th>2</th>\n",
       "      <td>female</td>\n",
       "      <td>S</td>\n",
       "    </tr>\n",
       "    <tr>\n",
       "      <th>3</th>\n",
       "      <td>female</td>\n",
       "      <td>S</td>\n",
       "    </tr>\n",
       "    <tr>\n",
       "      <th>4</th>\n",
       "      <td>male</td>\n",
       "      <td>S</td>\n",
       "    </tr>\n",
       "  </tbody>\n",
       "</table>\n",
       "</div>"
      ],
      "text/plain": [
       "      Sex Embarked\n",
       "0    male        S\n",
       "1  female        C\n",
       "2  female        S\n",
       "3  female        S\n",
       "4    male        S"
      ]
     },
     "execution_count": 175,
     "metadata": {},
     "output_type": "execute_result"
    }
   ],
   "source": [
    "titanic_sex_embarked = df[['Sex', 'Embarked']]\n",
    "titanic_sex_embarked.head()"
   ]
  },
  {
   "cell_type": "code",
   "execution_count": 180,
   "id": "ab9873bb",
   "metadata": {
    "scrolled": true
   },
   "outputs": [
    {
     "data": {
      "text/html": [
       "<div>\n",
       "<style scoped>\n",
       "    .dataframe tbody tr th:only-of-type {\n",
       "        vertical-align: middle;\n",
       "    }\n",
       "\n",
       "    .dataframe tbody tr th {\n",
       "        vertical-align: top;\n",
       "    }\n",
       "\n",
       "    .dataframe thead th {\n",
       "        text-align: right;\n",
       "    }\n",
       "</style>\n",
       "<table border=\"1\" class=\"dataframe\">\n",
       "  <thead>\n",
       "    <tr style=\"text-align: right;\">\n",
       "      <th></th>\n",
       "      <th>Sex_female</th>\n",
       "      <th>Sex_male</th>\n",
       "      <th>Embarked_C</th>\n",
       "      <th>Embarked_Q</th>\n",
       "      <th>Embarked_S</th>\n",
       "    </tr>\n",
       "  </thead>\n",
       "  <tbody>\n",
       "    <tr>\n",
       "      <th>0</th>\n",
       "      <td>0</td>\n",
       "      <td>1</td>\n",
       "      <td>0</td>\n",
       "      <td>0</td>\n",
       "      <td>1</td>\n",
       "    </tr>\n",
       "    <tr>\n",
       "      <th>1</th>\n",
       "      <td>1</td>\n",
       "      <td>0</td>\n",
       "      <td>1</td>\n",
       "      <td>0</td>\n",
       "      <td>0</td>\n",
       "    </tr>\n",
       "    <tr>\n",
       "      <th>2</th>\n",
       "      <td>1</td>\n",
       "      <td>0</td>\n",
       "      <td>0</td>\n",
       "      <td>0</td>\n",
       "      <td>1</td>\n",
       "    </tr>\n",
       "    <tr>\n",
       "      <th>3</th>\n",
       "      <td>1</td>\n",
       "      <td>0</td>\n",
       "      <td>0</td>\n",
       "      <td>0</td>\n",
       "      <td>1</td>\n",
       "    </tr>\n",
       "    <tr>\n",
       "      <th>4</th>\n",
       "      <td>0</td>\n",
       "      <td>1</td>\n",
       "      <td>0</td>\n",
       "      <td>0</td>\n",
       "      <td>1</td>\n",
       "    </tr>\n",
       "  </tbody>\n",
       "</table>\n",
       "</div>"
      ],
      "text/plain": [
       "   Sex_female  Sex_male  Embarked_C  Embarked_Q  Embarked_S\n",
       "0           0         1           0           0           1\n",
       "1           1         0           1           0           0\n",
       "2           1         0           0           0           1\n",
       "3           1         0           0           0           1\n",
       "4           0         1           0           0           1"
      ]
     },
     "execution_count": 180,
     "metadata": {},
     "output_type": "execute_result"
    }
   ],
   "source": [
    "one_hot_encoded_df = pd.get_dummies(titanic_sex_embarked)  # One-hot encoding 실행 (get_dummies())\n",
    "one_hot_encoded_df.head()"
   ]
  },
  {
   "cell_type": "code",
   "execution_count": 182,
   "id": "03d008b0",
   "metadata": {
    "scrolled": false
   },
   "outputs": [
    {
     "data": {
      "text/html": [
       "<div>\n",
       "<style scoped>\n",
       "    .dataframe tbody tr th:only-of-type {\n",
       "        vertical-align: middle;\n",
       "    }\n",
       "\n",
       "    .dataframe tbody tr th {\n",
       "        vertical-align: top;\n",
       "    }\n",
       "\n",
       "    .dataframe thead th {\n",
       "        text-align: right;\n",
       "    }\n",
       "</style>\n",
       "<table border=\"1\" class=\"dataframe\">\n",
       "  <thead>\n",
       "    <tr style=\"text-align: right;\">\n",
       "      <th></th>\n",
       "      <th>Survived</th>\n",
       "      <th>Pclass</th>\n",
       "      <th>Name</th>\n",
       "      <th>Age</th>\n",
       "      <th>SibSp</th>\n",
       "      <th>Parch</th>\n",
       "      <th>Ticket</th>\n",
       "      <th>Fare</th>\n",
       "      <th>Cabin</th>\n",
       "      <th>Sex_female</th>\n",
       "      <th>Sex_male</th>\n",
       "      <th>Embarked_C</th>\n",
       "      <th>Embarked_Q</th>\n",
       "      <th>Embarked_S</th>\n",
       "    </tr>\n",
       "  </thead>\n",
       "  <tbody>\n",
       "    <tr>\n",
       "      <th>0</th>\n",
       "      <td>0</td>\n",
       "      <td>3</td>\n",
       "      <td>Braund, Mr. Owen Harris</td>\n",
       "      <td>22.00000</td>\n",
       "      <td>1</td>\n",
       "      <td>0</td>\n",
       "      <td>A/5 21171</td>\n",
       "      <td>7.25000</td>\n",
       "      <td>NaN</td>\n",
       "      <td>0</td>\n",
       "      <td>1</td>\n",
       "      <td>0</td>\n",
       "      <td>0</td>\n",
       "      <td>1</td>\n",
       "    </tr>\n",
       "    <tr>\n",
       "      <th>1</th>\n",
       "      <td>1</td>\n",
       "      <td>1</td>\n",
       "      <td>Cumings, Mrs. John Bradley (Florence Briggs Th...</td>\n",
       "      <td>38.00000</td>\n",
       "      <td>1</td>\n",
       "      <td>0</td>\n",
       "      <td>PC 17599</td>\n",
       "      <td>71.28330</td>\n",
       "      <td>C85</td>\n",
       "      <td>1</td>\n",
       "      <td>0</td>\n",
       "      <td>1</td>\n",
       "      <td>0</td>\n",
       "      <td>0</td>\n",
       "    </tr>\n",
       "    <tr>\n",
       "      <th>2</th>\n",
       "      <td>1</td>\n",
       "      <td>3</td>\n",
       "      <td>Heikkinen, Miss. Laina</td>\n",
       "      <td>26.00000</td>\n",
       "      <td>0</td>\n",
       "      <td>0</td>\n",
       "      <td>STON/O2. 3101282</td>\n",
       "      <td>7.92500</td>\n",
       "      <td>NaN</td>\n",
       "      <td>1</td>\n",
       "      <td>0</td>\n",
       "      <td>0</td>\n",
       "      <td>0</td>\n",
       "      <td>1</td>\n",
       "    </tr>\n",
       "    <tr>\n",
       "      <th>3</th>\n",
       "      <td>1</td>\n",
       "      <td>1</td>\n",
       "      <td>Futrelle, Mrs. Jacques Heath (Lily May Peel)</td>\n",
       "      <td>35.00000</td>\n",
       "      <td>1</td>\n",
       "      <td>0</td>\n",
       "      <td>113803</td>\n",
       "      <td>53.10000</td>\n",
       "      <td>C123</td>\n",
       "      <td>1</td>\n",
       "      <td>0</td>\n",
       "      <td>0</td>\n",
       "      <td>0</td>\n",
       "      <td>1</td>\n",
       "    </tr>\n",
       "    <tr>\n",
       "      <th>4</th>\n",
       "      <td>0</td>\n",
       "      <td>3</td>\n",
       "      <td>Allen, Mr. William Henry</td>\n",
       "      <td>35.00000</td>\n",
       "      <td>0</td>\n",
       "      <td>0</td>\n",
       "      <td>373450</td>\n",
       "      <td>8.05000</td>\n",
       "      <td>NaN</td>\n",
       "      <td>0</td>\n",
       "      <td>1</td>\n",
       "      <td>0</td>\n",
       "      <td>0</td>\n",
       "      <td>1</td>\n",
       "    </tr>\n",
       "  </tbody>\n",
       "</table>\n",
       "</div>"
      ],
      "text/plain": [
       "   Survived  Pclass                                               Name  \\\n",
       "0         0       3                            Braund, Mr. Owen Harris   \n",
       "1         1       1  Cumings, Mrs. John Bradley (Florence Briggs Th...   \n",
       "2         1       3                             Heikkinen, Miss. Laina   \n",
       "3         1       1       Futrelle, Mrs. Jacques Heath (Lily May Peel)   \n",
       "4         0       3                           Allen, Mr. William Henry   \n",
       "\n",
       "       Age  SibSp  Parch            Ticket     Fare Cabin  Sex_female  \\\n",
       "0 22.00000      1      0         A/5 21171  7.25000   NaN           0   \n",
       "1 38.00000      1      0          PC 17599 71.28330   C85           1   \n",
       "2 26.00000      0      0  STON/O2. 3101282  7.92500   NaN           1   \n",
       "3 35.00000      1      0            113803 53.10000  C123           1   \n",
       "4 35.00000      0      0            373450  8.05000   NaN           0   \n",
       "\n",
       "   Sex_male  Embarked_C  Embarked_Q  Embarked_S  \n",
       "0         1           0           0           1  \n",
       "1         0           1           0           0  \n",
       "2         0           0           0           1  \n",
       "3         0           0           0           1  \n",
       "4         1           0           0           1  "
      ]
     },
     "execution_count": 182,
     "metadata": {},
     "output_type": "execute_result"
    }
   ],
   "source": [
    "# 옵셔널 파라미터 -> 특정 열만 선택해서 One-hot encoding 실행 후, 기존 데이터 프레임 변경\n",
    "one_hot_encoded_df = pd.get_dummies(data = df, columns = ['Sex', 'Embarked'])\n",
    "one_hot_encoded_df.head()"
   ]
  },
  {
   "cell_type": "markdown",
   "id": "7d19ad67",
   "metadata": {},
   "source": [
    "---"
   ]
  },
  {
   "cell_type": "markdown",
   "id": "af1e92d3",
   "metadata": {},
   "source": [
    "## 7. 정규화(Regularization)\n",
    "- **편향(Bias)** : 편향이 높은 머신 러닝 모델은 너무 간단해서 주어진 데이터의 관계를 잘 학습하지 못하고,</br>\n",
    "$\\qquad \\qquad$편향이 낮은 모델은 주어진 데이터의 관계를 잘 학습한다.</br></br>\n",
    "- **분산(Variance)** :  다양한 테스트 데이터가 주어졌을 때 모델의 성능이 얼마나 일관적으로 나오는지를 나타낸다.</br>\n",
    "$\\qquad \\qquad \\quad \\; \\,$다양한 데이터 셋 간에 성능 차이가 많이 나면 분산이 높다고 하고, 성능이 비슷하면 분산이 낮다고 한다."
   ]
  },
  {
   "cell_type": "markdown",
   "id": "38e23dbc",
   "metadata": {},
   "source": [
    "#### 1) 편향-분산 트레이드오프(Bias-Variance Tradeoff)\n",
    "- 편향과 분산은 하나가 줄어들수록, 하나는 늘어나는 관계가 있다.</br></br>\n",
    "- **과소적합(Underfitting)** : **모델이 너무 단순**해서, 데이터의 내재된 구조(곡선관계)를 학습하지 못할 때 발생한다.</br>\n",
    "    - 편향이 높고, 분산이 낮은 모델(어떠한 데이터가 주어져도 일관적인 성능을 낸다.)</br></br>\n",
    "- **과적합(Overfitting)** : **모델이 너무 복잡**해서, 훈련 데이터에는 너무 잘 맞지만, 일반성이 떨어지는 경우 발생한다.</br>\n",
    "    - 편향이 낮고, 분산이 높은 모델(training 데이터에 대한 성능은 높지만, test 데이터에 대한 성능은 떨어진다.)"
   ]
  },
  {
   "cell_type": "markdown",
   "id": "2c319410",
   "metadata": {},
   "source": [
    "#### 2) scikit-learn으로 과적합 문제 직접 알아보기"
   ]
  },
  {
   "cell_type": "code",
   "execution_count": 61,
   "id": "3a1b05e9",
   "metadata": {},
   "outputs": [],
   "source": [
    "from sklearn.linear_model import LinearRegression\n",
    "from sklearn.model_selection import train_test_split\n",
    "from sklearn.metrics import mean_squared_error\n",
    "from sklearn.preprocessing import PolynomialFeatures\n",
    "\n",
    "from math import sqrt\n",
    "\n",
    "import numpy as np\n",
    "import pandas as pd"
   ]
  },
  {
   "cell_type": "code",
   "execution_count": 62,
   "id": "5eb6dc0f",
   "metadata": {
    "scrolled": false
   },
   "outputs": [
    {
     "data": {
      "text/html": [
       "<div>\n",
       "<style scoped>\n",
       "    .dataframe tbody tr th:only-of-type {\n",
       "        vertical-align: middle;\n",
       "    }\n",
       "\n",
       "    .dataframe tbody tr th {\n",
       "        vertical-align: top;\n",
       "    }\n",
       "\n",
       "    .dataframe thead th {\n",
       "        text-align: right;\n",
       "    }\n",
       "</style>\n",
       "<table border=\"1\" class=\"dataframe\">\n",
       "  <thead>\n",
       "    <tr style=\"text-align: right;\">\n",
       "      <th></th>\n",
       "      <th>GRE Score</th>\n",
       "      <th>TOEFL Score</th>\n",
       "      <th>University Rating</th>\n",
       "      <th>SOP</th>\n",
       "      <th>LOR</th>\n",
       "      <th>CGPA</th>\n",
       "      <th>Research</th>\n",
       "      <th>Chance of Admit</th>\n",
       "    </tr>\n",
       "  </thead>\n",
       "  <tbody>\n",
       "    <tr>\n",
       "      <th>0</th>\n",
       "      <td>337</td>\n",
       "      <td>118</td>\n",
       "      <td>4</td>\n",
       "      <td>4.5</td>\n",
       "      <td>4.5</td>\n",
       "      <td>9.65</td>\n",
       "      <td>1</td>\n",
       "      <td>0.92</td>\n",
       "    </tr>\n",
       "    <tr>\n",
       "      <th>1</th>\n",
       "      <td>324</td>\n",
       "      <td>107</td>\n",
       "      <td>4</td>\n",
       "      <td>4.0</td>\n",
       "      <td>4.5</td>\n",
       "      <td>8.87</td>\n",
       "      <td>1</td>\n",
       "      <td>0.76</td>\n",
       "    </tr>\n",
       "    <tr>\n",
       "      <th>2</th>\n",
       "      <td>316</td>\n",
       "      <td>104</td>\n",
       "      <td>3</td>\n",
       "      <td>3.0</td>\n",
       "      <td>3.5</td>\n",
       "      <td>8.00</td>\n",
       "      <td>1</td>\n",
       "      <td>0.72</td>\n",
       "    </tr>\n",
       "    <tr>\n",
       "      <th>3</th>\n",
       "      <td>322</td>\n",
       "      <td>110</td>\n",
       "      <td>3</td>\n",
       "      <td>3.5</td>\n",
       "      <td>2.5</td>\n",
       "      <td>8.67</td>\n",
       "      <td>1</td>\n",
       "      <td>0.80</td>\n",
       "    </tr>\n",
       "    <tr>\n",
       "      <th>4</th>\n",
       "      <td>314</td>\n",
       "      <td>103</td>\n",
       "      <td>2</td>\n",
       "      <td>2.0</td>\n",
       "      <td>3.0</td>\n",
       "      <td>8.21</td>\n",
       "      <td>0</td>\n",
       "      <td>0.65</td>\n",
       "    </tr>\n",
       "  </tbody>\n",
       "</table>\n",
       "</div>"
      ],
      "text/plain": [
       "   GRE Score  TOEFL Score  University Rating  SOP  LOR   CGPA  Research  \\\n",
       "0        337          118                  4  4.5   4.5  9.65         1   \n",
       "1        324          107                  4  4.0   4.5  8.87         1   \n",
       "2        316          104                  3  3.0   3.5  8.00         1   \n",
       "3        322          110                  3  3.5   2.5  8.67         1   \n",
       "4        314          103                  2  2.0   3.0  8.21         0   \n",
       "\n",
       "   Chance of Admit   \n",
       "0              0.92  \n",
       "1              0.76  \n",
       "2              0.72  \n",
       "3              0.80  \n",
       "4              0.65  "
      ]
     },
     "execution_count": 62,
     "metadata": {},
     "output_type": "execute_result"
    }
   ],
   "source": [
    "ADMISSION_FIlE_PATH = './CSV_files/admission_data.csv'\n",
    "df = pd.read_csv(ADMISSION_FIlE_PATH).drop('Serial No.', axis = 1)\n",
    "df.head()"
   ]
  },
  {
   "cell_type": "code",
   "execution_count": 63,
   "id": "a6eafa0e",
   "metadata": {
    "scrolled": true
   },
   "outputs": [
    {
     "data": {
      "text/html": [
       "<div>\n",
       "<style scoped>\n",
       "    .dataframe tbody tr th:only-of-type {\n",
       "        vertical-align: middle;\n",
       "    }\n",
       "\n",
       "    .dataframe tbody tr th {\n",
       "        vertical-align: top;\n",
       "    }\n",
       "\n",
       "    .dataframe thead th {\n",
       "        text-align: right;\n",
       "    }\n",
       "</style>\n",
       "<table border=\"1\" class=\"dataframe\">\n",
       "  <thead>\n",
       "    <tr style=\"text-align: right;\">\n",
       "      <th></th>\n",
       "      <th>1</th>\n",
       "      <th>GRE Score</th>\n",
       "      <th>TOEFL Score</th>\n",
       "      <th>University Rating</th>\n",
       "      <th>SOP</th>\n",
       "      <th>LOR</th>\n",
       "      <th>CGPA</th>\n",
       "      <th>Research</th>\n",
       "      <th>GRE Score^2</th>\n",
       "      <th>GRE Score TOEFL Score</th>\n",
       "      <th>...</th>\n",
       "      <th>LOR  CGPA^2 Research^3</th>\n",
       "      <th>LOR  CGPA Research^4</th>\n",
       "      <th>LOR  Research^5</th>\n",
       "      <th>CGPA^6</th>\n",
       "      <th>CGPA^5 Research</th>\n",
       "      <th>CGPA^4 Research^2</th>\n",
       "      <th>CGPA^3 Research^3</th>\n",
       "      <th>CGPA^2 Research^4</th>\n",
       "      <th>CGPA Research^5</th>\n",
       "      <th>Research^6</th>\n",
       "    </tr>\n",
       "  </thead>\n",
       "  <tbody>\n",
       "    <tr>\n",
       "      <th>0</th>\n",
       "      <td>1.0</td>\n",
       "      <td>337.0</td>\n",
       "      <td>118.0</td>\n",
       "      <td>4.0</td>\n",
       "      <td>4.5</td>\n",
       "      <td>4.5</td>\n",
       "      <td>9.65</td>\n",
       "      <td>1.0</td>\n",
       "      <td>113569.0</td>\n",
       "      <td>39766.0</td>\n",
       "      <td>...</td>\n",
       "      <td>419.05125</td>\n",
       "      <td>43.425</td>\n",
       "      <td>4.5</td>\n",
       "      <td>807539.696082</td>\n",
       "      <td>83682.870060</td>\n",
       "      <td>8671.800006</td>\n",
       "      <td>898.632125</td>\n",
       "      <td>93.1225</td>\n",
       "      <td>9.65</td>\n",
       "      <td>1.0</td>\n",
       "    </tr>\n",
       "    <tr>\n",
       "      <th>1</th>\n",
       "      <td>1.0</td>\n",
       "      <td>324.0</td>\n",
       "      <td>107.0</td>\n",
       "      <td>4.0</td>\n",
       "      <td>4.0</td>\n",
       "      <td>4.5</td>\n",
       "      <td>8.87</td>\n",
       "      <td>1.0</td>\n",
       "      <td>104976.0</td>\n",
       "      <td>34668.0</td>\n",
       "      <td>...</td>\n",
       "      <td>354.04605</td>\n",
       "      <td>39.915</td>\n",
       "      <td>4.5</td>\n",
       "      <td>487014.306256</td>\n",
       "      <td>54905.784245</td>\n",
       "      <td>6190.054594</td>\n",
       "      <td>697.864103</td>\n",
       "      <td>78.6769</td>\n",
       "      <td>8.87</td>\n",
       "      <td>1.0</td>\n",
       "    </tr>\n",
       "    <tr>\n",
       "      <th>2</th>\n",
       "      <td>1.0</td>\n",
       "      <td>316.0</td>\n",
       "      <td>104.0</td>\n",
       "      <td>3.0</td>\n",
       "      <td>3.0</td>\n",
       "      <td>3.5</td>\n",
       "      <td>8.00</td>\n",
       "      <td>1.0</td>\n",
       "      <td>99856.0</td>\n",
       "      <td>32864.0</td>\n",
       "      <td>...</td>\n",
       "      <td>224.00000</td>\n",
       "      <td>28.000</td>\n",
       "      <td>3.5</td>\n",
       "      <td>262144.000000</td>\n",
       "      <td>32768.000000</td>\n",
       "      <td>4096.000000</td>\n",
       "      <td>512.000000</td>\n",
       "      <td>64.0000</td>\n",
       "      <td>8.00</td>\n",
       "      <td>1.0</td>\n",
       "    </tr>\n",
       "    <tr>\n",
       "      <th>3</th>\n",
       "      <td>1.0</td>\n",
       "      <td>322.0</td>\n",
       "      <td>110.0</td>\n",
       "      <td>3.0</td>\n",
       "      <td>3.5</td>\n",
       "      <td>2.5</td>\n",
       "      <td>8.67</td>\n",
       "      <td>1.0</td>\n",
       "      <td>103684.0</td>\n",
       "      <td>35420.0</td>\n",
       "      <td>...</td>\n",
       "      <td>187.92225</td>\n",
       "      <td>21.675</td>\n",
       "      <td>2.5</td>\n",
       "      <td>424731.610940</td>\n",
       "      <td>48988.651781</td>\n",
       "      <td>5650.363527</td>\n",
       "      <td>651.714363</td>\n",
       "      <td>75.1689</td>\n",
       "      <td>8.67</td>\n",
       "      <td>1.0</td>\n",
       "    </tr>\n",
       "    <tr>\n",
       "      <th>4</th>\n",
       "      <td>1.0</td>\n",
       "      <td>314.0</td>\n",
       "      <td>103.0</td>\n",
       "      <td>2.0</td>\n",
       "      <td>2.0</td>\n",
       "      <td>3.0</td>\n",
       "      <td>8.21</td>\n",
       "      <td>0.0</td>\n",
       "      <td>98596.0</td>\n",
       "      <td>32342.0</td>\n",
       "      <td>...</td>\n",
       "      <td>0.00000</td>\n",
       "      <td>0.000</td>\n",
       "      <td>0.0</td>\n",
       "      <td>306237.903347</td>\n",
       "      <td>0.000000</td>\n",
       "      <td>0.000000</td>\n",
       "      <td>0.000000</td>\n",
       "      <td>0.0000</td>\n",
       "      <td>0.00</td>\n",
       "      <td>0.0</td>\n",
       "    </tr>\n",
       "  </tbody>\n",
       "</table>\n",
       "<p>5 rows × 1716 columns</p>\n",
       "</div>"
      ],
      "text/plain": [
       "     1  GRE Score  TOEFL Score  University Rating  SOP  LOR   CGPA  Research  \\\n",
       "0  1.0      337.0        118.0                4.0  4.5   4.5  9.65       1.0   \n",
       "1  1.0      324.0        107.0                4.0  4.0   4.5  8.87       1.0   \n",
       "2  1.0      316.0        104.0                3.0  3.0   3.5  8.00       1.0   \n",
       "3  1.0      322.0        110.0                3.0  3.5   2.5  8.67       1.0   \n",
       "4  1.0      314.0        103.0                2.0  2.0   3.0  8.21       0.0   \n",
       "\n",
       "   GRE Score^2  GRE Score TOEFL Score  ...  LOR  CGPA^2 Research^3  \\\n",
       "0     113569.0                39766.0  ...               419.05125   \n",
       "1     104976.0                34668.0  ...               354.04605   \n",
       "2      99856.0                32864.0  ...               224.00000   \n",
       "3     103684.0                35420.0  ...               187.92225   \n",
       "4      98596.0                32342.0  ...                 0.00000   \n",
       "\n",
       "   LOR  CGPA Research^4  LOR  Research^5         CGPA^6  CGPA^5 Research  \\\n",
       "0                43.425              4.5  807539.696082     83682.870060   \n",
       "1                39.915              4.5  487014.306256     54905.784245   \n",
       "2                28.000              3.5  262144.000000     32768.000000   \n",
       "3                21.675              2.5  424731.610940     48988.651781   \n",
       "4                 0.000              0.0  306237.903347         0.000000   \n",
       "\n",
       "   CGPA^4 Research^2  CGPA^3 Research^3  CGPA^2 Research^4  CGPA Research^5  \\\n",
       "0        8671.800006         898.632125            93.1225             9.65   \n",
       "1        6190.054594         697.864103            78.6769             8.87   \n",
       "2        4096.000000         512.000000            64.0000             8.00   \n",
       "3        5650.363527         651.714363            75.1689             8.67   \n",
       "4           0.000000           0.000000             0.0000             0.00   \n",
       "\n",
       "   Research^6  \n",
       "0         1.0  \n",
       "1         1.0  \n",
       "2         1.0  \n",
       "3         1.0  \n",
       "4         0.0  \n",
       "\n",
       "[5 rows x 1716 columns]"
      ]
     },
     "execution_count": 63,
     "metadata": {},
     "output_type": "execute_result"
    }
   ],
   "source": [
    "X = df.drop(['Chance of Admit '], axis = 1)\n",
    "polynomial_transformer = PolynomialFeatures(6)\n",
    "polynomial_features = polynomial_transformer.fit_transform(X.values)\n",
    "features = polynomial_transformer.get_feature_names(X.columns)\n",
    "\n",
    "X = pd.DataFrame(polynomial_features, columns = features)\n",
    "X.head()"
   ]
  },
  {
   "cell_type": "code",
   "execution_count": 64,
   "id": "a8969853",
   "metadata": {
    "scrolled": true
   },
   "outputs": [
    {
     "data": {
      "text/html": [
       "<div>\n",
       "<style scoped>\n",
       "    .dataframe tbody tr th:only-of-type {\n",
       "        vertical-align: middle;\n",
       "    }\n",
       "\n",
       "    .dataframe tbody tr th {\n",
       "        vertical-align: top;\n",
       "    }\n",
       "\n",
       "    .dataframe thead th {\n",
       "        text-align: right;\n",
       "    }\n",
       "</style>\n",
       "<table border=\"1\" class=\"dataframe\">\n",
       "  <thead>\n",
       "    <tr style=\"text-align: right;\">\n",
       "      <th></th>\n",
       "      <th>Chance of Admit</th>\n",
       "    </tr>\n",
       "  </thead>\n",
       "  <tbody>\n",
       "    <tr>\n",
       "      <th>0</th>\n",
       "      <td>0.92</td>\n",
       "    </tr>\n",
       "    <tr>\n",
       "      <th>1</th>\n",
       "      <td>0.76</td>\n",
       "    </tr>\n",
       "    <tr>\n",
       "      <th>2</th>\n",
       "      <td>0.72</td>\n",
       "    </tr>\n",
       "    <tr>\n",
       "      <th>3</th>\n",
       "      <td>0.80</td>\n",
       "    </tr>\n",
       "    <tr>\n",
       "      <th>4</th>\n",
       "      <td>0.65</td>\n",
       "    </tr>\n",
       "  </tbody>\n",
       "</table>\n",
       "</div>"
      ],
      "text/plain": [
       "   Chance of Admit \n",
       "0              0.92\n",
       "1              0.76\n",
       "2              0.72\n",
       "3              0.80\n",
       "4              0.65"
      ]
     },
     "execution_count": 64,
     "metadata": {},
     "output_type": "execute_result"
    }
   ],
   "source": [
    "y = df[['Chance of Admit ']]\n",
    "y.head()"
   ]
  },
  {
   "cell_type": "code",
   "execution_count": 65,
   "id": "060ddb2f",
   "metadata": {},
   "outputs": [],
   "source": [
    "X_train, X_test, y_train, y_test = train_test_split(X, y, test_size = 0.3, random_state = 5)"
   ]
  },
  {
   "cell_type": "code",
   "execution_count": 66,
   "id": "5fda258f",
   "metadata": {},
   "outputs": [
    {
     "data": {
      "text/plain": [
       "LinearRegression()"
      ]
     },
     "execution_count": 66,
     "metadata": {},
     "output_type": "execute_result"
    }
   ],
   "source": [
    "model = LinearRegression()\n",
    "model.fit(X_train, y_train)"
   ]
  },
  {
   "cell_type": "code",
   "execution_count": 67,
   "id": "271d97d0",
   "metadata": {},
   "outputs": [],
   "source": [
    "y_train_predict = model.predict(X_train)\n",
    "y_test_predict = model.predict(X_test)"
   ]
  },
  {
   "cell_type": "code",
   "execution_count": 68,
   "id": "c432ac50",
   "metadata": {
    "scrolled": false
   },
   "outputs": [
    {
     "name": "stdout",
     "output_type": "stream",
     "text": [
      "training set에서의 성능\n",
      "----------------------\n",
      "0.0015047927609784194\n",
      "\n",
      "test set에서의 성능\n",
      "----------------------\n",
      "5.090715917872647\n"
     ]
    }
   ],
   "source": [
    "# 테스트 데이터의 RMSE가 너무 높게 나왔다. -> 과적합(overfitting)\n",
    "mse1 = mean_squared_error(y_train, y_train_predict)\n",
    "print(\"training set에서의 성능\")\n",
    "print(\"----------------------\")\n",
    "print(sqrt(mse1))\n",
    "print()\n",
    "mse2 = mean_squared_error(y_test, y_test_predict)\n",
    "print(\"test set에서의 성능\")\n",
    "print(\"----------------------\")\n",
    "print(sqrt(mse2))"
   ]
  },
  {
   "cell_type": "markdown",
   "id": "064523e7",
   "metadata": {},
   "source": [
    "#### 3) 정규화(Standardization)\n",
    "- 모델 과적합 현상을 방지해주는 방법 중 하나이다.\n",
    "- 모델을 학습시킬 때 $\\theta$ 값들이 너무 커지는 것을 방지해서, 변동이 큰 가설함수를 보다 완만하게 만든다.</br>\n",
    "(training 데이터에 대한 오차는 조금 커질 수 있다.)\n",
    "- 여러 데이터 셋에서 일관된 성능을 보여준다.</br></br>\n",
    "    1)$\\;$ **L1 정규화(Lasso Regression, Lasso 모델)**</br></br>\n",
    "    \n",
    "    - 손실함수 + 정규화항\n",
    "    - 가설함수의 새로운 기준 : Traing data에 대한 오차도 작고, $\\theta$ 값들도 작아야 좋은 가설함수이다.</br></br>\n",
    "    $$J(\\theta) = \\frac{1}{2m}\\displaystyle\\sum_{i=1}^{m} (h_\\theta (x^{(i)}) - y^{(i)}) ^2 + |\\theta_1| + |\\theta_2| + \\cdots + |\\theta_n|$$</br>\n",
    "    $g(x)$ 와 $h(x)$가 아래와 같을 때, L1 정규화의 예시는 다음과 같다.</br></br>\n",
    "    $g(x) = 5 + 10x - 2x^2 + 5x^4 + 3x^5$</br>\n",
    "    $h(x) = 20 + 40x - 70x^2 + 50x^4 + 20x^5$\n",
    "    \n",
    "    |가설함수|평균 제곱 오차 항|정규화 항|총 손실|\n",
    "    |:------:|:---------------:|:-------:|:-----:|\n",
    "    |$g(x)$  |5                |20       |25     |\n",
    "    |$h(x)$  |1                |180      |181    |</br></br>\n",
    " \n",
    "    이때, 가설함수는 총 손실이 더 작은 $g(x)$가 $h(x)$ 보다 더 낫다고 볼 수 있다.</br></br>\n",
    "    L1 정규화를 일반적인 식으로 나타내면 다음과 같다.</br>\n",
    "    ※ $\\lambda$는 $\\theta$값들이 커지는 것에 대한 패널티를 얼만큼 줄지를 설정하는 파라미터이다.</br></br>\n",
    "    $$J(\\theta) = \\frac{1}{2m}\\displaystyle\\sum_{i=1}^{m} (h_\\theta (x^{(i)}) - y^{(i)}) ^2 + \\lambda \\displaystyle\\sum_{i=1}^{n} |\\theta_i|$$\n",
    "    \n",
    "    2)$\\;$ **L2 정규화(Ridge Regression, Ridge 모델)**</br></br>\n",
    "    $\\quad$- 다음과 같은 정규화항을 더해준다.\n",
    "    \n",
    "        $$J(\\theta) = \\frac{1}{2m}\\displaystyle\\sum_{i=1}^{m} (h_\\theta (x^{(i)}) - y^{(i)}) ^2 + \\lambda \\displaystyle\\sum_{i=1}^{n} (\\theta_i)^2$$</br></br>\n",
    "        \n",
    "    3)$\\;$ **L1 정규화와 L2 정규화의 차이**</br></br>\n",
    "    $\\quad$- L1 정규화 : 여러 $\\theta$ 값들을 0으로 만들어 준다. 모델에 중요하지 않다고 생각되는 속성들을 아예 없앤다.</br>\n",
    "    $\\quad$- L2 정규화 : $\\theta$ 값들을 0으로 만들기보다는 조금씩 줄여 준다. 모델에 사용되는 속성들을 L1처럼 없애지는 않는다.\n",
    "        \n",
    "    ※ scikit-learn에서 LogisticRegression 모델은 자동으로 L2 정규화를 적용한다.</br>\n",
    "        (어떤 정규화 기법을 사용할지는 모델의 penalty 라는 옵셔널 파라미터로 변경할 수 있다.)"
   ]
  },
  {
   "cell_type": "code",
   "execution_count": 216,
   "id": "6814669e",
   "metadata": {},
   "outputs": [
    {
     "data": {
      "text/plain": [
       "LogisticRegression()"
      ]
     },
     "execution_count": 216,
     "metadata": {},
     "output_type": "execute_result"
    }
   ],
   "source": [
    "LogisticRegression(penalty='none')  # 정규화 사용 안함\n",
    "LogisticRegression(penalty='l1')  # L1 정규화 사용\n",
    "LogisticRegression(penalty='l2')  # L2 정규화 사용\n",
    "LogisticRegression()  # 위와 똑같음: L2 정규화 사용 (Default)"
   ]
  },
  {
   "cell_type": "markdown",
   "id": "775fc1a1",
   "metadata": {},
   "source": [
    "#### 4) scikit-learn으로 과적합 문제 해결하기"
   ]
  },
  {
   "cell_type": "code",
   "execution_count": 213,
   "id": "9134e602",
   "metadata": {},
   "outputs": [],
   "source": [
    "from sklearn.linear_model import Lasso\n",
    "from sklearn.model_selection import train_test_split\n",
    "from sklearn.metrics import mean_squared_error\n",
    "from sklearn.preprocessing import PolynomialFeatures\n",
    "\n",
    "from math import sqrt\n",
    "\n",
    "import numpy as np\n",
    "import pandas as pd"
   ]
  },
  {
   "cell_type": "code",
   "execution_count": 212,
   "id": "7d399bfd",
   "metadata": {
    "scrolled": true
   },
   "outputs": [
    {
     "data": {
      "text/html": [
       "<div>\n",
       "<style scoped>\n",
       "    .dataframe tbody tr th:only-of-type {\n",
       "        vertical-align: middle;\n",
       "    }\n",
       "\n",
       "    .dataframe tbody tr th {\n",
       "        vertical-align: top;\n",
       "    }\n",
       "\n",
       "    .dataframe thead th {\n",
       "        text-align: right;\n",
       "    }\n",
       "</style>\n",
       "<table border=\"1\" class=\"dataframe\">\n",
       "  <thead>\n",
       "    <tr style=\"text-align: right;\">\n",
       "      <th></th>\n",
       "      <th>GRE Score</th>\n",
       "      <th>TOEFL Score</th>\n",
       "      <th>University Rating</th>\n",
       "      <th>SOP</th>\n",
       "      <th>LOR</th>\n",
       "      <th>CGPA</th>\n",
       "      <th>Research</th>\n",
       "      <th>Chance of Admit</th>\n",
       "    </tr>\n",
       "  </thead>\n",
       "  <tbody>\n",
       "    <tr>\n",
       "      <th>0</th>\n",
       "      <td>337</td>\n",
       "      <td>118</td>\n",
       "      <td>4</td>\n",
       "      <td>4.50000</td>\n",
       "      <td>4.50000</td>\n",
       "      <td>9.65000</td>\n",
       "      <td>1</td>\n",
       "      <td>0.92000</td>\n",
       "    </tr>\n",
       "    <tr>\n",
       "      <th>1</th>\n",
       "      <td>324</td>\n",
       "      <td>107</td>\n",
       "      <td>4</td>\n",
       "      <td>4.00000</td>\n",
       "      <td>4.50000</td>\n",
       "      <td>8.87000</td>\n",
       "      <td>1</td>\n",
       "      <td>0.76000</td>\n",
       "    </tr>\n",
       "    <tr>\n",
       "      <th>2</th>\n",
       "      <td>316</td>\n",
       "      <td>104</td>\n",
       "      <td>3</td>\n",
       "      <td>3.00000</td>\n",
       "      <td>3.50000</td>\n",
       "      <td>8.00000</td>\n",
       "      <td>1</td>\n",
       "      <td>0.72000</td>\n",
       "    </tr>\n",
       "    <tr>\n",
       "      <th>3</th>\n",
       "      <td>322</td>\n",
       "      <td>110</td>\n",
       "      <td>3</td>\n",
       "      <td>3.50000</td>\n",
       "      <td>2.50000</td>\n",
       "      <td>8.67000</td>\n",
       "      <td>1</td>\n",
       "      <td>0.80000</td>\n",
       "    </tr>\n",
       "    <tr>\n",
       "      <th>4</th>\n",
       "      <td>314</td>\n",
       "      <td>103</td>\n",
       "      <td>2</td>\n",
       "      <td>2.00000</td>\n",
       "      <td>3.00000</td>\n",
       "      <td>8.21000</td>\n",
       "      <td>0</td>\n",
       "      <td>0.65000</td>\n",
       "    </tr>\n",
       "  </tbody>\n",
       "</table>\n",
       "</div>"
      ],
      "text/plain": [
       "   GRE Score  TOEFL Score  University Rating     SOP    LOR     CGPA  \\\n",
       "0        337          118                  4 4.50000 4.50000 9.65000   \n",
       "1        324          107                  4 4.00000 4.50000 8.87000   \n",
       "2        316          104                  3 3.00000 3.50000 8.00000   \n",
       "3        322          110                  3 3.50000 2.50000 8.67000   \n",
       "4        314          103                  2 2.00000 3.00000 8.21000   \n",
       "\n",
       "   Research  Chance of Admit   \n",
       "0         1           0.92000  \n",
       "1         1           0.76000  \n",
       "2         1           0.72000  \n",
       "3         1           0.80000  \n",
       "4         0           0.65000  "
      ]
     },
     "execution_count": 212,
     "metadata": {},
     "output_type": "execute_result"
    }
   ],
   "source": [
    "df = pd.read_csv(\"./CSV_files/admission_data.csv\").drop('Serial No.', axis = 1)\n",
    "df.head()"
   ]
  },
  {
   "cell_type": "code",
   "execution_count": 217,
   "id": "6786b0f1",
   "metadata": {
    "scrolled": true
   },
   "outputs": [
    {
     "name": "stdout",
     "output_type": "stream",
     "text": [
      "training set에서의 성능\n",
      "----------------------\n",
      "0.06336620966147144\n",
      "\n",
      "training set에서의 성능\n",
      "----------------------\n",
      "0.06007719092689258\n"
     ]
    }
   ],
   "source": [
    "X = df.drop(['Chance of Admit '], axis = 1)\n",
    "\n",
    "polynomial_transformer = PolynomialFeatures(6)\n",
    "polynomial_features = polynomial_transformer.fit_transform(X.values)\n",
    "\n",
    "features = polynomial_transformer.get_feature_names(X.columns)\n",
    "\n",
    "X = pd.DataFrame(polynomial_features, columns = features)\n",
    "y = df[['Chance of Admit ']]\n",
    "\n",
    "X_train, X_test, y_train, y_test = train_test_split(X, y, test_size = 0.3, random_state = 5)\n",
    "\n",
    "# Lasso(), Ridge()\n",
    "model = Lasso(alpha = 0.001, max_iter = 1000, normalize = True)  # 패널티, 경사 하강법 반복 횟수, feature-scaling(전처리)\n",
    "model.fit(X_train, y_train)\n",
    "\n",
    "y_train_predict = model.predict(X_train)\n",
    "y_test_predict = model.predict(X_test)\n",
    "\n",
    "mse1 = mean_squared_error(y_train, y_train_predict)\n",
    "print(\"training set에서의 성능\")\n",
    "print(\"----------------------\")\n",
    "print(sqrt(mse1))\n",
    "print()\n",
    "mse2 = mean_squared_error(y_test, y_test_predict)\n",
    "print(\"training set에서의 성능\")\n",
    "print(\"----------------------\")\n",
    "print(sqrt(mse2))"
   ]
  },
  {
   "cell_type": "markdown",
   "id": "c29ff572",
   "metadata": {},
   "source": [
    "---"
   ]
  },
  {
   "cell_type": "markdown",
   "id": "ac462db2",
   "metadata": {},
   "source": [
    "## 8. k겹 교차 검증\n",
    "- 전체 데이터를 k개의 같은 사이즈로 나누고, 나누어진 데이터셋으로 여러 번 모델을 학습시키고 성능을 파악한다.\n",
    "- $k$ : 데이터 셋을 몇 개로 나눌 건지 정하는 변수\n"
   ]
  },
  {
   "cell_type": "code",
   "execution_count": 225,
   "id": "34e3e65a",
   "metadata": {},
   "outputs": [],
   "source": [
    "from sklearn import datasets\n",
    "from sklearn.model_selection import cross_val_score  # k겹 교차 검증에 필요한 메소드 임포트\n",
    "from sklearn.linear_model import LogisticRegression\n",
    "\n",
    "import numpy as np\n",
    "import pandas as pd\n",
    "\n",
    "import warnings\n",
    "warnings.simplefilter(action = 'ignore', category = FutureWarning)"
   ]
  },
  {
   "cell_type": "code",
   "execution_count": 221,
   "id": "4515d5a8",
   "metadata": {},
   "outputs": [],
   "source": [
    "iris_data = datasets.load_iris()"
   ]
  },
  {
   "cell_type": "code",
   "execution_count": 223,
   "id": "8159e062",
   "metadata": {},
   "outputs": [],
   "source": [
    "X = pd.DataFrame(iris_data.data, columns = iris_data.feature_names)\n",
    "y = pd.DataFrame(iris_data.target, columns = ['Class'])"
   ]
  },
  {
   "cell_type": "code",
   "execution_count": 224,
   "id": "491a388c",
   "metadata": {},
   "outputs": [],
   "source": [
    "logistic_model = LogisticRegression(max_iter = 2000)"
   ]
  },
  {
   "cell_type": "code",
   "execution_count": 226,
   "id": "38894cb4",
   "metadata": {
    "scrolled": true
   },
   "outputs": [
    {
     "data": {
      "text/plain": [
       "array([0.96666667, 1.        , 0.93333333, 0.96666667, 1.        ])"
      ]
     },
     "execution_count": 226,
     "metadata": {},
     "output_type": "execute_result"
    }
   ],
   "source": [
    "cross_val_score(logistic_model, X, y.values.ravel(), cv = 5)  # (학습 모델, 입력 변수, 목표 변수, k)"
   ]
  },
  {
   "cell_type": "code",
   "execution_count": 228,
   "id": "5853d663",
   "metadata": {
    "scrolled": true
   },
   "outputs": [
    {
     "data": {
      "text/plain": [
       "0.9733333333333334"
      ]
     },
     "execution_count": 228,
     "metadata": {},
     "output_type": "execute_result"
    }
   ],
   "source": [
    "# 분할된 5개의 데이터셋으로 학습하여 성능을 평가하고, 평균을 낸 값\n",
    "np.average(cross_val_score(logistic_model, X, y.values.ravel(), cv = 5))"
   ]
  },
  {
   "cell_type": "markdown",
   "id": "fa6b53ab",
   "metadata": {},
   "source": [
    "---"
   ]
  },
  {
   "cell_type": "markdown",
   "id": "969fd8d3",
   "metadata": {},
   "source": [
    "## 9. 하이퍼 파라미터\n",
    "- 학습을 하기 전에 미리 정해줘야 하는 변수 또는 파라미터들\n",
    "- 하이퍼 파라미터에 따라 모델의 성능에 큰 차이가 있을 수 있기 때문에, 모델의 성능을 최대한 높여주는 하이퍼 파라미터를 고르는 게 중요하다.\n",
    "- ex) model = Lasso(alpha = 0.01, max_iter = 1000) 에서 alpha와 max_iter 가 하이퍼 파라미터에 해당한다.</br></br>\n",
    "1) **Grid Search**(그리드 서치)</br>\n",
    "$\\quad$: 표로 grid(격자 모양)를 만들고, 여기서 성능이 가장 좋은 하이퍼 파라미터를 찾는 방법</br></br>\n",
    "< x_lable = alpha, y_lable = max_iter >\n",
    "\n",
    "|    |0.1 |1    |10  |\n",
    "|:--:|:--:|:--: |:--:|\n",
    "|1000|6.12|6.78 |9.23|\n",
    "|2000|7.3 |**5.41**|8.4 |\n",
    "|3000|8.57|10.98|7.6 |"
   ]
  },
  {
   "cell_type": "code",
   "execution_count": 243,
   "id": "5bec2a63",
   "metadata": {},
   "outputs": [],
   "source": [
    "from sklearn.linear_model import Lasso\n",
    "from sklearn.model_selection import train_test_split\n",
    "from sklearn.metrics import mean_squared_error\n",
    "from sklearn.preprocessing import PolynomialFeatures\n",
    "from sklearn.model_selection import GridSearchCV\n",
    "from math import sqrt\n",
    "\n",
    "import numpy as np\n",
    "import pandas as pd"
   ]
  },
  {
   "cell_type": "code",
   "execution_count": 248,
   "id": "91afaa33",
   "metadata": {
    "scrolled": true
   },
   "outputs": [],
   "source": [
    "df = pd.read_csv(\"./CSV_files/admission_data.csv\")\n",
    "\n",
    "X = df.drop('Chance of Admit ', axis = 1)\n",
    "\n",
    "polynomial_transformer = PolynomialFeatures(2)  # 2차식 변형기\n",
    "polynomial_features = polynomial_transformer.fit_transform(X.values)\n",
    "\n",
    "features = polynomial_transformer.get_feature_names(X.columns)\n",
    "\n",
    "X = pd.DataFrame(polynomial_features, columns = features)\n",
    "y = df[['Chance of Admit ']]"
   ]
  },
  {
   "cell_type": "code",
   "execution_count": 251,
   "id": "175be0e0",
   "metadata": {},
   "outputs": [],
   "source": [
    "hyper_parameter = { 'alpha' : [0.01, 0.1, 1, 10], 'max_iter' : [100, 500, 1000, 1500, 2000] }  # 하이퍼 파라미터(그리드)"
   ]
  },
  {
   "cell_type": "code",
   "execution_count": 255,
   "id": "d4901a3f",
   "metadata": {},
   "outputs": [],
   "source": [
    "lasso_model = Lasso()"
   ]
  },
  {
   "cell_type": "code",
   "execution_count": 256,
   "id": "3c2325b3",
   "metadata": {
    "collapsed": true
   },
   "outputs": [
    {
     "name": "stderr",
     "output_type": "stream",
     "text": [
      "C:\\Anaconda\\lib\\site-packages\\sklearn\\linear_model\\_coordinate_descent.py:530: ConvergenceWarning: Objective did not converge. You might want to increase the number of iterations. Duality gap: 0.425399747213212, tolerance: 0.0006706039000000001\n",
      "  model = cd_fast.enet_coordinate_descent(\n",
      "C:\\Anaconda\\lib\\site-packages\\sklearn\\linear_model\\_coordinate_descent.py:530: ConvergenceWarning: Objective did not converge. You might want to increase the number of iterations. Duality gap: 0.6427237098660837, tolerance: 0.0008245817750000001\n",
      "  model = cd_fast.enet_coordinate_descent(\n",
      "C:\\Anaconda\\lib\\site-packages\\sklearn\\linear_model\\_coordinate_descent.py:530: ConvergenceWarning: Objective did not converge. You might want to increase the number of iterations. Duality gap: 0.7268361771953719, tolerance: 0.0008590157750000001\n",
      "  model = cd_fast.enet_coordinate_descent(\n",
      "C:\\Anaconda\\lib\\site-packages\\sklearn\\linear_model\\_coordinate_descent.py:530: ConvergenceWarning: Objective did not converge. You might want to increase the number of iterations. Duality gap: 0.6364317724064631, tolerance: 0.0007997224000000001\n",
      "  model = cd_fast.enet_coordinate_descent(\n",
      "C:\\Anaconda\\lib\\site-packages\\sklearn\\linear_model\\_coordinate_descent.py:530: ConvergenceWarning: Objective did not converge. You might want to increase the number of iterations. Duality gap: 0.6963222954602128, tolerance: 0.0008114630999999999\n",
      "  model = cd_fast.enet_coordinate_descent(\n",
      "C:\\Anaconda\\lib\\site-packages\\sklearn\\linear_model\\_coordinate_descent.py:530: ConvergenceWarning: Objective did not converge. You might want to increase the number of iterations. Duality gap: 0.4180413726372561, tolerance: 0.0006706039000000001\n",
      "  model = cd_fast.enet_coordinate_descent(\n",
      "C:\\Anaconda\\lib\\site-packages\\sklearn\\linear_model\\_coordinate_descent.py:530: ConvergenceWarning: Objective did not converge. You might want to increase the number of iterations. Duality gap: 0.6367536921074396, tolerance: 0.0008245817750000001\n",
      "  model = cd_fast.enet_coordinate_descent(\n",
      "C:\\Anaconda\\lib\\site-packages\\sklearn\\linear_model\\_coordinate_descent.py:530: ConvergenceWarning: Objective did not converge. You might want to increase the number of iterations. Duality gap: 0.7207154089253448, tolerance: 0.0008590157750000001\n",
      "  model = cd_fast.enet_coordinate_descent(\n",
      "C:\\Anaconda\\lib\\site-packages\\sklearn\\linear_model\\_coordinate_descent.py:530: ConvergenceWarning: Objective did not converge. You might want to increase the number of iterations. Duality gap: 0.6307153394423219, tolerance: 0.0007997224000000001\n",
      "  model = cd_fast.enet_coordinate_descent(\n",
      "C:\\Anaconda\\lib\\site-packages\\sklearn\\linear_model\\_coordinate_descent.py:530: ConvergenceWarning: Objective did not converge. You might want to increase the number of iterations. Duality gap: 0.6917305509775316, tolerance: 0.0008114630999999999\n",
      "  model = cd_fast.enet_coordinate_descent(\n",
      "C:\\Anaconda\\lib\\site-packages\\sklearn\\linear_model\\_coordinate_descent.py:530: ConvergenceWarning: Objective did not converge. You might want to increase the number of iterations. Duality gap: 0.38139406350333616, tolerance: 0.0006706039000000001\n",
      "  model = cd_fast.enet_coordinate_descent(\n",
      "C:\\Anaconda\\lib\\site-packages\\sklearn\\linear_model\\_coordinate_descent.py:530: ConvergenceWarning: Objective did not converge. You might want to increase the number of iterations. Duality gap: 0.6337331617287234, tolerance: 0.0008245817750000001\n",
      "  model = cd_fast.enet_coordinate_descent(\n",
      "C:\\Anaconda\\lib\\site-packages\\sklearn\\linear_model\\_coordinate_descent.py:530: ConvergenceWarning: Objective did not converge. You might want to increase the number of iterations. Duality gap: 0.7147572370410452, tolerance: 0.0008590157750000001\n",
      "  model = cd_fast.enet_coordinate_descent(\n",
      "C:\\Anaconda\\lib\\site-packages\\sklearn\\linear_model\\_coordinate_descent.py:530: ConvergenceWarning: Objective did not converge. You might want to increase the number of iterations. Duality gap: 0.6272640425010643, tolerance: 0.0007997224000000001\n",
      "  model = cd_fast.enet_coordinate_descent(\n",
      "C:\\Anaconda\\lib\\site-packages\\sklearn\\linear_model\\_coordinate_descent.py:530: ConvergenceWarning: Objective did not converge. You might want to increase the number of iterations. Duality gap: 0.6877283781941088, tolerance: 0.0008114630999999999\n",
      "  model = cd_fast.enet_coordinate_descent(\n",
      "C:\\Anaconda\\lib\\site-packages\\sklearn\\linear_model\\_coordinate_descent.py:530: ConvergenceWarning: Objective did not converge. You might want to increase the number of iterations. Duality gap: 0.35823559789621484, tolerance: 0.0006706039000000001\n",
      "  model = cd_fast.enet_coordinate_descent(\n",
      "C:\\Anaconda\\lib\\site-packages\\sklearn\\linear_model\\_coordinate_descent.py:530: ConvergenceWarning: Objective did not converge. You might want to increase the number of iterations. Duality gap: 0.6329945142204275, tolerance: 0.0008245817750000001\n",
      "  model = cd_fast.enet_coordinate_descent(\n",
      "C:\\Anaconda\\lib\\site-packages\\sklearn\\linear_model\\_coordinate_descent.py:530: ConvergenceWarning: Objective did not converge. You might want to increase the number of iterations. Duality gap: 0.7160084566094387, tolerance: 0.0008590157750000001\n",
      "  model = cd_fast.enet_coordinate_descent(\n",
      "C:\\Anaconda\\lib\\site-packages\\sklearn\\linear_model\\_coordinate_descent.py:530: ConvergenceWarning: Objective did not converge. You might want to increase the number of iterations. Duality gap: 0.6286326647079493, tolerance: 0.0007997224000000001\n",
      "  model = cd_fast.enet_coordinate_descent(\n",
      "C:\\Anaconda\\lib\\site-packages\\sklearn\\linear_model\\_coordinate_descent.py:530: ConvergenceWarning: Objective did not converge. You might want to increase the number of iterations. Duality gap: 0.6824704561525885, tolerance: 0.0008114630999999999\n",
      "  model = cd_fast.enet_coordinate_descent(\n",
      "C:\\Anaconda\\lib\\site-packages\\sklearn\\linear_model\\_coordinate_descent.py:530: ConvergenceWarning: Objective did not converge. You might want to increase the number of iterations. Duality gap: 0.3581814283368616, tolerance: 0.0006706039000000001\n",
      "  model = cd_fast.enet_coordinate_descent(\n",
      "C:\\Anaconda\\lib\\site-packages\\sklearn\\linear_model\\_coordinate_descent.py:530: ConvergenceWarning: Objective did not converge. You might want to increase the number of iterations. Duality gap: 0.5533129048473867, tolerance: 0.0008245817750000001\n",
      "  model = cd_fast.enet_coordinate_descent(\n",
      "C:\\Anaconda\\lib\\site-packages\\sklearn\\linear_model\\_coordinate_descent.py:530: ConvergenceWarning: Objective did not converge. You might want to increase the number of iterations. Duality gap: 0.7153730577890197, tolerance: 0.0008590157750000001\n",
      "  model = cd_fast.enet_coordinate_descent(\n",
      "C:\\Anaconda\\lib\\site-packages\\sklearn\\linear_model\\_coordinate_descent.py:530: ConvergenceWarning: Objective did not converge. You might want to increase the number of iterations. Duality gap: 0.6255174062346186, tolerance: 0.0007997224000000001\n",
      "  model = cd_fast.enet_coordinate_descent(\n",
      "C:\\Anaconda\\lib\\site-packages\\sklearn\\linear_model\\_coordinate_descent.py:530: ConvergenceWarning: Objective did not converge. You might want to increase the number of iterations. Duality gap: 0.6673846700425923, tolerance: 0.0008114630999999999\n",
      "  model = cd_fast.enet_coordinate_descent(\n",
      "C:\\Anaconda\\lib\\site-packages\\sklearn\\linear_model\\_coordinate_descent.py:530: ConvergenceWarning: Objective did not converge. You might want to increase the number of iterations. Duality gap: 0.4360717251118691, tolerance: 0.0006706039000000001\n",
      "  model = cd_fast.enet_coordinate_descent(\n",
      "C:\\Anaconda\\lib\\site-packages\\sklearn\\linear_model\\_coordinate_descent.py:530: ConvergenceWarning: Objective did not converge. You might want to increase the number of iterations. Duality gap: 0.6627303534999374, tolerance: 0.0008245817750000001\n",
      "  model = cd_fast.enet_coordinate_descent(\n",
      "C:\\Anaconda\\lib\\site-packages\\sklearn\\linear_model\\_coordinate_descent.py:530: ConvergenceWarning: Objective did not converge. You might want to increase the number of iterations. Duality gap: 0.7354661917783777, tolerance: 0.0008590157750000001\n",
      "  model = cd_fast.enet_coordinate_descent(\n",
      "C:\\Anaconda\\lib\\site-packages\\sklearn\\linear_model\\_coordinate_descent.py:530: ConvergenceWarning: Objective did not converge. You might want to increase the number of iterations. Duality gap: 0.6449387332179907, tolerance: 0.0007997224000000001\n",
      "  model = cd_fast.enet_coordinate_descent(\n",
      "C:\\Anaconda\\lib\\site-packages\\sklearn\\linear_model\\_coordinate_descent.py:530: ConvergenceWarning: Objective did not converge. You might want to increase the number of iterations. Duality gap: 0.705302460730254, tolerance: 0.0008114630999999999\n",
      "  model = cd_fast.enet_coordinate_descent(\n",
      "C:\\Anaconda\\lib\\site-packages\\sklearn\\linear_model\\_coordinate_descent.py:530: ConvergenceWarning: Objective did not converge. You might want to increase the number of iterations. Duality gap: 0.15341008856648403, tolerance: 0.0006706039000000001\n",
      "  model = cd_fast.enet_coordinate_descent(\n",
      "C:\\Anaconda\\lib\\site-packages\\sklearn\\linear_model\\_coordinate_descent.py:530: ConvergenceWarning: Objective did not converge. You might want to increase the number of iterations. Duality gap: 0.6207512911666795, tolerance: 0.0008245817750000001\n",
      "  model = cd_fast.enet_coordinate_descent(\n",
      "C:\\Anaconda\\lib\\site-packages\\sklearn\\linear_model\\_coordinate_descent.py:530: ConvergenceWarning: Objective did not converge. You might want to increase the number of iterations. Duality gap: 0.5237184980367877, tolerance: 0.0008590157750000001\n",
      "  model = cd_fast.enet_coordinate_descent(\n",
      "C:\\Anaconda\\lib\\site-packages\\sklearn\\linear_model\\_coordinate_descent.py:530: ConvergenceWarning: Objective did not converge. You might want to increase the number of iterations. Duality gap: 0.44014746799798815, tolerance: 0.0007997224000000001\n",
      "  model = cd_fast.enet_coordinate_descent(\n",
      "C:\\Anaconda\\lib\\site-packages\\sklearn\\linear_model\\_coordinate_descent.py:530: ConvergenceWarning: Objective did not converge. You might want to increase the number of iterations. Duality gap: 0.6479339766744167, tolerance: 0.0008114630999999999\n",
      "  model = cd_fast.enet_coordinate_descent(\n",
      "C:\\Anaconda\\lib\\site-packages\\sklearn\\linear_model\\_coordinate_descent.py:530: ConvergenceWarning: Objective did not converge. You might want to increase the number of iterations. Duality gap: 0.28148016641338114, tolerance: 0.0006706039000000001\n",
      "  model = cd_fast.enet_coordinate_descent(\n",
      "C:\\Anaconda\\lib\\site-packages\\sklearn\\linear_model\\_coordinate_descent.py:530: ConvergenceWarning: Objective did not converge. You might want to increase the number of iterations. Duality gap: 0.5805234782469237, tolerance: 0.0008245817750000001\n",
      "  model = cd_fast.enet_coordinate_descent(\n",
      "C:\\Anaconda\\lib\\site-packages\\sklearn\\linear_model\\_coordinate_descent.py:530: ConvergenceWarning: Objective did not converge. You might want to increase the number of iterations. Duality gap: 0.3755330769447264, tolerance: 0.0008590157750000001\n",
      "  model = cd_fast.enet_coordinate_descent(\n"
     ]
    },
    {
     "name": "stderr",
     "output_type": "stream",
     "text": [
      "C:\\Anaconda\\lib\\site-packages\\sklearn\\linear_model\\_coordinate_descent.py:530: ConvergenceWarning: Objective did not converge. You might want to increase the number of iterations. Duality gap: 0.2548200873417949, tolerance: 0.0007997224000000001\n",
      "  model = cd_fast.enet_coordinate_descent(\n",
      "C:\\Anaconda\\lib\\site-packages\\sklearn\\linear_model\\_coordinate_descent.py:530: ConvergenceWarning: Objective did not converge. You might want to increase the number of iterations. Duality gap: 0.6318652688804645, tolerance: 0.0008114630999999999\n",
      "  model = cd_fast.enet_coordinate_descent(\n",
      "C:\\Anaconda\\lib\\site-packages\\sklearn\\linear_model\\_coordinate_descent.py:530: ConvergenceWarning: Objective did not converge. You might want to increase the number of iterations. Duality gap: 0.22410745261380122, tolerance: 0.0006706039000000001\n",
      "  model = cd_fast.enet_coordinate_descent(\n",
      "C:\\Anaconda\\lib\\site-packages\\sklearn\\linear_model\\_coordinate_descent.py:530: ConvergenceWarning: Objective did not converge. You might want to increase the number of iterations. Duality gap: 0.48773319472987964, tolerance: 0.0008245817750000001\n",
      "  model = cd_fast.enet_coordinate_descent(\n",
      "C:\\Anaconda\\lib\\site-packages\\sklearn\\linear_model\\_coordinate_descent.py:530: ConvergenceWarning: Objective did not converge. You might want to increase the number of iterations. Duality gap: 0.1850014291880444, tolerance: 0.0008590157750000001\n",
      "  model = cd_fast.enet_coordinate_descent(\n",
      "C:\\Anaconda\\lib\\site-packages\\sklearn\\linear_model\\_coordinate_descent.py:530: ConvergenceWarning: Objective did not converge. You might want to increase the number of iterations. Duality gap: 0.12165472909529274, tolerance: 0.0007997224000000001\n",
      "  model = cd_fast.enet_coordinate_descent(\n",
      "C:\\Anaconda\\lib\\site-packages\\sklearn\\linear_model\\_coordinate_descent.py:530: ConvergenceWarning: Objective did not converge. You might want to increase the number of iterations. Duality gap: 0.5926116253584047, tolerance: 0.0008114630999999999\n",
      "  model = cd_fast.enet_coordinate_descent(\n",
      "C:\\Anaconda\\lib\\site-packages\\sklearn\\linear_model\\_coordinate_descent.py:530: ConvergenceWarning: Objective did not converge. You might want to increase the number of iterations. Duality gap: 0.1483740968652818, tolerance: 0.0006706039000000001\n",
      "  model = cd_fast.enet_coordinate_descent(\n",
      "C:\\Anaconda\\lib\\site-packages\\sklearn\\linear_model\\_coordinate_descent.py:530: ConvergenceWarning: Objective did not converge. You might want to increase the number of iterations. Duality gap: 0.3105681962898818, tolerance: 0.0008245817750000001\n",
      "  model = cd_fast.enet_coordinate_descent(\n",
      "C:\\Anaconda\\lib\\site-packages\\sklearn\\linear_model\\_coordinate_descent.py:530: ConvergenceWarning: Objective did not converge. You might want to increase the number of iterations. Duality gap: 0.06924497432422871, tolerance: 0.0008590157750000001\n",
      "  model = cd_fast.enet_coordinate_descent(\n",
      "C:\\Anaconda\\lib\\site-packages\\sklearn\\linear_model\\_coordinate_descent.py:530: ConvergenceWarning: Objective did not converge. You might want to increase the number of iterations. Duality gap: 0.03861269270550849, tolerance: 0.0007997224000000001\n",
      "  model = cd_fast.enet_coordinate_descent(\n",
      "C:\\Anaconda\\lib\\site-packages\\sklearn\\linear_model\\_coordinate_descent.py:530: ConvergenceWarning: Objective did not converge. You might want to increase the number of iterations. Duality gap: 0.5370884100639928, tolerance: 0.0008114630999999999\n",
      "  model = cd_fast.enet_coordinate_descent(\n",
      "C:\\Anaconda\\lib\\site-packages\\sklearn\\linear_model\\_coordinate_descent.py:530: ConvergenceWarning: Objective did not converge. You might want to increase the number of iterations. Duality gap: 0.20204337169081837, tolerance: 0.0006706039000000001\n",
      "  model = cd_fast.enet_coordinate_descent(\n",
      "C:\\Anaconda\\lib\\site-packages\\sklearn\\linear_model\\_coordinate_descent.py:530: ConvergenceWarning: Objective did not converge. You might want to increase the number of iterations. Duality gap: 0.6261958180810693, tolerance: 0.0008245817750000001\n",
      "  model = cd_fast.enet_coordinate_descent(\n",
      "C:\\Anaconda\\lib\\site-packages\\sklearn\\linear_model\\_coordinate_descent.py:530: ConvergenceWarning: Objective did not converge. You might want to increase the number of iterations. Duality gap: 0.7323017543307954, tolerance: 0.0008590157750000001\n",
      "  model = cd_fast.enet_coordinate_descent(\n",
      "C:\\Anaconda\\lib\\site-packages\\sklearn\\linear_model\\_coordinate_descent.py:530: ConvergenceWarning: Objective did not converge. You might want to increase the number of iterations. Duality gap: 0.6706071091856829, tolerance: 0.0007997224000000001\n",
      "  model = cd_fast.enet_coordinate_descent(\n",
      "C:\\Anaconda\\lib\\site-packages\\sklearn\\linear_model\\_coordinate_descent.py:530: ConvergenceWarning: Objective did not converge. You might want to increase the number of iterations. Duality gap: 0.2986990116758782, tolerance: 0.0008114630999999999\n",
      "  model = cd_fast.enet_coordinate_descent(\n",
      "C:\\Anaconda\\lib\\site-packages\\sklearn\\linear_model\\_coordinate_descent.py:530: ConvergenceWarning: Objective did not converge. You might want to increase the number of iterations. Duality gap: 0.1455170248324903, tolerance: 0.0006706039000000001\n",
      "  model = cd_fast.enet_coordinate_descent(\n",
      "C:\\Anaconda\\lib\\site-packages\\sklearn\\linear_model\\_coordinate_descent.py:530: ConvergenceWarning: Objective did not converge. You might want to increase the number of iterations. Duality gap: 0.07437015298559357, tolerance: 0.0006706039000000001\n",
      "  model = cd_fast.enet_coordinate_descent(\n",
      "C:\\Anaconda\\lib\\site-packages\\sklearn\\linear_model\\_coordinate_descent.py:530: ConvergenceWarning: Objective did not converge. You might want to increase the number of iterations. Duality gap: 0.035142407018976196, tolerance: 0.0006706039000000001\n",
      "  model = cd_fast.enet_coordinate_descent(\n",
      "C:\\Anaconda\\lib\\site-packages\\sklearn\\linear_model\\_coordinate_descent.py:530: ConvergenceWarning: Objective did not converge. You might want to increase the number of iterations. Duality gap: 0.016347039636776417, tolerance: 0.0006706039000000001\n",
      "  model = cd_fast.enet_coordinate_descent(\n",
      "C:\\Anaconda\\lib\\site-packages\\sklearn\\linear_model\\_coordinate_descent.py:530: ConvergenceWarning: Objective did not converge. You might want to increase the number of iterations. Duality gap: 0.1696847229303149, tolerance: 0.0008245817750000001\n",
      "  model = cd_fast.enet_coordinate_descent(\n",
      "C:\\Anaconda\\lib\\site-packages\\sklearn\\linear_model\\_coordinate_descent.py:530: ConvergenceWarning: Objective did not converge. You might want to increase the number of iterations. Duality gap: 0.18731829570901826, tolerance: 0.0008590157750000001\n",
      "  model = cd_fast.enet_coordinate_descent(\n",
      "C:\\Anaconda\\lib\\site-packages\\sklearn\\linear_model\\_coordinate_descent.py:530: ConvergenceWarning: Objective did not converge. You might want to increase the number of iterations. Duality gap: 0.025586189516684454, tolerance: 0.0007997224000000001\n",
      "  model = cd_fast.enet_coordinate_descent(\n",
      "C:\\Anaconda\\lib\\site-packages\\sklearn\\linear_model\\_coordinate_descent.py:530: ConvergenceWarning: Objective did not converge. You might want to increase the number of iterations. Duality gap: 0.03110460182943431, tolerance: 0.0008114630999999999\n",
      "  model = cd_fast.enet_coordinate_descent(\n",
      "C:\\Anaconda\\lib\\site-packages\\sklearn\\linear_model\\_coordinate_descent.py:530: ConvergenceWarning: Objective did not converge. You might want to increase the number of iterations. Duality gap: 0.7910950882660454, tolerance: 0.00099403862\n",
      "  model = cd_fast.enet_coordinate_descent(\n"
     ]
    },
    {
     "data": {
      "text/plain": [
       "GridSearchCV(cv=5, estimator=Lasso(),\n",
       "             param_grid={'alpha': [0.01, 0.1, 1, 10],\n",
       "                         'max_iter': [100, 500, 1000, 1500, 2000]})"
      ]
     },
     "execution_count": 256,
     "metadata": {},
     "output_type": "execute_result"
    }
   ],
   "source": [
    "hyper_parameter_tuner = GridSearchCV(lasso_model, hyper_parameter, cv = 5)\n",
    "hyper_parameter_tuner.fit(X, y)"
   ]
  },
  {
   "cell_type": "code",
   "execution_count": 257,
   "id": "79c92571",
   "metadata": {
    "scrolled": true
   },
   "outputs": [
    {
     "data": {
      "text/plain": [
       "{'alpha': 1, 'max_iter': 100}"
      ]
     },
     "execution_count": 257,
     "metadata": {},
     "output_type": "execute_result"
    }
   ],
   "source": [
    "hyper_parameter_tuner.best_params_"
   ]
  },
  {
   "cell_type": "markdown",
   "id": "b67f0f00",
   "metadata": {},
   "source": [
    "---"
   ]
  },
  {
   "cell_type": "markdown",
   "id": "9197a705",
   "metadata": {},
   "source": [
    "## 10. 결정 트리(Decision Tree)\n",
    "- \"예/아니오\"로 답할 수 있는 어떤 질문들이 있고, 그 질문들의 답을 따라가면서 데이터를 분류하는 알고리즘\n",
    "- 데이터를 분류하는 방법이 직관적이고, 해석이 쉽다."
   ]
  },
  {
   "cell_type": "code",
   "execution_count": 264,
   "id": "c76d33ae",
   "metadata": {},
   "outputs": [
    {
     "name": "stdout",
     "output_type": "stream",
     "text": [
      "1\n",
      "0\n",
      "0\n",
      "1\n",
      "0\n"
     ]
    }
   ],
   "source": [
    "# if / else를 이용한 간단한 결정 트리 예시\n",
    "def survival_classifier(seat_belt, highway, speed, age):  # 안전벨트 여부, 고속도로 여부, 속도, 나이 -> 생존 : 0 / 사망 : 1\n",
    "\n",
    "    if seat_belt:\n",
    "        return 0 \n",
    "    else:\n",
    "        if highway:\n",
    "            if speed > 100:\n",
    "                if age > 50:\n",
    "                    return 1\n",
    "                else:\n",
    "                    return 0\n",
    "            else:\n",
    "                return 0\n",
    "        else:\n",
    "            return 0\n",
    "        \n",
    "# test_case\n",
    "print(survival_classifier(False, True, 110, 55))\n",
    "print(survival_classifier(True, False, 40, 70))\n",
    "print(survival_classifier(False, True, 80, 25))\n",
    "print(survival_classifier(False, True, 120, 60))\n",
    "print(survival_classifier(True, False, 30, 20))"
   ]
  },
  {
   "cell_type": "markdown",
   "id": "6b753eec",
   "metadata": {},
   "source": [
    "#### 1) 지니 불순도(Gini impurity)\n",
    "- 의사 결정 트리에서 사용되는 클래스 개수에 따른 케이스들의 불순한 정도를 나타내는 척도이다.\n",
    "- 쉽게 말해서, 지니계수는 **\"데이터 셋 안에 서로 다른 분류들이 얼마나 섞여있는지\"**를 나타낸다.\n",
    "- **지니계수가 \"낮을수록\" \"순수한 데이터\"**이다.\n",
    "</br></br>\n",
    "- 독감 데이터 셋이 독감 환자($flu$) 70명 / 일반 감기 환자($not\\_flu$) 30명로 구별된다고 할 때, 지니 불순도는 다음과 같다.</br></br>\n",
    "$$GI \\;=\\; 1 - p(flu)^2 - p(not\\_flu)^2 \\;=\\; 1 - (\\frac{70}{100})^2 - (\\frac{30}{100})^2 \\;=\\; 0.42 $$</br></br>\n",
    "- 분류 노드 평가\n",
    "    - 좋은 분류 노드는 최대한 많은 학습 데이터 예측을 맞춘다.\n",
    "    - 데이터 셋이 독감 데이터가 많을수록 좋다.\n",
    "    - 데이터 셋이 순수할수록(지니 불순도가 낮을수록) 좋다.\n",
    "</br></br>\n",
    "- 질문 노드 평가\n",
    "    - 좋은 질문은 데이터를 잘 나눠서 아래 노드들이 분류하기 쉽게 만들어준다.\n",
    "    - 질문으로 나뉜 데이터 셋이 순수할수록(지니 불순도가 낮을수록) 더 좋다.</br>\n",
    "    \n",
    "    <img src=\"./Photo_files/Tree_Answer.png\" alt=\"Tree_Question_Evaluation\" width=\"350\"/></br></br>\n",
    "    - 고열이 있는 데이터 셋의 불순도 :\n",
    "    $\\; GI_{left} \\;=\\; 1 - P(flu)^2-P(no\\_flu)^2 \\;=\\; 1 - (\\frac{40}{50})^2 - (\\frac{10}{50})^2 \\;=\\; 1 - 0.8^2 - 0.2^2 \\;=\\; 0.32$</br></br>\n",
    "    - 고열이 없는 데이터 셋의 불순도 :\n",
    "    $\\; GI_{right} \\;=\\; 1 - P(flu)^2-P(no\\_flu)^2 \\;=\\; 1 - (\\frac{10}{40})^2 - (\\frac{30}{40})^2 \\;=\\; 1 - 0.25^2 - 0.75^2 \\;=\\; 0.375$</br></br>\n",
    "    - 평균 지니계수 : $\\; GI_{avg} \\;=\\; \\frac{50\\; \\times \\;0.32 \\;+\\; 40\\; \\times \\;0.375}{50 \\;+\\; 40} \\;=\\; 0.344$"
   ]
  },
  {
   "cell_type": "markdown",
   "id": "1d269869",
   "metadata": {},
   "source": [
    "#### 2) 속성 중요도(Feature Importance)\n",
    "\n",
    "- **노드 중요도(Node Importance)**</br>\n",
    "    - 위 노드에서 아래 노드로 내려오면서, **불순도가 얼마나 줄어들었는지를 계산**한다.\n",
    "    - $NI$ 값이 클수록 데이터를 잘 나눈 것이다.</br></br>\n",
    "$$NI = \\frac{n}{m}\\times GI - \\frac{n_{left}}{m}\\times GI_{left} - \\frac{n_{right}}{m}\\times GI_{right}$$</br>\n",
    "$$(n : 노드까지\\;오는\\;데이터 수,\\; GI : 노드\\;지니\\;불순도,\\; m : 전체\\;학습\\;데이터\\;수)$$</br></br>\n",
    "\n",
    "- **속성 중요도(Feature Importance)**</br>\n",
    "    - 특정 속성이 얼마나 중요한지 알고 싶으면, 그 속성의 노드들의 중요도를 더해서, 모든 노드들의 중요도 합으로 나누면 된다.</br>\n",
    "    - 특정 속성을 질문으로 갖는 노드들의 중요도의 평균을 구한 것과 비슷하므로,</br>\n",
    "    최종적으로 구한 값을 속성의 **평균 지니 감소(Mean Gini Decrease)**라고도 한다.\n",
    "    - 각 속성의 평균 지니 감소를 이용하면, 특정 속성이 결정 트리 안에서 평균적으로 얼마나 불순도를 낮췄는지를 계산할 수 있고,</br>\n",
    "    이를 통해 결정 트리 안에서 그 속성이 얼마나 중요한지를 판단할 수 있다."
   ]
  },
  {
   "cell_type": "markdown",
   "id": "5df9132f",
   "metadata": {},
   "source": [
    "#### 3) 코드 작성"
   ]
  },
  {
   "cell_type": "code",
   "execution_count": 25,
   "id": "9318206f",
   "metadata": {},
   "outputs": [],
   "source": [
    "from sklearn.datasets import load_iris\n",
    "from sklearn.model_selection import train_test_split\n",
    "from sklearn.tree import DecisionTreeClassifier\n",
    "import matplotlib.pyplot as plt\n",
    "\n",
    "import numpy as np\n",
    "import pandas as pd"
   ]
  },
  {
   "cell_type": "code",
   "execution_count": 5,
   "id": "08defae2",
   "metadata": {},
   "outputs": [],
   "source": [
    "iris_data = load_iris()"
   ]
  },
  {
   "cell_type": "code",
   "execution_count": 8,
   "id": "f816c0b5",
   "metadata": {
    "scrolled": true
   },
   "outputs": [
    {
     "data": {
      "text/html": [
       "<div>\n",
       "<style scoped>\n",
       "    .dataframe tbody tr th:only-of-type {\n",
       "        vertical-align: middle;\n",
       "    }\n",
       "\n",
       "    .dataframe tbody tr th {\n",
       "        vertical-align: top;\n",
       "    }\n",
       "\n",
       "    .dataframe thead th {\n",
       "        text-align: right;\n",
       "    }\n",
       "</style>\n",
       "<table border=\"1\" class=\"dataframe\">\n",
       "  <thead>\n",
       "    <tr style=\"text-align: right;\">\n",
       "      <th></th>\n",
       "      <th>sepal length (cm)</th>\n",
       "      <th>sepal width (cm)</th>\n",
       "      <th>petal length (cm)</th>\n",
       "      <th>petal width (cm)</th>\n",
       "    </tr>\n",
       "  </thead>\n",
       "  <tbody>\n",
       "    <tr>\n",
       "      <th>0</th>\n",
       "      <td>5.1</td>\n",
       "      <td>3.5</td>\n",
       "      <td>1.4</td>\n",
       "      <td>0.2</td>\n",
       "    </tr>\n",
       "    <tr>\n",
       "      <th>1</th>\n",
       "      <td>4.9</td>\n",
       "      <td>3.0</td>\n",
       "      <td>1.4</td>\n",
       "      <td>0.2</td>\n",
       "    </tr>\n",
       "    <tr>\n",
       "      <th>2</th>\n",
       "      <td>4.7</td>\n",
       "      <td>3.2</td>\n",
       "      <td>1.3</td>\n",
       "      <td>0.2</td>\n",
       "    </tr>\n",
       "    <tr>\n",
       "      <th>3</th>\n",
       "      <td>4.6</td>\n",
       "      <td>3.1</td>\n",
       "      <td>1.5</td>\n",
       "      <td>0.2</td>\n",
       "    </tr>\n",
       "    <tr>\n",
       "      <th>4</th>\n",
       "      <td>5.0</td>\n",
       "      <td>3.6</td>\n",
       "      <td>1.4</td>\n",
       "      <td>0.2</td>\n",
       "    </tr>\n",
       "  </tbody>\n",
       "</table>\n",
       "</div>"
      ],
      "text/plain": [
       "   sepal length (cm)  sepal width (cm)  petal length (cm)  petal width (cm)\n",
       "0                5.1               3.5                1.4               0.2\n",
       "1                4.9               3.0                1.4               0.2\n",
       "2                4.7               3.2                1.3               0.2\n",
       "3                4.6               3.1                1.5               0.2\n",
       "4                5.0               3.6                1.4               0.2"
      ]
     },
     "execution_count": 8,
     "metadata": {},
     "output_type": "execute_result"
    }
   ],
   "source": [
    "X = pd.DataFrame(iris_data.data, columns = iris_data.feature_names)\n",
    "X.head()"
   ]
  },
  {
   "cell_type": "code",
   "execution_count": 10,
   "id": "18d12ced",
   "metadata": {
    "scrolled": false
   },
   "outputs": [
    {
     "data": {
      "text/html": [
       "<div>\n",
       "<style scoped>\n",
       "    .dataframe tbody tr th:only-of-type {\n",
       "        vertical-align: middle;\n",
       "    }\n",
       "\n",
       "    .dataframe tbody tr th {\n",
       "        vertical-align: top;\n",
       "    }\n",
       "\n",
       "    .dataframe thead th {\n",
       "        text-align: right;\n",
       "    }\n",
       "</style>\n",
       "<table border=\"1\" class=\"dataframe\">\n",
       "  <thead>\n",
       "    <tr style=\"text-align: right;\">\n",
       "      <th></th>\n",
       "      <th>class</th>\n",
       "    </tr>\n",
       "  </thead>\n",
       "  <tbody>\n",
       "    <tr>\n",
       "      <th>0</th>\n",
       "      <td>0</td>\n",
       "    </tr>\n",
       "    <tr>\n",
       "      <th>1</th>\n",
       "      <td>0</td>\n",
       "    </tr>\n",
       "    <tr>\n",
       "      <th>2</th>\n",
       "      <td>0</td>\n",
       "    </tr>\n",
       "    <tr>\n",
       "      <th>3</th>\n",
       "      <td>0</td>\n",
       "    </tr>\n",
       "    <tr>\n",
       "      <th>4</th>\n",
       "      <td>0</td>\n",
       "    </tr>\n",
       "  </tbody>\n",
       "</table>\n",
       "</div>"
      ],
      "text/plain": [
       "   class\n",
       "0      0\n",
       "1      0\n",
       "2      0\n",
       "3      0\n",
       "4      0"
      ]
     },
     "execution_count": 10,
     "metadata": {},
     "output_type": "execute_result"
    }
   ],
   "source": [
    "y = pd.DataFrame(iris_data.target, columns = ['class'])\n",
    "y.head()"
   ]
  },
  {
   "cell_type": "code",
   "execution_count": 13,
   "id": "5ea023d2",
   "metadata": {},
   "outputs": [],
   "source": [
    "X_train, X_test, y_train, y_test = train_test_split(X, y, test_size = 0.2, random_state = 5)"
   ]
  },
  {
   "cell_type": "code",
   "execution_count": 19,
   "id": "4800f6a7",
   "metadata": {},
   "outputs": [
    {
     "data": {
      "text/plain": [
       "DecisionTreeClassifier(max_depth=4)"
      ]
     },
     "execution_count": 19,
     "metadata": {},
     "output_type": "execute_result"
    }
   ],
   "source": [
    "model = DecisionTreeClassifier(max_depth = 4)  # 의사결정트리 모델\n",
    "model.fit(X_train, y_train)  # 모델 학습"
   ]
  },
  {
   "cell_type": "code",
   "execution_count": 18,
   "id": "91a3f208",
   "metadata": {
    "scrolled": true
   },
   "outputs": [
    {
     "data": {
      "text/plain": [
       "array([1, 2, 2, 0, 2, 2, 0, 2, 0, 1, 1, 1, 2, 2, 0, 0, 2, 2, 0, 0, 1, 2,\n",
       "       0, 1, 1, 2, 1, 1, 1, 2])"
      ]
     },
     "execution_count": 18,
     "metadata": {},
     "output_type": "execute_result"
    }
   ],
   "source": [
    "model.predict(X_test)  # 모델로 테스트 셋 데이터 예측"
   ]
  },
  {
   "cell_type": "code",
   "execution_count": 21,
   "id": "7e4cdeaf",
   "metadata": {
    "scrolled": true
   },
   "outputs": [
    {
     "data": {
      "text/plain": [
       "0.9"
      ]
     },
     "execution_count": 21,
     "metadata": {},
     "output_type": "execute_result"
    }
   ],
   "source": [
    "model.score(X_test, y_test)  # 모델 성능 평가"
   ]
  },
  {
   "cell_type": "code",
   "execution_count": 26,
   "id": "1dbff78e",
   "metadata": {},
   "outputs": [],
   "source": [
    "importances = model.feature_importances_"
   ]
  },
  {
   "cell_type": "code",
   "execution_count": 27,
   "id": "e9cd9fb3",
   "metadata": {
    "scrolled": false
   },
   "outputs": [
    {
     "data": {
      "text/plain": [
       "([<matplotlib.axis.XTick at 0x1dccb3cc6d0>,\n",
       "  <matplotlib.axis.XTick at 0x1dccb3cc6a0>,\n",
       "  <matplotlib.axis.XTick at 0x1dcc5c1fa60>,\n",
       "  <matplotlib.axis.XTick at 0x1dccbac0940>],\n",
       " [Text(0, 0, 'sepal width (cm)'),\n",
       "  Text(1, 0, 'sepal length (cm)'),\n",
       "  Text(2, 0, 'petal width (cm)'),\n",
       "  Text(3, 0, 'petal length (cm)')])"
      ]
     },
     "execution_count": 27,
     "metadata": {},
     "output_type": "execute_result"
    },
    {
     "data": {
      "image/png": "[encoded data removed]",
      "text/plain": [
       "<Figure size 432x288 with 1 Axes>"
      ]
     },
     "metadata": {
      "needs_background": "light"
     },
     "output_type": "display_data"
    }
   ],
   "source": [
    "indices_sorted = np.argsort(importances)\n",
    "\n",
    "plt.figure()\n",
    "plt.title(\"Feature importances\")\n",
    "plt.bar(range(len(importances)), importances[indices_sorted])\n",
    "plt.xticks(range(len(importances)), X.columns[indices_sorted], rotation = 90)"
   ]
  },
  {
   "cell_type": "code",
   "execution_count": 29,
   "id": "8d5905ad",
   "metadata": {
    "scrolled": false
   },
   "outputs": [
    {
     "data": {
      "text/plain": [
       "<function matplotlib.pyplot.show(close=None, block=None)>"
      ]
     },
     "execution_count": 29,
     "metadata": {},
     "output_type": "execute_result"
    },
    {
     "data": {
      "image/png": "[encoded data removed]",
      "text/plain": [
       "<Figure size 1080x1080 with 1 Axes>"
      ]
     },
     "metadata": {
      "needs_background": "light"
     },
     "output_type": "display_data"
    }
   ],
   "source": [
    "# 의사 결정 트리 시각화\n",
    "from sklearn.datasets import load_iris\n",
    "from sklearn import tree\n",
    "import matplotlib.pyplot as plt\n",
    "\n",
    "X, y = load_iris(return_X_y=True)\n",
    "clf = tree.DecisionTreeClassifier()\n",
    "clf = clf.fit(X, y)\n",
    "plt.figure(figsize=[15, 15])\n",
    "tree.plot_tree(clf)\n",
    "plt.show"
   ]
  },
  {
   "cell_type": "markdown",
   "id": "aff9b087",
   "metadata": {},
   "source": [
    "#### 3) 결정 트리의 단점\n",
    "- 결정 트리는 부정확성 때문에 이상적인 머신 러닝 모델이 되기 힘들다.\n",
    "- 하지만, **결정 트리를 응용하면 성능이 좋은 다른 모델들을 만들 수 있다.**"
   ]
  },
  {
   "cell_type": "markdown",
   "id": "f786a13f",
   "metadata": {},
   "source": [
    "---"
   ]
  },
  {
   "cell_type": "markdown",
   "id": "a7b0e030",
   "metadata": {},
   "source": [
    "## 11. 앙상블(ensemble)\n",
    "- 여러 독립적인 객체들이 만들어내는 조화로운 단체\n",
    "- 하나의 모델을 쓰는 대신, 수많은 모델들을 사용해 종합적인 판단(예측)을 하는 것"
   ]
  },
  {
   "cell_type": "markdown",
   "id": "89c17634",
   "metadata": {},
   "source": [
    "#### 1) 랜덤 포레스트(Random Forest)\n",
    "- 트리 모델들을 임의로 많이 만들어서 다수결 투표로 결과를 종합하는 알고리즘"
   ]
  },
  {
   "cell_type": "markdown",
   "id": "a0ca2863",
   "metadata": {},
   "source": [
    "- 1) **Bootstrapping**을 통해 임의로 데이터 셋을 만든다.</br></br>\n",
    "    - 갖고 있는 데이터 셋으로 랜덤 샘플링을 통해 다른 데이터 셋(Bootstrap dataset)을 만들어내는 방법\n",
    "    - 모든 모델을 정확히 똑같은 데이터 셋으로 학습시키면, 결과 다양성이 떨어질 수 있기 때문에,</br>\n",
    "    이 문제를 예방하기 위해 각 모델을 임의로 만들어준 Bootstrap 데이터 셋으로 학습시킨다.</br></br>\n",
    "    - Bootstrap 데이터 셋을 만들어 내고, 모델들의 결정을 합친다.(Aggregating) $\\qquad \\Rightarrow \\qquad$ **\"Bagging\"**</br></br>\n",
    "    \n",
    "- 2) 결정 트리를 만들 때 질문 노드들을 임의로 만든다.</br></br>\n",
    "- 3) bootstrap 데이터를 써서 많은 수의 트리들을 임의로 만드는 것이 랜덤 포레스트이다."
   ]
  },
  {
   "cell_type": "code",
   "execution_count": 36,
   "id": "14f7c2e2",
   "metadata": {},
   "outputs": [],
   "source": [
    "from sklearn.datasets import load_iris\n",
    "from sklearn.model_selection import train_test_split\n",
    "from sklearn.ensemble import RandomForestClassifier\n",
    "\n",
    "import pandas as pd"
   ]
  },
  {
   "cell_type": "code",
   "execution_count": 37,
   "id": "c39d3e04",
   "metadata": {},
   "outputs": [],
   "source": [
    "iris_data = load_iris()\n",
    "\n",
    "# 데이터 셋 dataframe에 저장\n",
    "X = pd.DataFrame(iris_data.data, columns = iris_data.feature_names)\n",
    "y = pd.DataFrame(iris_data.target, columns = ['class'])\n",
    "\n",
    "X_train, X_test, y_train, y_test = train_test_split(X, y, test_size = 0.2, random_state = 5)\n",
    "y_train = y_train.values.ravel()"
   ]
  },
  {
   "cell_type": "code",
   "execution_count": 39,
   "id": "23f5632f",
   "metadata": {},
   "outputs": [
    {
     "data": {
      "text/plain": [
       "RandomForestClassifier(max_depth=4)"
      ]
     },
     "execution_count": 39,
     "metadata": {},
     "output_type": "execute_result"
    }
   ],
   "source": [
    "model = RandomForestClassifier(n_estimators = 100, max_depth = 4)  # 100개의 결정트리 / 최대 깊이 4\n",
    "model.fit(X_train, y_train)"
   ]
  },
  {
   "cell_type": "code",
   "execution_count": 40,
   "id": "fc76af28",
   "metadata": {
    "scrolled": true
   },
   "outputs": [
    {
     "data": {
      "text/plain": [
       "array([1, 1, 2, 0, 2, 1, 0, 2, 0, 1, 1, 1, 2, 2, 0, 0, 2, 2, 0, 0, 1, 2,\n",
       "       0, 1, 1, 2, 1, 1, 1, 2])"
      ]
     },
     "execution_count": 40,
     "metadata": {},
     "output_type": "execute_result"
    }
   ],
   "source": [
    "y_predict = model.predict(X_test)"
   ]
  },
  {
   "cell_type": "code",
   "execution_count": 42,
   "id": "b85e3f63",
   "metadata": {
    "scrolled": true
   },
   "outputs": [
    {
     "data": {
      "text/plain": [
       "0.9"
      ]
     },
     "execution_count": 42,
     "metadata": {},
     "output_type": "execute_result"
    }
   ],
   "source": [
    "model.score(X_test, y_test)"
   ]
  },
  {
   "cell_type": "code",
   "execution_count": 43,
   "id": "5de6b7fe",
   "metadata": {
    "scrolled": true
   },
   "outputs": [
    {
     "data": {
      "text/plain": [
       "array([0.0991553 , 0.03500691, 0.3854203 , 0.48041749])"
      ]
     },
     "execution_count": 43,
     "metadata": {},
     "output_type": "execute_result"
    }
   ],
   "source": [
    "model.feature_importances_"
   ]
  },
  {
   "cell_type": "markdown",
   "id": "5c9d2a15",
   "metadata": {},
   "source": [
    "#### 2) Boosting\n",
    "- 일부러 성능이 안 좋은 모델들을 사용한다. (안 좋은 **weak learner들을 합쳐서 성능을 극대화**한다.)\n",
    "- 더 먼저 만든 모델들의 성능이, 뒤에 있는 모델이 사용할 데이터 셋을 바꾼다.\n",
    "- **모델들의 예측을 종합할 때, 성능이 좋은 모델의 예측을 더 반영한다.**\n",
    "\n",
    "    1) **에다 부스트(Adaboost)**\n",
    "    - 성능이 좋지 않은 결정 스텀프를 만든다.(weak learners)  (※ 스텀프 : 노드 하나에 두 개의 리프(leaf)를 가진 트리)\n",
    "    - 각 스텀프는 전에 왔던 스텀프들이 틀린 데이터들을 더 중요하게 맞춘다.\n",
    "    - 예측을 종합할 때, 성능이 좋은 스텀프의 의견 비중을 더 높게 반영한다.</br></br>\n",
    "    \n",
    "    - 스텀프)</br>\n",
    "        - 첫 번째 스텀프는 결정 트리를 만들 때처럼 지니 불순도를 써서 만든다.</br>\n",
    "        - 모든 데이터는 중요도가 있다. 중요도는 total_error를 계산하는데 사용한다. ( **※ 중요도의 총합은 1** )</br>\n",
    "        - $total\\_error$를 이용하면 스텀프의 성능을 계산할 수 있다.</br></br>\n",
    "    - 스텀프 성능 ).</br></br>\n",
    "    $$\\frac{1}{2}log(\\frac{1-total\\_error}{total\\_error})$$</br>\n",
    "    $$(\\; total\\_error \\;:\\; 틀리게 \\;예측한 \\;데이터 \\;중요도의 \\;합 \\;)$$</br>\n",
    "    예시) $\\quad$- 열이 37.5℃ 보다 높을 때, 독감으로 판정\n",
    "    |열|기침|몸살|지속 일|독감|중요도|\n",
    "    |:-:|:-:|:-:|:-:|:-:|:-:|\n",
    "    |38.5|아니오|예|10|예|1/7|\n",
    "    |37.8|예|예|5|예|1/7|\n",
    "    |36.8|예|아니오|8|아니오|1/7|\n",
    "    |37.6|아니오|예|2|아니오|1/7|\n",
    "    |38.0|예|아니오|7|예|1/7|\n",
    "    |37.8|아니오|아니오|10|아니오|1/7|\n",
    "    |39.0|아니오|예|9|예|1/7|</br></br>\n",
    "    \n",
    "    $$total\\_error\\; = \\frac{2}{7}\\;, \\quad 스텀프 \\;성능 \\;:\\; 0.458$$</br></br>\n",
    "    \n",
    "    - 데이터 중요도 바꾸기</br></br>\n",
    "        - 틀리게 예측한 데이터 중요도 : $weight_{new} = weight_{old} \\times e^{p_{tree}} \\qquad (P_{tree} \\;=\\; 스텀프 \\;성능)$</br></br>\n",
    "        - 맞게 예측한 데이터 중요도 : $weight_{new} = weight_{old} \\times e^{-p_{tree}}$</br></br>\n",
    "     \n",
    "    |열|기침|몸살|지속 일|독감|중요도|\n",
    "    |:-:|:-:|:-:|:-:|:-:|:-:|\n",
    "    |38.5|아니오|예|10|예|0.1|\n",
    "    |37.8|예|예|5|예|0.1|\n",
    "    |36.8|예|아니오|8|아니오|0.1|\n",
    "    |37.6|아니오|예|2|아니오|0.250|\n",
    "    |38.0|예|아니오|7|예|0.1|\n",
    "    |37.8|아니오|아니오|10|아니오|0.250|\n",
    "    |39.0|아니오|예|9|예|0.1|\n",
    "    </br></br>\n",
    "    - 그리고, 전 모델이 틀리게 예측한 데이터의 중요도는 올려주고, 맞게 예측한 데이터의 중요도는 낮춘다.\n",
    "    - 그 다음에는 데이터의 중요도를 써서, 새로운 데이터 셋을 만든다.\n",
    "    - 새로운 데이터 셋으로 스텀프를 만들고, 이 스텀프의 성능을 계산한다.\n",
    "    - 이 과정을 반복한다.\n",
    "    "
   ]
  },
  {
   "cell_type": "code",
   "execution_count": 50,
   "id": "c766f416",
   "metadata": {},
   "outputs": [],
   "source": [
    "from sklearn.datasets import load_iris\n",
    "from sklearn.model_selection import train_test_split\n",
    "from sklearn.ensemble import AdaBoostClassifier\n",
    "\n",
    "import pandas as pd"
   ]
  },
  {
   "cell_type": "code",
   "execution_count": 52,
   "id": "61028ae5",
   "metadata": {},
   "outputs": [],
   "source": [
    "iris_data = load_iris()\n",
    "\n",
    "X = pd.DataFrame(iris_data.data, columns = iris_data.feature_names)\n",
    "y = pd.DataFrame(iris_data.target, columns = ['class'])\n",
    "\n",
    "X_train, X_test, y_train, y_test = train_test_split(X, y, test_size = 0.2, random_state = 5)\n",
    "y_train = y_train.values.ravel()"
   ]
  },
  {
   "cell_type": "code",
   "execution_count": 53,
   "id": "53694cfb",
   "metadata": {},
   "outputs": [],
   "source": [
    "model = AdaBoostClassifier(n_estimators = 100)  # 100개의 결정 스탬프"
   ]
  },
  {
   "cell_type": "code",
   "execution_count": 54,
   "id": "a60a376f",
   "metadata": {
    "scrolled": true
   },
   "outputs": [
    {
     "data": {
      "text/plain": [
       "AdaBoostClassifier(n_estimators=100)"
      ]
     },
     "execution_count": 54,
     "metadata": {},
     "output_type": "execute_result"
    }
   ],
   "source": [
    "model.fit(X_train, y_train)"
   ]
  },
  {
   "cell_type": "code",
   "execution_count": 55,
   "id": "7b1087a5",
   "metadata": {},
   "outputs": [],
   "source": [
    "prediction = model.predict(X_test)"
   ]
  },
  {
   "cell_type": "code",
   "execution_count": 56,
   "id": "9c00cc5f",
   "metadata": {
    "scrolled": true
   },
   "outputs": [
    {
     "data": {
      "text/plain": [
       "0.8666666666666667"
      ]
     },
     "execution_count": 56,
     "metadata": {},
     "output_type": "execute_result"
    }
   ],
   "source": [
    "model.score(X_test, y_test)"
   ]
  },
  {
   "cell_type": "code",
   "execution_count": 59,
   "id": "ec1b0ac4",
   "metadata": {
    "scrolled": true
   },
   "outputs": [
    {
     "data": {
      "text/plain": [
       "[DecisionTreeClassifier(max_depth=1, random_state=1984008485),\n",
       " DecisionTreeClassifier(max_depth=1, random_state=240183855),\n",
       " DecisionTreeClassifier(max_depth=1, random_state=2095683425),\n",
       " DecisionTreeClassifier(max_depth=1, random_state=368617363),\n",
       " DecisionTreeClassifier(max_depth=1, random_state=1509256901),\n",
       " DecisionTreeClassifier(max_depth=1, random_state=1674855326),\n",
       " DecisionTreeClassifier(max_depth=1, random_state=1112322464),\n",
       " DecisionTreeClassifier(max_depth=1, random_state=491843191),\n",
       " DecisionTreeClassifier(max_depth=1, random_state=1194375566),\n",
       " DecisionTreeClassifier(max_depth=1, random_state=1594843676),\n",
       " DecisionTreeClassifier(max_depth=1, random_state=196863918),\n",
       " DecisionTreeClassifier(max_depth=1, random_state=1399220390),\n",
       " DecisionTreeClassifier(max_depth=1, random_state=540094856),\n",
       " DecisionTreeClassifier(max_depth=1, random_state=1588134391),\n",
       " DecisionTreeClassifier(max_depth=1, random_state=910543875),\n",
       " DecisionTreeClassifier(max_depth=1, random_state=1436765245),\n",
       " DecisionTreeClassifier(max_depth=1, random_state=280007517),\n",
       " DecisionTreeClassifier(max_depth=1, random_state=72093843),\n",
       " DecisionTreeClassifier(max_depth=1, random_state=884588503),\n",
       " DecisionTreeClassifier(max_depth=1, random_state=1235046095),\n",
       " DecisionTreeClassifier(max_depth=1, random_state=1104954616),\n",
       " DecisionTreeClassifier(max_depth=1, random_state=82703083),\n",
       " DecisionTreeClassifier(max_depth=1, random_state=101858786),\n",
       " DecisionTreeClassifier(max_depth=1, random_state=1847493181),\n",
       " DecisionTreeClassifier(max_depth=1, random_state=1850978563),\n",
       " DecisionTreeClassifier(max_depth=1, random_state=1821028954),\n",
       " DecisionTreeClassifier(max_depth=1, random_state=522419970),\n",
       " DecisionTreeClassifier(max_depth=1, random_state=2082635117),\n",
       " DecisionTreeClassifier(max_depth=1, random_state=1862532309),\n",
       " DecisionTreeClassifier(max_depth=1, random_state=1688838450),\n",
       " DecisionTreeClassifier(max_depth=1, random_state=1110158281),\n",
       " DecisionTreeClassifier(max_depth=1, random_state=1235158005),\n",
       " DecisionTreeClassifier(max_depth=1, random_state=282329498),\n",
       " DecisionTreeClassifier(max_depth=1, random_state=323988749),\n",
       " DecisionTreeClassifier(max_depth=1, random_state=344667579),\n",
       " DecisionTreeClassifier(max_depth=1, random_state=1907292069),\n",
       " DecisionTreeClassifier(max_depth=1, random_state=1581247254),\n",
       " DecisionTreeClassifier(max_depth=1, random_state=1354412220),\n",
       " DecisionTreeClassifier(max_depth=1, random_state=1554120546),\n",
       " DecisionTreeClassifier(max_depth=1, random_state=1885809837),\n",
       " DecisionTreeClassifier(max_depth=1, random_state=713903168),\n",
       " DecisionTreeClassifier(max_depth=1, random_state=1639518253),\n",
       " DecisionTreeClassifier(max_depth=1, random_state=1198752043),\n",
       " DecisionTreeClassifier(max_depth=1, random_state=313830138),\n",
       " DecisionTreeClassifier(max_depth=1, random_state=58600891),\n",
       " DecisionTreeClassifier(max_depth=1, random_state=1301734338),\n",
       " DecisionTreeClassifier(max_depth=1, random_state=973219640),\n",
       " DecisionTreeClassifier(max_depth=1, random_state=107604776),\n",
       " DecisionTreeClassifier(max_depth=1, random_state=1737462015),\n",
       " DecisionTreeClassifier(max_depth=1, random_state=541578740),\n",
       " DecisionTreeClassifier(max_depth=1, random_state=1743593489),\n",
       " DecisionTreeClassifier(max_depth=1, random_state=1753392431),\n",
       " DecisionTreeClassifier(max_depth=1, random_state=542511459),\n",
       " DecisionTreeClassifier(max_depth=1, random_state=1998814344),\n",
       " DecisionTreeClassifier(max_depth=1, random_state=413187081),\n",
       " DecisionTreeClassifier(max_depth=1, random_state=2119533428),\n",
       " DecisionTreeClassifier(max_depth=1, random_state=1940330871),\n",
       " DecisionTreeClassifier(max_depth=1, random_state=771276498),\n",
       " DecisionTreeClassifier(max_depth=1, random_state=1767635657),\n",
       " DecisionTreeClassifier(max_depth=1, random_state=949443179),\n",
       " DecisionTreeClassifier(max_depth=1, random_state=1266092299),\n",
       " DecisionTreeClassifier(max_depth=1, random_state=260981311),\n",
       " DecisionTreeClassifier(max_depth=1, random_state=1509761187),\n",
       " DecisionTreeClassifier(max_depth=1, random_state=115005395),\n",
       " DecisionTreeClassifier(max_depth=1, random_state=1687164416),\n",
       " DecisionTreeClassifier(max_depth=1, random_state=284535789),\n",
       " DecisionTreeClassifier(max_depth=1, random_state=1377423430),\n",
       " DecisionTreeClassifier(max_depth=1, random_state=1635006521),\n",
       " DecisionTreeClassifier(max_depth=1, random_state=1772352894),\n",
       " DecisionTreeClassifier(max_depth=1, random_state=860316899),\n",
       " DecisionTreeClassifier(max_depth=1, random_state=861188389),\n",
       " DecisionTreeClassifier(max_depth=1, random_state=213899228),\n",
       " DecisionTreeClassifier(max_depth=1, random_state=2103772165),\n",
       " DecisionTreeClassifier(max_depth=1, random_state=1547337656),\n",
       " DecisionTreeClassifier(max_depth=1, random_state=1115797197),\n",
       " DecisionTreeClassifier(max_depth=1, random_state=1028064365),\n",
       " DecisionTreeClassifier(max_depth=1, random_state=107083954),\n",
       " DecisionTreeClassifier(max_depth=1, random_state=238972554),\n",
       " DecisionTreeClassifier(max_depth=1, random_state=216194755),\n",
       " DecisionTreeClassifier(max_depth=1, random_state=270816130),\n",
       " DecisionTreeClassifier(max_depth=1, random_state=452503341),\n",
       " DecisionTreeClassifier(max_depth=1, random_state=881582284),\n",
       " DecisionTreeClassifier(max_depth=1, random_state=801326610),\n",
       " DecisionTreeClassifier(max_depth=1, random_state=1688212940),\n",
       " DecisionTreeClassifier(max_depth=1, random_state=1164457904),\n",
       " DecisionTreeClassifier(max_depth=1, random_state=1511352754),\n",
       " DecisionTreeClassifier(max_depth=1, random_state=884226490),\n",
       " DecisionTreeClassifier(max_depth=1, random_state=826478617),\n",
       " DecisionTreeClassifier(max_depth=1, random_state=1060027955),\n",
       " DecisionTreeClassifier(max_depth=1, random_state=283803318),\n",
       " DecisionTreeClassifier(max_depth=1, random_state=1780548912),\n",
       " DecisionTreeClassifier(max_depth=1, random_state=1954318528),\n",
       " DecisionTreeClassifier(max_depth=1, random_state=1199913353),\n",
       " DecisionTreeClassifier(max_depth=1, random_state=951887960),\n",
       " DecisionTreeClassifier(max_depth=1, random_state=371098156),\n",
       " DecisionTreeClassifier(max_depth=1, random_state=1124610544),\n",
       " DecisionTreeClassifier(max_depth=1, random_state=283167372),\n",
       " DecisionTreeClassifier(max_depth=1, random_state=31383568),\n",
       " DecisionTreeClassifier(max_depth=1, random_state=1682972116),\n",
       " DecisionTreeClassifier(max_depth=1, random_state=608886021)]"
      ]
     },
     "execution_count": 59,
     "metadata": {},
     "output_type": "execute_result"
    }
   ],
   "source": [
    "model.estimators_"
   ]
  }
 ],
 "metadata": {
  "kernelspec": {
   "display_name": "Python 3 (ipykernel)",
   "language": "python",
   "name": "python3"
  },
  "language_info": {
   "codemirror_mode": {
    "name": "ipython",
    "version": 3
   },
   "file_extension": ".py",
   "mimetype": "text/x-python",
   "name": "python",
   "nbconvert_exporter": "python",
   "pygments_lexer": "ipython3",
   "version": "3.9.7"
  }
 },
 "nbformat": 4,
 "nbformat_minor": 5
}
